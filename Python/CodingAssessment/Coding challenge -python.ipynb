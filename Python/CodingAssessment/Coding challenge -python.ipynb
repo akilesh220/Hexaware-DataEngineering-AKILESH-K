{
 "cells": [
  {
   "cell_type": "code",
   "execution_count": 16,
   "id": "5d3d0104",
   "metadata": {},
   "outputs": [
    {
     "name": "stdout",
     "output_type": "stream",
     "text": [
      "branch,cgpa,name,year\n",
      "COE,9.0,Nikhil,2\n",
      "COE,9.1,Sanchit,2\n",
      "IT,9.3,Aditya,2\n",
      "SE,9.5,Sagar,1\n",
      "MCE,7.8,Prateek,3\n",
      "EP,9.1,Sahil,2\n",
      "\n"
     ]
    }
   ],
   "source": [
    "import pandas as pd\n",
    "\n",
    "csv_file_path = 'output.csv'\n",
    "\n",
    "with open(csv_file_path, 'r') as file:\n",
    "    content = file.read()\n",
    "    print(content)"
   ]
  },
  {
   "cell_type": "code",
   "execution_count": 15,
   "id": "d70aa9be",
   "metadata": {},
   "outputs": [
    {
     "name": "stdout",
     "output_type": "stream",
     "text": [
      "  branch  cgpa     name  year\n",
      "0    COE   9.0   Nikhil     2\n",
      "1    COE   9.1  Sanchit     2\n",
      "2     IT   9.3   Aditya     2\n",
      "3     SE   9.5    Sagar     1\n",
      "4    MCE   7.8  Prateek     3\n",
      "5     EP   9.1    Sahil     2\n"
     ]
    }
   ],
   "source": [
    "import pandas as pd\n",
    "\n",
    "path = 'output.csv'\n",
    "\n",
    "df = pd.read_csv(path)\n",
    "\n",
    "print(df)"
   ]
  },
  {
   "cell_type": "code",
   "execution_count": 17,
   "id": "08ee60f6",
   "metadata": {},
   "outputs": [
    {
     "name": "stdout",
     "output_type": "stream",
     "text": [
      "\n",
      "Filtered DataFrame:\n",
      "  branch  cgpa     name  year\n",
      "0    COE   9.0   Nikhil     2\n",
      "1    COE   9.1  Sanchit     2\n",
      "2     IT   9.3   Aditya     2\n",
      "5     EP   9.1    Sahil     2\n"
     ]
    }
   ],
   "source": [
    "filtered_df = df.query('year > 1 and cgpa > 8.0')\n",
    "\n",
    "print(\"\\nFiltered DataFrame:\")\n",
    "print(filtered_df)"
   ]
  },
  {
   "cell_type": "code",
   "execution_count": 18,
   "id": "7b3a233a",
   "metadata": {},
   "outputs": [
    {
     "name": "stdout",
     "output_type": "stream",
     "text": [
      "[5, 7, 97, 77, 23, 73, 61]\n"
     ]
    }
   ],
   "source": [
    "li = [5, 7, 22, 97, 54, 62, 77, 23, 73, 61]\n",
    " \n",
    "final_list = list(filter(lambda x: (x % 2 != 0), li))\n",
    "print(final_list)"
   ]
  },
  {
   "cell_type": "code",
   "execution_count": 19,
   "id": "8b59643b",
   "metadata": {},
   "outputs": [
    {
     "name": "stdout",
     "output_type": "stream",
     "text": [
      "[15, 21, 66, 291, 162, 186, 231, 69, 219, 183]\n"
     ]
    }
   ],
   "source": [
    "\n",
    "li = [5, 7, 22, 97, 54, 62, 77, 23, 73, 61]\n",
    " \n",
    "final_list = list(map(lambda x: x*3, li))\n",
    "print(final_list)"
   ]
  },
  {
   "cell_type": "code",
   "execution_count": 20,
   "id": "56875bd4",
   "metadata": {},
   "outputs": [
    {
     "name": "stdout",
     "output_type": "stream",
     "text": [
      "193\n"
     ]
    }
   ],
   "source": [
    "from functools import reduce\n",
    "li = [5, 8, 10, 20, 50, 100]\n",
    "sum = reduce((lambda x, y: x + y), li)\n",
    "print(sum)"
   ]
  },
  {
   "cell_type": "code",
   "execution_count": 21,
   "id": "82e0899b",
   "metadata": {},
   "outputs": [
    {
     "name": "stdout",
     "output_type": "stream",
     "text": [
      "{'name': 'John', 'age': 25, 'city': 'New York'}\n"
     ]
    }
   ],
   "source": [
    "import json\n",
    "\n",
    "json_string = '{\"name\": \"John\", \"age\": 25, \"city\": \"New York\"}'\n",
    "\n",
    "python_dict = json.loads(json_string)\n",
    "\n",
    "print(python_dict)"
   ]
  },
  {
   "cell_type": "code",
   "execution_count": 22,
   "id": "7d275922",
   "metadata": {},
   "outputs": [
    {
     "name": "stdout",
     "output_type": "stream",
     "text": [
      "[1, 2, 3, 4, 5]\n"
     ]
    }
   ],
   "source": [
    "import json\n",
    "\n",
    "json_array_string = '[1, 2, 3, 4, 5]'\n",
    "\n",
    "python_list = json.loads(json_array_string)\n",
    "\n",
    "print(python_list)"
   ]
  },
  {
   "cell_type": "code",
   "execution_count": 31,
   "id": "9caea1de",
   "metadata": {},
   "outputs": [
    {
     "name": "stdout",
     "output_type": "stream",
     "text": [
      "           cgpa      year\n",
      "count  6.000000  6.000000\n",
      "mean   8.966667  2.000000\n",
      "std    0.598888  0.632456\n",
      "min    7.800000  1.000000\n",
      "25%    9.025000  2.000000\n",
      "50%    9.100000  2.000000\n",
      "75%    9.250000  2.000000\n",
      "max    9.500000  3.000000\n"
     ]
    }
   ],
   "source": [
    "print(df.describe())"
   ]
  },
  {
   "cell_type": "code",
   "execution_count": null,
   "id": "3e6202b6",
   "metadata": {},
   "outputs": [],
   "source": []
  }
 ],
 "metadata": {
  "kernelspec": {
   "display_name": "Python 3 (ipykernel)",
   "language": "python",
   "name": "python3"
  },
  "language_info": {
   "codemirror_mode": {
    "name": "ipython",
    "version": 3
   },
   "file_extension": ".py",
   "mimetype": "text/x-python",
   "name": "python",
   "nbconvert_exporter": "python",
   "pygments_lexer": "ipython3",
   "version": "3.11.5"
  }
 },
 "nbformat": 4,
 "nbformat_minor": 5
}
