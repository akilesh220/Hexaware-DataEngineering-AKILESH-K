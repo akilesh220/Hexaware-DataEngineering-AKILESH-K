{
 "cells": [
  {
   "cell_type": "code",
   "execution_count": null,
   "id": "0aca2aae",
   "metadata": {},
   "outputs": [],
   "source": []
  },
  {
   "cell_type": "code",
   "execution_count": 1,
   "id": "fb5df53d",
   "metadata": {},
   "outputs": [
    {
     "name": "stdout",
     "output_type": "stream",
     "text": [
      "5\n",
      "John\n"
     ]
    }
   ],
   "source": [
    "x = 5\n",
    "y = \"John\"\n",
    "print(x)\n",
    "print(y)"
   ]
  },
  {
   "cell_type": "code",
   "execution_count": 2,
   "id": "2aaef18d",
   "metadata": {},
   "outputs": [],
   "source": [
    "a = int(3)    \n",
    "z = float(3)"
   ]
  },
  {
   "cell_type": "code",
   "execution_count": 3,
   "id": "d1591638",
   "metadata": {},
   "outputs": [],
   "source": [
    "n = [\"apple\", \"banana\", \"cherry\"]\n",
    "m = {\"apple\", \"banana\", \"cherry\"}\n"
   ]
  },
  {
   "cell_type": "code",
   "execution_count": 4,
   "id": "d6ef59a0",
   "metadata": {},
   "outputs": [
    {
     "name": "stdout",
     "output_type": "stream",
     "text": [
      "<class 'float'>\n",
      "True\n"
     ]
    }
   ],
   "source": [
    "print(type(z))\n",
    "print(10 > 9)"
   ]
  },
  {
   "cell_type": "code",
   "execution_count": 5,
   "id": "ddb5749e",
   "metadata": {},
   "outputs": [
    {
     "name": "stdout",
     "output_type": "stream",
     "text": [
      "15\n",
      "2\n",
      "1.6666666666666667\n",
      "2\n",
      "125\n",
      "1\n"
     ]
    }
   ],
   "source": [
    "i = 5\n",
    "j = 3\n",
    "print(i * j)\n",
    "print(i - j\t)\n",
    "print(i / j\t)\n",
    "print(i % j\t)\n",
    "print(i ** j)\n",
    "print(i // j)"
   ]
  },
  {
   "cell_type": "code",
   "execution_count": 6,
   "id": "6a59f87c",
   "metadata": {},
   "outputs": [
    {
     "name": "stdout",
     "output_type": "stream",
     "text": [
      "{'brand': 'Ford', 'model': 'Mustang', 'year': 1964}\n"
     ]
    }
   ],
   "source": [
    "thisdict = {\n",
    "  \"brand\": \"Ford\",\n",
    "  \"model\": \"Mustang\",\n",
    "  \"year\": 1964\n",
    "}\n",
    "print(thisdict)"
   ]
  },
  {
   "cell_type": "code",
   "execution_count": 7,
   "id": "159ef681",
   "metadata": {},
   "outputs": [
    {
     "name": "stdout",
     "output_type": "stream",
     "text": [
      "h is greater than k\n"
     ]
    }
   ],
   "source": [
    "h = 200\n",
    "k = 33\n",
    "if h > k:\n",
    "  print(\"h is greater than k\")\n",
    "elif h == k:\n",
    "  print(\"h and k are equal\")\n",
    "else:\n",
    "  print(\"h is greater than k\")"
   ]
  },
  {
   "cell_type": "code",
   "execution_count": 8,
   "id": "88ee1280",
   "metadata": {},
   "outputs": [
    {
     "name": "stdout",
     "output_type": "stream",
     "text": [
      "1\n",
      "2\n",
      "3\n"
     ]
    }
   ],
   "source": [
    "l = 1\n",
    "while l < 6:\n",
    "  print(l)\n",
    "  if l == 3:\n",
    "    break\n",
    "  l += 1"
   ]
  },
  {
   "cell_type": "code",
   "execution_count": 9,
   "id": "68945457",
   "metadata": {},
   "outputs": [
    {
     "name": "stdout",
     "output_type": "stream",
     "text": [
      "2\n",
      "3\n",
      "4\n",
      "5\n"
     ]
    }
   ],
   "source": [
    "for f in range(2, 6):\n",
    "  print(f)"
   ]
  },
  {
   "cell_type": "code",
   "execution_count": 10,
   "id": "8eccc17b",
   "metadata": {},
   "outputs": [
    {
     "name": "stdout",
     "output_type": "stream",
     "text": [
      "<__main__.Person object at 0x0000015DA5820990>\n"
     ]
    }
   ],
   "source": [
    "class Person:\n",
    "  def __init__(self, name, age):\n",
    "    self.name = name\n",
    "    self.age = age\n",
    "\n",
    "p1 = Person(\"John\", 36)\n",
    "\n",
    "print(p1)\n"
   ]
  },
  {
   "cell_type": "code",
   "execution_count": 11,
   "id": "ae7c74ea",
   "metadata": {},
   "outputs": [],
   "source": [
    "class Student(Person):\n",
    "  def __init__(self, fname, lname):\n",
    "    super().__init__(fname, lname)\n",
    "    self.graduationyear = 2019"
   ]
  },
  {
   "cell_type": "code",
   "execution_count": 12,
   "id": "2612aa55",
   "metadata": {},
   "outputs": [
    {
     "name": "stdout",
     "output_type": "stream",
     "text": [
      "2024\n",
      "Tuesday\n"
     ]
    }
   ],
   "source": [
    "import datetime\n",
    "\n",
    "k = datetime.datetime.now()\n",
    "\n",
    "print(k.year)\n",
    "print(k.strftime(\"%A\"))"
   ]
  },
  {
   "cell_type": "code",
   "execution_count": 13,
   "id": "ab338ef2",
   "metadata": {},
   "outputs": [
    {
     "name": "stdout",
     "output_type": "stream",
     "text": [
      "Drive!\n",
      "Sail!\n",
      "Fly!\n"
     ]
    }
   ],
   "source": [
    "class Car:\n",
    "  def __init__(self, brand, model):\n",
    "    self.brand = brand\n",
    "    self.model = model\n",
    "\n",
    "  def move(self):\n",
    "    print(\"Drive!\")\n",
    "\n",
    "class Boat:\n",
    "  def __init__(self, brand, model):\n",
    "    self.brand = brand\n",
    "    self.model = model\n",
    "\n",
    "  def move(self):\n",
    "    print(\"Sail!\")\n",
    "\n",
    "class Plane:\n",
    "  def __init__(self, brand, model):\n",
    "    self.brand = brand\n",
    "    self.model = model\n",
    "\n",
    "  def move(self):\n",
    "    print(\"Fly!\")\n",
    "\n",
    "car1 = Car(\"Ford\", \"Mustang\")       \n",
    "boat1 = Boat(\"Ibiza\", \"Touring 20\") \n",
    "plane1 = Plane(\"Boeing\", \"747\")     \n",
    "\n",
    "for x in (car1, boat1, plane1):\n",
    "  x.move()"
   ]
  },
  {
   "cell_type": "code",
   "execution_count": null,
   "id": "69392630",
   "metadata": {},
   "outputs": [],
   "source": []
  },
  {
   "cell_type": "code",
   "execution_count": null,
   "id": "17edd3b0",
   "metadata": {},
   "outputs": [],
   "source": []
  },
  {
   "cell_type": "code",
   "execution_count": 21,
   "id": "30ec3e86",
   "metadata": {},
   "outputs": [
    {
     "name": "stdout",
     "output_type": "stream",
     "text": [
      "['C:\\\\Users\\\\Akilesh K', 'C:\\\\Users\\\\Akilesh K\\\\anaconda3\\\\python311.zip', 'C:\\\\Users\\\\Akilesh K\\\\anaconda3\\\\DLLs', 'C:\\\\Users\\\\Akilesh K\\\\anaconda3\\\\Lib', 'C:\\\\Users\\\\Akilesh K\\\\anaconda3', '', 'C:\\\\Users\\\\Akilesh K\\\\anaconda3\\\\Lib\\\\site-packages', 'C:\\\\Users\\\\Akilesh K\\\\anaconda3\\\\Lib\\\\site-packages\\\\win32', 'C:\\\\Users\\\\Akilesh K\\\\anaconda3\\\\Lib\\\\site-packages\\\\win32\\\\lib', 'C:\\\\Users\\\\Akilesh K\\\\anaconda3\\\\Lib\\\\site-packages\\\\Pythonwin']\n"
     ]
    }
   ],
   "source": [
    "import sys\n",
    " \n",
    "# importing sys.path\n",
    "print(sys.path)\n",
    " "
   ]
  },
  {
   "cell_type": "code",
   "execution_count": 15,
   "id": "db23ab49",
   "metadata": {},
   "outputs": [
    {
     "name": "stdout",
     "output_type": "stream",
     "text": [
      "even\n",
      "odd\n"
     ]
    }
   ],
   "source": [
    "def evenOdd(x):\n",
    "    if (x % 2 == 0):\n",
    "        print(\"even\")\n",
    "    else:\n",
    "        print(\"odd\")\n",
    " \n",
    " \n",
    "# Driver code to call the function\n",
    "evenOdd(2)\n",
    "evenOdd(3)"
   ]
  },
  {
   "cell_type": "code",
   "execution_count": 16,
   "id": "dc18b05e",
   "metadata": {},
   "outputs": [
    {
     "name": "stdout",
     "output_type": "stream",
     "text": [
      "Hexa Practice\n",
      "Hexa Practice\n"
     ]
    }
   ],
   "source": [
    "def student(firstname, lastname):\n",
    "    print(firstname, lastname)\n",
    " \n",
    " \n",
    "# Keyword arguments\n",
    "student(firstname='Hexa', lastname='Practice')\n",
    "student(lastname='Practice', firstname='Hexa')"
   ]
  },
  {
   "cell_type": "code",
   "execution_count": 17,
   "id": "65ff5760",
   "metadata": {},
   "outputs": [
    {
     "name": "stdout",
     "output_type": "stream",
     "text": [
      "Case-1:\n",
      "Hi, I am Suraj\n",
      "My age is  27\n",
      "\n",
      "Case-2:\n",
      "Hi, I am 27\n",
      "My age is  Suraj\n"
     ]
    }
   ],
   "source": [
    "def nameAge(name, age):\n",
    "    print(\"Hi, I am\", name)\n",
    "    print(\"My age is \", age)\n",
    " \n",
    " \n",
    "print(\"Case-1:\")\n",
    "nameAge(\"Suraj\", 27)\n",
    "\n",
    "print(\"\\nCase-2:\")\n",
    "nameAge(27, \"Suraj\")"
   ]
  },
  {
   "cell_type": "code",
   "execution_count": 18,
   "id": "6ec13e39",
   "metadata": {},
   "outputs": [
    {
     "name": "stdout",
     "output_type": "stream",
     "text": [
      "[5, 7, 9]\n"
     ]
    }
   ],
   "source": [
    "numbers1 = [1, 2, 3]\n",
    "numbers2 = [4, 5, 6]\n",
    " \n",
    "result = map(lambda x, y: x + y, numbers1, numbers2)\n",
    "print(list(result))"
   ]
  },
  {
   "cell_type": "code",
   "execution_count": 20,
   "id": "af982f53",
   "metadata": {},
   "outputs": [
    {
     "name": "stdout",
     "output_type": "stream",
     "text": [
      "[['s', 'a', 't'], ['b', 'a', 't'], ['c', 'a', 't'], ['m', 'a', 't']]\n"
     ]
    }
   ],
   "source": [
    "l = ['sat', 'bat', 'cat', 'mat']\n",
    " \n",
    "# map() can listify the list of strings individually\n",
    "test = list(map(list, l))\n",
    "print(test)"
   ]
  },
  {
   "cell_type": "code",
   "execution_count": null,
   "id": "f467e2d9",
   "metadata": {},
   "outputs": [],
   "source": []
  },
  {
   "cell_type": "code",
   "execution_count": null,
   "id": "ff331561",
   "metadata": {},
   "outputs": [],
   "source": []
  },
  {
   "cell_type": "code",
   "execution_count": 13,
   "id": "7a7ef94a",
   "metadata": {},
   "outputs": [
    {
     "name": "stdout",
     "output_type": "stream",
     "text": [
      "Set after updating: {'e', 's', 'g', 'f', 'k'}\n",
      "\n",
      "Set after updating: {'e', 's', 'f', 'k'}\n",
      "\n",
      "Set after updating: {'s', 'f', 'k'}\n",
      "\n",
      "Popped element s\n",
      "Set after updating: {'f', 'k'}\n",
      "\n",
      "Set after updating: set()\n"
     ]
    }
   ],
   "source": [
    "# set of letters\n",
    "s = {'g', 'e', 'k', 's'}\n",
    " \n",
    "# adding 's'\n",
    "s.add('f')\n",
    "print('Set after updating:', s)\n",
    " \n",
    "# Discarding element from the set\n",
    "s.discard('g')\n",
    "print('\\nSet after updating:', s)\n",
    " \n",
    "# Removing element from the set\n",
    "s.remove('e')\n",
    "print('\\nSet after updating:', s)\n",
    " \n",
    "# Popping elements from the set\n",
    "print('\\nPopped element', s.pop())\n",
    "print('Set after updating:', s)\n",
    " \n",
    "s.clear()\n",
    "print('\\nSet after updating:', s)"
   ]
  },
  {
   "cell_type": "code",
   "execution_count": null,
   "id": "bcbc62b0",
   "metadata": {},
   "outputs": [],
   "source": []
  },
  {
   "cell_type": "code",
   "execution_count": 1,
   "id": "cc2ce91f",
   "metadata": {},
   "outputs": [
    {
     "name": "stdout",
     "output_type": "stream",
     "text": [
      "Using function defined with `def` keyword, cube: 125\n",
      "Using lambda function, cube: 125\n"
     ]
    }
   ],
   "source": [
    "def cube(y):\n",
    "    return y*y*y\n",
    " \n",
    "lambda_cube = lambda y: y*y*y\n",
    "print(\"Using function defined with `def` keyword, cube:\", cube(5))\n",
    "print(\"Using lambda function, cube:\", lambda_cube(5))"
   ]
  },
  {
   "cell_type": "code",
   "execution_count": 2,
   "id": "a05c4167",
   "metadata": {},
   "outputs": [
    {
     "name": "stdout",
     "output_type": "stream",
     "text": [
      "Int formatting: 1.000000e+06\n",
      "float formatting: 999,999.79\n"
     ]
    }
   ],
   "source": [
    "format_numeric = lambda num: f\"{num:e}\" if isinstance(num, int) else f\"{num:,.2f}\"\n",
    " \n",
    "print(\"Int formatting:\", format_numeric(1000000))\n",
    "print(\"float formatting:\", format_numeric(999999.789541235))"
   ]
  },
  {
   "cell_type": "code",
   "execution_count": 3,
   "id": "25fca63e",
   "metadata": {},
   "outputs": [
    {
     "name": "stdout",
     "output_type": "stream",
     "text": [
      "[3, 16, 9]\n"
     ]
    }
   ],
   "source": [
    "List = [[2,3,4],[1, 4, 16, 64],[3, 6, 9, 12]]\n",
    " \n",
    "sortList = lambda x: (sorted(i) for i in x)\n",
    "secondLargest = lambda x, f : [y[len(y)-2] for y in f(x)]\n",
    "res = secondLargest(List, sortList)\n",
    " \n",
    "print(res)"
   ]
  },
  {
   "cell_type": "code",
   "execution_count": 4,
   "id": "34aa795d",
   "metadata": {},
   "outputs": [
    {
     "name": "stdout",
     "output_type": "stream",
     "text": [
      "Rodger is a mammal\n",
      "Tommy is also a mammal\n",
      "My name is Rodger\n",
      "My name is Tommy\n"
     ]
    }
   ],
   "source": [
    "class Dog:\n",
    " \n",
    "    # class attribute\n",
    "    attr1 = \"mammal\"\n",
    " \n",
    "    # Instance attribute\n",
    "    def __init__(self, name):\n",
    "        self.name = name\n",
    " \n",
    "# Driver code\n",
    "# Object instantiation\n",
    "Rodger = Dog(\"Rodger\")\n",
    "Tommy = Dog(\"Tommy\")\n",
    " \n",
    "\n",
    "print(\"Rodger is a {}\".format(Rodger.__class__.attr1))\n",
    "print(\"Tommy is also a {}\".format(Tommy.__class__.attr1))\n",
    " \n",
    "\n",
    "print(\"My name is {}\".format(Rodger.name))\n",
    "print(\"My name is {}\".format(Tommy.name))"
   ]
  },
  {
   "cell_type": "code",
   "execution_count": 5,
   "id": "b16806c2",
   "metadata": {},
   "outputs": [
    {
     "name": "stdout",
     "output_type": "stream",
     "text": [
      "My name is Rodger\n",
      "My name is Tommy\n"
     ]
    }
   ],
   "source": [
    "class Dog:\n",
    " \n",
    "\n",
    "    attr1 = \"mammal\"\n",
    " \n",
    "\n",
    "    def __init__(self, name):\n",
    "        self.name = name\n",
    "         \n",
    "    def speak(self):\n",
    "        print(\"My name is {}\".format(self.name))\n",
    " \n",
    "# Driver code\n",
    "\n",
    "Rodger = Dog(\"Rodger\")\n",
    "Tommy = Dog(\"Tommy\")\n",
    " \n",
    "\n",
    "Rodger.speak()\n",
    "Tommy.speak()\n"
   ]
  },
  {
   "cell_type": "code",
   "execution_count": 6,
   "id": "5618c9e7",
   "metadata": {},
   "outputs": [
    {
     "name": "stdout",
     "output_type": "stream",
     "text": [
      "Rahul\n",
      "886012\n",
      "My name is Rahul\n",
      "IdNumber: 886012\n",
      "Post: Intern\n"
     ]
    }
   ],
   "source": [
    "class Person(object):\n",
    " \n",
    "    # __init__ is known as the constructor\n",
    "    def __init__(self, name, idnumber):\n",
    "        self.name = name\n",
    "        self.idnumber = idnumber\n",
    " \n",
    "    def display(self):\n",
    "        print(self.name)\n",
    "        print(self.idnumber)\n",
    "         \n",
    "    def details(self):\n",
    "        print(\"My name is {}\".format(self.name))\n",
    "        print(\"IdNumber: {}\".format(self.idnumber))\n",
    "     \n",
    "# child class\n",
    "class Employee(Person):\n",
    "    def __init__(self, name, idnumber, salary, post):\n",
    "        self.salary = salary\n",
    "        self.post = post\n",
    " \n",
    "      \n",
    "        Person.__init__(self, name, idnumber)\n",
    "         \n",
    "    def details(self):\n",
    "        print(\"My name is {}\".format(self.name))\n",
    "        print(\"IdNumber: {}\".format(self.idnumber))\n",
    "        print(\"Post: {}\".format(self.post))\n",
    " \n",
    " \n",
    "\n",
    "a = Employee('Rahul', 886012, 200000, \"Intern\")\n",
    " \n",
    "\n",
    "a.display()\n",
    "a.details()\n"
   ]
  },
  {
   "cell_type": "code",
   "execution_count": 7,
   "id": "a4aec2ac",
   "metadata": {},
   "outputs": [
    {
     "name": "stdout",
     "output_type": "stream",
     "text": [
      "There are many types of birds.\n",
      "Most of the birds can fly but some cannot.\n",
      "There are many types of birds.\n",
      "Sparrows can fly.\n",
      "There are many types of birds.\n",
      "Ostriches cannot fly.\n"
     ]
    }
   ],
   "source": [
    "class Bird:\n",
    "   \n",
    "    def intro(self):\n",
    "        print(\"There are many types of birds.\")\n",
    " \n",
    "    def flight(self):\n",
    "        print(\"Most of the birds can fly but some cannot.\")\n",
    " \n",
    "class sparrow(Bird):\n",
    "   \n",
    "    def flight(self):\n",
    "        print(\"Sparrows can fly.\")\n",
    " \n",
    "class ostrich(Bird):\n",
    " \n",
    "    def flight(self):\n",
    "        print(\"Ostriches cannot fly.\")\n",
    " \n",
    "obj_bird = Bird()\n",
    "obj_spr = sparrow()\n",
    "obj_ost = ostrich()\n",
    " \n",
    "obj_bird.intro()\n",
    "obj_bird.flight()\n",
    " \n",
    "obj_spr.intro()\n",
    "obj_spr.flight()\n",
    " \n",
    "obj_ost.intro()\n",
    "obj_ost.flight()\n"
   ]
  },
  {
   "cell_type": "code",
   "execution_count": 12,
   "id": "7e94c257",
   "metadata": {},
   "outputs": [
    {
     "name": "stdout",
     "output_type": "stream",
     "text": [
      " bird can fly\n",
      "This bird is : Shalik\n",
      "color of bird is : black\n",
      "Character of bird is : not good\n"
     ]
    }
   ],
   "source": [
    "class Bird:\n",
    "# constructor\n",
    "    def __init__(self,name): \n",
    "        self.name = name\n",
    "    def print_info(self):\n",
    "        print('This bird is :',self.name)\n",
    "    def fly(self):\n",
    "        print(' bird can fly')\n",
    "\n",
    "class Shalik (Bird):\n",
    "    def __init__(self, name, color, charater): \n",
    "        super().__init__(name)\n",
    "        self.color = color\n",
    "        self.charater = charater\n",
    "# override method\n",
    "    def print_info(self):\n",
    "        super().print_info()\n",
    "        print('color of bird is :', self.color) \n",
    "        print('Character of bird is :', self.charater)\n",
    "    \n",
    "# Override method\n",
    "    def fly(self):\n",
    "        print(' bird can fly')\n",
    "    \n",
    "obj_Shalik = Shalik ('Shalik', 'black', 'not good')\n",
    "obj_Shalik.fly()\n",
    "obj_Shalik.print_info()\n"
   ]
  },
  {
   "cell_type": "code",
   "execution_count": 22,
   "id": "25544140",
   "metadata": {},
   "outputs": [
    {
     "name": "stdout",
     "output_type": "stream",
     "text": [
      "Can't divide by zero\n",
      "This is always executed\n"
     ]
    }
   ],
   "source": [
    "try:\n",
    "    k = 5//0\n",
    "    print(k)\n",
    " \n",
    "except ZeroDivisionError:\n",
    "    print(\"Can't divide by zero\")\n",
    " \n",
    "finally:\n",
    "    print('This is always executed')"
   ]
  },
  {
   "cell_type": "code",
   "execution_count": 14,
   "id": "41aab198",
   "metadata": {},
   "outputs": [
    {
     "name": "stdout",
     "output_type": "stream",
     "text": [
      "4.0\n",
      "720\n"
     ]
    }
   ],
   "source": [
    "from math import sqrt, factorial\n",
    " \n",
    "print(sqrt(16))\n",
    "print(factorial(6))"
   ]
  },
  {
   "cell_type": "code",
   "execution_count": 23,
   "id": "4ea9ad8f",
   "metadata": {},
   "outputs": [
    {
     "name": "stdout",
     "output_type": "stream",
     "text": [
      "5.0\n",
      "3.141592653589793\n",
      "114.59155902616465\n",
      "1.0471975511965976\n",
      "0.9092974268256817\n",
      "0.8775825618903728\n",
      "0.23414336235146527\n",
      "24\n",
      "0\n",
      "0.9314989204182499\n",
      "52.16738956990261\n",
      "True\n",
      "1706520934.6687574\n",
      "1970-01-06\n"
     ]
    }
   ],
   "source": [
    "\n",
    "import math\n",
    "\n",
    "\n",
    "print(math.sqrt(25)) \n",
    "\n",
    "e\n",
    "print(math.pi) \n",
    "\n",
    "\n",
    "print(math.degrees(2)) \n",
    "\n",
    "\n",
    "print(math.radians(60)) \n",
    "\n",
    "# Sine of 2 radians\n",
    "print(math.sin(2)) \n",
    "\n",
    "\n",
    "print(math.cos(0.5)) \n",
    "\n",
    "\n",
    "print(math.tan(0.23)) \n",
    "\n",
    "\n",
    "print(math.factorial(4)) \n",
    "\n",
    "\n",
    "import random\n",
    "\n",
    "\n",
    "print(random.randint(0, 5)) \n",
    "\n",
    "\n",
    "print(random.random()) \n",
    "\n",
    "print(random.random() * 100) \n",
    "\n",
    "List = [1, 4, True, 800, \"python\", 27, \"hello\"]\n",
    "\n",
    "\n",
    "print(random.choice(List)) \n",
    "\n",
    "\n",
    "\n",
    "import datetime\n",
    "from datetime import date\n",
    "import time\n",
    "\n",
    "\n",
    "print(time.time()) \n",
    "\n",
    "\n",
    "print(date.fromtimestamp(454554)) \n"
   ]
  },
  {
   "cell_type": "code",
   "execution_count": 1,
   "id": "1e2c124d",
   "metadata": {},
   "outputs": [
    {
     "name": "stdout",
     "output_type": "stream",
     "text": [
      " Enter the Decimal Number: 12\n",
      "The given decimal number 12 in Binary number is:  0b1100\n",
      "The given decimal number 12 in Octal number is:  0o14\n",
      "The given decimal number 12  in Hexadecimal number is:  0xc\n"
     ]
    }
   ],
   "source": [
    "\n",
    "def decimal_into_binary(decimal_1):  \n",
    "    decimal = int(decimal_1)  \n",
    "    \n",
    "\n",
    "    print (\"The given decimal number\", decimal, \"in Binary number is: \", bin(decimal))  \n",
    " \n",
    "def decimal_into_octal(decimal_1):  \n",
    "    decimal = int(decimal_1)  \n",
    "    \n",
    "   \n",
    "    print (\"The given decimal number\", decimal, \"in Octal number is: \", oct(decimal))  \n",
    " \n",
    "def decimal_into_hexadecimal(decimal_1):  \n",
    "    decimal = int(decimal_1)  \n",
    "    \n",
    "\n",
    "    print (\"The given decimal number\", decimal, \" in Hexadecimal number is: \", hex(decimal))  \n",
    "    \n",
    "# Driver program  \n",
    "decimal_1 = int (input (\" Enter the Decimal Number: \"))  \n",
    "decimal_into_binary(decimal_1)  \n",
    "decimal_into_octal(decimal_1)  \n",
    "decimal_into_hexadecimal(decimal_1)  "
   ]
  },
  {
   "cell_type": "code",
   "execution_count": null,
   "id": "e4d527b0",
   "metadata": {},
   "outputs": [],
   "source": [
    "import csv\n",
    "rows = []\n",
    "with open(\"cpudatatextad.csv\", 'r') as file:\n",
    "   csvreader = csv.reader(file)\n",
    "   header = next(csvreader)\n",
    "   for row in csvreader:\n",
    "       rows.append(row)\n",
    "print(header)\n",
    "print(rows)"
   ]
  },
  {
   "cell_type": "code",
   "execution_count": 2,
   "id": "a24acf94",
   "metadata": {},
   "outputs": [
    {
     "name": "stdout",
     "output_type": "stream",
     "text": [
      "pandas series:  Series([], dtype: object)\n",
      "pandas series:  0    a\n",
      "1    b\n",
      "2    c\n",
      "3    d\n",
      "4    e\n",
      "dtype: object\n"
     ]
    }
   ],
   "source": [
    "import numpy as np\n",
    "import pandas as pd\n",
    "\n",
    "ser=pd.Series()\n",
    "print(\"pandas series: \",ser)\n",
    "\n",
    "data=np.array(['a','b','c','d','e'])\n",
    "\n",
    "ser=pd.Series(data)\n",
    "print(\"pandas series: \",ser)\n",
    "\n"
   ]
  },
  {
   "cell_type": "code",
   "execution_count": 3,
   "id": "fb13b57f",
   "metadata": {},
   "outputs": [
    {
     "name": "stdout",
     "output_type": "stream",
     "text": [
      "Empty DataFrame\n",
      "Columns: []\n",
      "Index: []\n",
      "        0\n",
      "0  Python\n",
      "1     For\n",
      "2  Python\n",
      "3      is\n",
      "4  portal\n",
      "5     for\n",
      "6  Python\n"
     ]
    }
   ],
   "source": [
    "import pandas as pd\n",
    "df =pd.DataFrame()\n",
    "print(df)\n",
    " \n",
    "\n",
    "lst = ['Python', 'For', 'Python', 'is', 'portal', 'for', 'Python']\n",
    " \n",
    "df =pd.DataFrame(lst)\n",
    "print(df)"
   ]
  },
  {
   "cell_type": "code",
   "execution_count": 4,
   "id": "fcf2476c",
   "metadata": {},
   "outputs": [
    {
     "name": "stdout",
     "output_type": "stream",
     "text": [
      "   calories  duration\n",
      "0       420        50\n",
      "1       380        40\n",
      "2       390        45\n"
     ]
    }
   ],
   "source": [
    "import pandas as pd\n",
    "\n",
    "data = {\n",
    "  \"calories\": [420, 380, 390],\n",
    "  \"duration\": [50, 40, 45]\n",
    "}\n",
    "\n",
    "df = pd.DataFrame(data)\n",
    "\n",
    "print(df)"
   ]
  },
  {
   "cell_type": "code",
   "execution_count": 14,
   "id": "ff88f1cf",
   "metadata": {},
   "outputs": [],
   "source": [
    "import csv\n",
    "\n",
    "with open('Students_Data.csv', 'w', newline='') as csvfile:\n",
    "    data = [\n",
    "        {'Name': 'Alex', 'M1 Score': 62, 'M2 Score': 80},\n",
    "        {'Name': 'Brad', 'M1 Score': 45, 'M2 Score': 56},\n",
    "        {'Name': 'Joey', 'M1 Score': 85, 'M2 Score': 98}\n",
    "    ]\n",
    "\n",
    "    fieldnames = ['Name', 'M1 Score', 'M2 Score']\n",
    "    writer = csv.DictWriter(csvfile, fieldnames=fieldnames)\n",
    "\n",
    "    writer.writeheader()\n",
    "    writer.writerows(data)\n"
   ]
  },
  {
   "cell_type": "code",
   "execution_count": 5,
   "id": "6ef1cd4d",
   "metadata": {},
   "outputs": [],
   "source": [
    "header = ['Name', 'M1 Score', 'M2 Score']\n",
    "data = [['Alex', 62, 80], ['Brad', 45, 56], ['Joey', 85, 98]]\n",
    "filename = 'Student_scores.csv'\n",
    "with open(filename, 'w') as file:\n",
    "    for header in header:\n",
    "        file.write(str(header)+', ')\n",
    "    file.write('n')\n",
    "    for row in data:\n",
    "        for x in row:\n",
    "            file.write(str(x)+', ')\n",
    "        file.write('n')"
   ]
  },
  {
   "cell_type": "code",
   "execution_count": 6,
   "id": "72ff3939",
   "metadata": {},
   "outputs": [],
   "source": [
    "import pandas as pd\n",
    "header = ['Name', 'M1 Score', 'M2 Score']\n",
    "data = [['Alex', 62, 80], ['Brad', 45, 56], ['Joey', 85, 98]]\n",
    "data = pd.DataFrame(data, columns=header)\n",
    "data.to_csv('Stu_data.csv', index=False)"
   ]
  },
  {
   "cell_type": "code",
   "execution_count": 15,
   "id": "3b29d9eb",
   "metadata": {},
   "outputs": [
    {
     "name": "stdout",
     "output_type": "stream",
     "text": [
      "        series  episodes        actors\n",
      "0      Friends       200   David Crane\n",
      "1  Money Heist        50        Alvaro\n",
      "2       Marvel        45      Stan Lee\n"
     ]
    }
   ],
   "source": [
    "import pandas as pd \n",
    "  \n",
    "\n",
    "dict = { \n",
    "    'series': ['Friends', 'Money Heist', 'Marvel'], \n",
    "    'episodes': [200, 50, 45], \n",
    "    'actors': [' David Crane', 'Alvaro', 'Stan Lee'] \n",
    "} \n",
    "  \n",
    "\n",
    "df = pd.DataFrame(dict) \n",
    "print(df)"
   ]
  },
  {
   "cell_type": "code",
   "execution_count": 20,
   "id": "a9450629",
   "metadata": {
    "scrolled": false
   },
   "outputs": [
    {
     "name": "stdout",
     "output_type": "stream",
     "text": [
      "['Industry']\n",
      "\n",
      "\n",
      "['Accounting/Finance']\n",
      "\n",
      "\n",
      "['Advertising/Public Relations']\n",
      "\n",
      "\n",
      "['Aerospace/Aviation']\n",
      "\n",
      "\n",
      "['Arts/Entertainment/Publishing']\n",
      "\n",
      "\n",
      "['Automotive']\n",
      "\n",
      "\n",
      "['Banking/Mortgage']\n",
      "\n",
      "\n",
      "['Business Development']\n",
      "\n",
      "\n",
      "['Business Opportunity']\n",
      "\n",
      "\n",
      "['Clerical/Administrative']\n",
      "\n",
      "\n",
      "['Construction/Facilities']\n",
      "\n",
      "\n",
      "['Consumer Goods']\n",
      "\n",
      "\n",
      "['Customer Service']\n",
      "\n",
      "\n",
      "['Education/Training']\n",
      "\n",
      "\n",
      "['Energy/Utilities']\n",
      "\n",
      "\n",
      "['Engineering']\n",
      "\n",
      "\n",
      "['Government/Military']\n",
      "\n",
      "\n",
      "['Green']\n",
      "\n",
      "\n",
      "['Healthcare']\n",
      "\n",
      "\n",
      "['Hospitality/Travel']\n",
      "\n",
      "\n",
      "['Human Resources']\n",
      "\n",
      "\n",
      "['Installation/Maintenance']\n",
      "\n",
      "\n",
      "['Insurance']\n",
      "\n",
      "\n",
      "['Internet']\n",
      "\n",
      "\n",
      "['Job Search Aids']\n",
      "\n",
      "\n",
      "['Law Enforcement/Security']\n",
      "\n",
      "\n",
      "['Legal']\n",
      "\n",
      "\n",
      "['Management/Executive']\n",
      "\n",
      "\n",
      "['Manufacturing/Operations']\n",
      "\n",
      "\n",
      "['Marketing']\n",
      "\n",
      "\n",
      "['Non-Profit/Volunteer']\n",
      "\n",
      "\n",
      "['Pharmaceutical/Biotech']\n",
      "\n",
      "\n",
      "['Professional Services']\n",
      "\n",
      "\n",
      "['QA/Quality Control']\n",
      "\n",
      "\n",
      "['Real Estate']\n",
      "\n",
      "\n",
      "['Restaurant/Food Service']\n",
      "\n",
      "\n",
      "['Retail']\n",
      "\n",
      "\n",
      "['Sales']\n",
      "\n",
      "\n",
      "['Science/Research']\n",
      "\n",
      "\n",
      "['Skilled Labor']\n",
      "\n",
      "\n",
      "['Technology']\n",
      "\n",
      "\n",
      "['Telecommunications']\n",
      "\n",
      "\n",
      "['Transportation/Logistics']\n",
      "\n",
      "\n",
      "['Other']\n",
      "\n",
      "\n"
     ]
    }
   ],
   "source": [
    "import csv \n",
    "  \n",
    "with open('industry.csv') as csvfile: \n",
    "     \n",
    "    readCSV = csv.reader(csvfile, delimiter=',') \n",
    "    for row in readCSV: \n",
    "        print(row)   \n",
    "        print(\"\\n\") "
   ]
  },
  {
   "cell_type": "code",
   "execution_count": 19,
   "id": "4709f696",
   "metadata": {},
   "outputs": [],
   "source": [
    "import pandas as pd\n",
    " \n",
    "mydict = [\n",
    "    {'branch': 'COE', 'cgpa': '9.0', 'name': 'Nikhil', 'year': '2'},\n",
    "    {'branch': 'COE', 'cgpa': '9.1', 'name': 'Sanchit', 'year': '2'},\n",
    "    {'branch': 'IT', 'cgpa': '9.3', 'name': 'Aditya', 'year': '2'},\n",
    "    {'branch': 'SE', 'cgpa': '9.5', 'name': 'Sagar', 'year': '1'},\n",
    "    {'branch': 'MCE', 'cgpa': '7.8', 'name': 'Prateek', 'year': '3'},\n",
    "    {'branch': 'EP', 'cgpa': '9.1', 'name': 'Sahil', 'year': '2'}\n",
    "]\n",
    " \n",
    "\n",
    "df = pd.DataFrame(mydict)\n",
    " \n",
    "\n",
    "df.to_csv('output.csv', index=False)"
   ]
  },
  {
   "cell_type": "code",
   "execution_count": 21,
   "id": "18cd9d53",
   "metadata": {},
   "outputs": [
    {
     "data": {
      "text/plain": [
       "24"
      ]
     },
     "execution_count": 21,
     "metadata": {},
     "output_type": "execute_result"
    }
   ],
   "source": [
    "file2 = open('file2.txt', 'w')\n",
    "\n",
    "\n",
    "file2.write('Programming is Fun.\\n')\n",
    "file2.write('Programiz for beginners\\n')"
   ]
  },
  {
   "cell_type": "code",
   "execution_count": 22,
   "id": "8fa01c9e",
   "metadata": {},
   "outputs": [
    {
     "name": "stdout",
     "output_type": "stream",
     "text": [
      "\n"
     ]
    }
   ],
   "source": [
    "\n",
    "file1 = open(\"file2.txt\")\n",
    "\n",
    "\n",
    "read_content = file1.read()\n",
    "print(read_content)"
   ]
  },
  {
   "cell_type": "code",
   "execution_count": 23,
   "id": "11606511",
   "metadata": {},
   "outputs": [
    {
     "name": "stdout",
     "output_type": "stream",
     "text": [
      "Initial blank List: \n",
      "[]\n",
      "\n",
      "List after Addition of Three elements: \n",
      "[1, 2, 4]\n"
     ]
    }
   ],
   "source": [
    "List = []\n",
    "print(\"Initial blank List: \")\n",
    "print(List)\n",
    "\n",
    "# in the List\n",
    "List.append(1)\n",
    "List.append(2)\n",
    "List.append(4)\n",
    "print(\"\\nList after Addition of Three elements: \")\n",
    "print(List)"
   ]
  },
  {
   "cell_type": "code",
   "execution_count": 24,
   "id": "c8bb84fd",
   "metadata": {},
   "outputs": [
    {
     "name": "stdout",
     "output_type": "stream",
     "text": [
      "['Python', 'Geek', 5, 4, 3, 2, 1]\n"
     ]
    }
   ],
   "source": [
    "mylist = [1, 2, 3, 4, 5, 'Geek', 'Python']\n",
    "mylist.reverse()\n",
    "print(mylist)"
   ]
  },
  {
   "cell_type": "code",
   "execution_count": 25,
   "id": "e649ed03",
   "metadata": {},
   "outputs": [
    {
     "name": "stdout",
     "output_type": "stream",
     "text": [
      "\n",
      "List after popping an element: \n",
      "[1, 2, 3, 4]\n",
      "\n",
      "List after popping a specific element: \n",
      "[1, 2, 4]\n"
     ]
    }
   ],
   "source": [
    "\n",
    "\n",
    "List = [1, 2, 3, 4, 5]\n",
    " \n",
    "\n",
    "List.pop()\n",
    "print(\"\\nList after popping an element: \")\n",
    "print(List)\n",
    " \n",
    "\n",
    "List.pop(2)\n",
    "print(\"\\nList after popping a specific element: \")\n",
    "print(List)"
   ]
  },
  {
   "cell_type": "code",
   "execution_count": 26,
   "id": "75830002",
   "metadata": {},
   "outputs": [
    {
     "name": "stdout",
     "output_type": "stream",
     "text": [
      "Initial List: \n",
      "['G', 'E', 'E', 'K', 'S', 'F', 'O', 'R', 'G', 'E', 'E', 'K', 'S']\n",
      "\n",
      "Slicing elements in a range 3-8: \n",
      "['K', 'S', 'F', 'O', 'R']\n"
     ]
    }
   ],
   "source": [
    "List = ['G', 'E', 'E', 'K', 'S', 'F',\n",
    "        'O', 'R', 'G', 'E', 'E', 'K', 'S']\n",
    "print(\"Initial List: \")\n",
    "print(List)\n",
    " \n",
    "\n",
    "Sliced_List = List[3:8]\n",
    "print(\"\\nSlicing elements in a range 3-8: \")\n",
    "print(Sliced_List)"
   ]
  },
  {
   "cell_type": "code",
   "execution_count": 27,
   "id": "fc180298",
   "metadata": {},
   "outputs": [
    {
     "name": "stdout",
     "output_type": "stream",
     "text": [
      "[5, 7, 97, 77, 23, 73, 61]\n"
     ]
    }
   ],
   "source": [
    "\n",
    "li = [5, 7, 22, 97, 54, 62, 77, 23, 73, 61]\n",
    " \n",
    "final_list = list(filter(lambda x: (x % 2 != 0), li))\n",
    "print(final_list)"
   ]
  },
  {
   "cell_type": "code",
   "execution_count": 28,
   "id": "64acf303",
   "metadata": {},
   "outputs": [
    {
     "name": "stdout",
     "output_type": "stream",
     "text": [
      "[10, 14, 44, 194, 108, 124, 154, 46, 146, 122]\n"
     ]
    }
   ],
   "source": [
    "\n",
    "li = [5, 7, 22, 97, 54, 62, 77, 23, 73, 61]\n",
    " \n",
    "final_list = list(map(lambda x: x*2, li))\n",
    "print(final_list)"
   ]
  },
  {
   "cell_type": "code",
   "execution_count": 29,
   "id": "e23e3751",
   "metadata": {},
   "outputs": [
    {
     "name": "stdout",
     "output_type": "stream",
     "text": [
      "193\n"
     ]
    }
   ],
   "source": [
    "\n",
    "from functools import reduce\n",
    "li = [5, 8, 10, 20, 50, 100]\n",
    "sum = reduce((lambda x, y: x + y), li)\n",
    "print(sum)"
   ]
  },
  {
   "cell_type": "code",
   "execution_count": 30,
   "id": "4cc67c34",
   "metadata": {},
   "outputs": [
    {
     "name": "stdout",
     "output_type": "stream",
     "text": [
      "The maximum element of the list is : 6\n"
     ]
    }
   ],
   "source": [
    "\n",
    "import functools\n",
    "lis = [1, 3, 5, 6, 2, ]\n",
    "print(\"The maximum element of the list is : \", end=\"\")\n",
    "print(functools.reduce(lambda a, b: a if a > b else b, lis))"
   ]
  },
  {
   "cell_type": "code",
   "execution_count": 1,
   "id": "c29c06bb",
   "metadata": {},
   "outputs": [
    {
     "name": "stdout",
     "output_type": "stream",
     "text": [
      "Letters are: {'s'}\n",
      "Letters are: {'e', 's'}\n",
      "Letters are: {'e', 's'}\n"
     ]
    }
   ],
   "source": [
    "PYT = set()\n",
    "PYT.add('s')\n",
    "print(\"Letters are:\", PYT)\n",
    " \n",
    "\n",
    "PYT.add('e')\n",
    "print(\"Letters are:\", PYT)\n",
    "\n",
    "PYT.add('s')\n",
    "print(\"Letters are:\", PYT)"
   ]
  },
  {
   "cell_type": "code",
   "execution_count": 2,
   "id": "7be99404",
   "metadata": {},
   "outputs": [
    {
     "name": "stdout",
     "output_type": "stream",
     "text": [
      "{'a', 'c', 'b'}\n",
      "{'a', 'c', 'b', 'd'}\n"
     ]
    }
   ],
   "source": [
    "myset = set([\"a\", \"b\", \"c\"])\n",
    "print(myset)\n",
    " \n",
    "\n",
    "myset.add(\"d\")\n",
    "print(myset)"
   ]
  },
  {
   "cell_type": "code",
   "execution_count": 3,
   "id": "d242b2ef",
   "metadata": {},
   "outputs": [
    {
     "name": "stdout",
     "output_type": "stream",
     "text": [
      "Initial set\n",
      "{1, 2, 3, 4, 5, 6}\n",
      "\n",
      "Set after using clear() function\n",
      "set()\n"
     ]
    }
   ],
   "source": [
    "set1 = {1,2,3,4,5,6}\n",
    " \n",
    "print(\"Initial set\")\n",
    "print(set1)\n",
    " \n",
    "set1.clear()\n",
    "print(\"\\nSet after using clear() function\")\n",
    "print(set1)"
   ]
  },
  {
   "cell_type": "code",
   "execution_count": 4,
   "id": "4b1a70c2",
   "metadata": {},
   "outputs": [
    {
     "name": "stdout",
     "output_type": "stream",
     "text": [
      "The original set is : {2, 4, 6, 7, 9}\n",
      "Set after adding elements : {1, 2, 4, 5, 6, 7, 9, 10}\n"
     ]
    }
   ],
   "source": [
    "\n",
    "\n",
    "\n",
    "test_set = {6, 4, 2, 7, 9}\n",
    " \n",
    "\n",
    "print(\"The original set is : \" + str(test_set))\n",
    " \n",
    "\n",
    "up_ele = [1, 5, 10]\n",
    " \n",
    "\n",
    "test_set.update(up_ele)\n",
    "\n",
    "print(\"Set after adding elements : \" + str(test_set))"
   ]
  },
  {
   "cell_type": "code",
   "execution_count": 5,
   "id": "5c73e12d",
   "metadata": {},
   "outputs": [
    {
     "name": "stdout",
     "output_type": "stream",
     "text": [
      "{8, 9, 10, 12, 13}\n",
      "{8, 9, 10, 12}\n",
      "{8, 9, 10}\n",
      "{8, 9}\n",
      "{8}\n",
      "set()\n"
     ]
    }
   ],
   "source": [
    "my_set = set([12, 10, 13, 15, 8, 9])\n",
    " \n",
    " \n",
    "while my_set:\n",
    "    my_set.discard(max(my_set))\n",
    "    print(my_set)"
   ]
  },
  {
   "cell_type": "code",
   "execution_count": 6,
   "id": "59ff61bc",
   "metadata": {},
   "outputs": [
    {
     "name": "stdout",
     "output_type": "stream",
     "text": [
      " Difference of two sets using difference() function\n",
      "{0, 1, 2}\n",
      "\n",
      "Difference of two sets using '-' operator\n",
      "{0, 1, 2}\n"
     ]
    }
   ],
   "source": [
    "set1 = set()\n",
    "set2 = set()\n",
    " \n",
    "for i in range(5):\n",
    "    set1.add(i)\n",
    " \n",
    "for i in range(3,9):\n",
    "    set2.add(i)\n",
    "\n",
    "set3 = set1.difference(set2)\n",
    " \n",
    "print(\" Difference of two sets using difference() function\")\n",
    "print(set3)\n",
    " \n",
    "\n",
    "set3 = set1 - set2\n",
    " \n",
    "print(\"\\nDifference of two sets using '-' operator\")\n",
    "print(set3)"
   ]
  },
  {
   "cell_type": "code",
   "execution_count": 7,
   "id": "5e2f24bc",
   "metadata": {},
   "outputs": [
    {
     "name": "stdout",
     "output_type": "stream",
     "text": [
      "Union using union() function\n",
      "{'Karan', 'Jay', 'Arjun', 'Idrish', 'Archil'}\n",
      "\n",
      "Union using '|' operator\n",
      "{'Deepanshu', 'Jay', 'Idrish', 'Archil', 'Raju'}\n"
     ]
    }
   ],
   "source": [
    "people = {\"Jay\", \"Idrish\", \"Archil\"}\n",
    "vampires = {\"Karan\", \"Arjun\"}\n",
    "dracula = {\"Deepanshu\", \"Raju\"}\n",
    " \n",
    "\n",
    "population = people.union(vampires)\n",
    " \n",
    "print(\"Union using union() function\")\n",
    "print(population)\n",
    " \n",
    "\n",
    "population = people|dracula\n",
    " \n",
    "print(\"\\nUnion using '|' operator\")\n",
    "print(population)"
   ]
  },
  {
   "cell_type": "code",
   "execution_count": 8,
   "id": "73e0c5f5",
   "metadata": {},
   "outputs": [
    {
     "name": "stdout",
     "output_type": "stream",
     "text": [
      "Intersection using intersection() function\n",
      "{3, 4}\n",
      "\n",
      "Intersection using '&' operator\n",
      "{3, 4}\n"
     ]
    }
   ],
   "source": [
    "set1 = set()\n",
    "set2 = set()\n",
    " \n",
    "for i in range(5):\n",
    "    set1.add(i)\n",
    " \n",
    "for i in range(3,9):\n",
    "    set2.add(i)\n",
    " \n",
    "\n",
    "set3 = set1.intersection(set2)\n",
    " \n",
    "print(\"Intersection using intersection() function\")\n",
    "print(set3)\n",
    " \n",
    "\n",
    "set3 = set1 & set2\n",
    " \n",
    "print(\"\\nIntersection using '&' operator\")\n",
    "print(set3)\n"
   ]
  },
  {
   "cell_type": "code",
   "execution_count": 10,
   "id": "f2d49cc4",
   "metadata": {},
   "outputs": [
    {
     "name": "stdout",
     "output_type": "stream",
     "text": [
      "the unique values from 1st list is\n",
      "10\n",
      "20\n",
      "30\n",
      "40\n",
      "\n",
      "the unique values from 2nd list is\n",
      "1\n",
      "2\n",
      "3\n",
      "4\n",
      "5\n"
     ]
    }
   ],
   "source": [
    "def unique(list1):\n",
    " \n",
    "    # initialize a null list\n",
    "    unique_list = []\n",
    " \n",
    "    # traverse for all elements\n",
    "    for x in list1:\n",
    "        # check if exists in unique_list or not\n",
    "        if x not in unique_list:\n",
    "            unique_list.append(x)\n",
    "    # print list\n",
    "    for x in unique_list:\n",
    "        print (x),\n",
    " \n",
    " \n",
    "# driver code\n",
    "list1 = [10, 20, 10, 30, 40, 40]\n",
    "print(\"the unique values from 1st list is\")\n",
    "unique(list1)\n",
    " \n",
    " \n",
    "list2 = [1, 2, 1, 1, 3, 4, 3, 3, 5]\n",
    "print(\"\\nthe unique values from 2nd list is\")\n",
    "unique(list2)"
   ]
  },
  {
   "cell_type": "code",
   "execution_count": 11,
   "id": "d096d618",
   "metadata": {},
   "outputs": [
    {
     "name": "stdout",
     "output_type": "stream",
     "text": [
      "the unique values from 1st list is\n",
      "[10 20 30 40]\n",
      "\n",
      "the unique values from 2nd list is\n",
      "[1 2 3 4 5]\n"
     ]
    }
   ],
   "source": [
    "import numpy as np\n",
    " \n",
    "def unique(list1):\n",
    "    x = np.array(list1)\n",
    "    print(np.unique(x))\n",
    " \n",
    " \n",
    "# driver code\n",
    "list1 = [10, 20, 10, 30, 40, 40]\n",
    "print(\"the unique values from 1st list is\")\n",
    "unique(list1)\n",
    " \n",
    " \n",
    "list2 = [1, 2, 1, 1, 3, 4, 3, 3, 5]\n",
    "print(\"\\nthe unique values from 2nd list is\")\n",
    "unique(list2)\n"
   ]
  },
  {
   "cell_type": "code",
   "execution_count": 12,
   "id": "6b488360",
   "metadata": {},
   "outputs": [
    {
     "name": "stdout",
     "output_type": "stream",
     "text": [
      "[10, 20, 30, 40]\n",
      "[1, 2, 3, 4, 5]\n"
     ]
    }
   ],
   "source": [
    "list1 = [10, 20, 10, 30, 40, 40]\n",
    " \n",
    "list2 = [1, 2, 1, 1, 3, 4, 3, 3, 5]\n",
    " \n",
    "\n",
    "unique_list_1 = list(dict.fromkeys(list1))\n",
    " \n",
    "unique_list_2 = list(dict.fromkeys(list2))\n",
    " \n",
    "\n",
    "print(unique_list_1,unique_list_2,sep=\"\\n\")"
   ]
  },
  {
   "cell_type": "code",
   "execution_count": 13,
   "id": "1df6449d",
   "metadata": {},
   "outputs": [],
   "source": [
    "def myFunc(e):\n",
    "  return len(e)\n",
    "\n",
    "cars = ['Ford', 'Mitsubishi', 'BMW', 'VW']\n",
    "\n",
    "cars.sort(key=myFunc)"
   ]
  },
  {
   "cell_type": "code",
   "execution_count": 14,
   "id": "c34aab9d",
   "metadata": {},
   "outputs": [
    {
     "name": "stdout",
     "output_type": "stream",
     "text": [
      "[10, 20, 30, 40]\n",
      "[1, 2, 3, 4, 5]\n"
     ]
    }
   ],
   "source": [
    "list1 = [10, 20, 10, 30, 40, 40]\n",
    " \n",
    "list2 = [1, 2, 1, 1, 3, 4, 3, 3, 5]\n",
    " \n",
    "\n",
    "unique_list_1 = list(dict.fromkeys(list1))\n",
    " \n",
    "unique_list_2 = list(dict.fromkeys(list2))\n",
    " \n",
    "\n",
    "print(unique_list_1,unique_list_2,sep=\"\\n\")"
   ]
  },
  {
   "cell_type": "code",
   "execution_count": 16,
   "id": "c5a703d5",
   "metadata": {},
   "outputs": [
    {
     "name": "stdout",
     "output_type": "stream",
     "text": [
      "[{'car': 'Mitsubishi', 'year': 2000}, {'car': 'Ford', 'year': 2005}, {'car': 'VW', 'year': 2011}, {'car': 'BMW', 'year': 2019}]\n"
     ]
    }
   ],
   "source": [
    "def myFunc(e):\n",
    "  return e['year']\n",
    "\n",
    "cars = [\n",
    "  {'car': 'Ford', 'year': 2005},\n",
    "  {'car': 'Mitsubishi', 'year': 2000},\n",
    "  {'car': 'BMW', 'year': 2019},\n",
    "  {'car': 'VW', 'year': 2011}\n",
    "]\n",
    "\n",
    "cars.sort(key=myFunc)\n",
    "print(cars)"
   ]
  },
  {
   "cell_type": "code",
   "execution_count": 1,
   "id": "e9150f22",
   "metadata": {},
   "outputs": [
    {
     "name": "stdout",
     "output_type": "stream",
     "text": [
      "{'id': 121, 'name': 'Naveen', 'course': 'MERN Stack'}\n",
      "Naveen\n",
      "MERN Stack\n"
     ]
    }
   ],
   "source": [
    "import json\n",
    " \n",
    "# Define JSON string\n",
    "jsonString = '{ \"id\": 121, \"name\": \"Naveen\", \"course\": \"MERN Stack\"}'\n",
    " \n",
    "# Convert JSON String to Python\n",
    "student_details = json.loads(jsonString)\n",
    " \n",
    "# Print Dictionary\n",
    "print(student_details)\n",
    " \n",
    "# Print values using keys\n",
    "print(student_details['name'])\n",
    "print(student_details['course'])\n"
   ]
  },
  {
   "cell_type": "code",
   "execution_count": 3,
   "id": "de6d7717",
   "metadata": {},
   "outputs": [
    {
     "name": "stdout",
     "output_type": "stream",
     "text": [
      "{'Name': 'Suezen', 'age': 23, 'Course': 'DSA'}\n"
     ]
    }
   ],
   "source": [
    "import json\n",
    " \n",
    "# JSON string\n",
    "json_string = '{\"Name\": \"Suezen\", \"age\": 23, \"Course\": \"DSA\"}'\n",
    " \n",
    "# Convert JSON string to dictionary\n",
    "json_dict = json.loads(json_string)\n",
    " \n",
    "print(json_dict)\n",
    "\n"
   ]
  },
  {
   "cell_type": "code",
   "execution_count": 4,
   "id": "3a2457ed",
   "metadata": {},
   "outputs": [
    {
     "name": "stdout",
     "output_type": "stream",
     "text": [
      "{'id': '09', 'name': 'Nitin', 'department': 'Finance'}\n",
      "Nitin\n"
     ]
    }
   ],
   "source": [
    "import json\n",
    " \n",
    "# JSON string\n",
    "employee ='{\"id\":\"09\", \"name\": \"Nitin\", \"department\":\"Finance\"}'\n",
    " \n",
    "# Convert string to Python dict\n",
    "employee_dict = json.loads(employee)\n",
    "print(employee_dict)\n",
    " \n",
    "print(employee_dict['name'])\n"
   ]
  },
  {
   "cell_type": "code",
   "execution_count": 5,
   "id": "3bc8f8bf",
   "metadata": {},
   "outputs": [
    {
     "name": "stdout",
     "output_type": "stream",
     "text": [
      "{\n",
      "    \"id\": \"04\",\n",
      "    \"name\": \"sunil\",\n",
      "    \"department\": \"HR\"\n",
      "}\n"
     ]
    }
   ],
   "source": [
    "import json\n",
    "  \n",
    "# Data to be written\n",
    "dictionary = {\n",
    "  \"id\": \"04\",\n",
    "  \"name\": \"sunil\",\n",
    "  \"department\": \"HR\"\n",
    "}\n",
    "  \n",
    "# Serializing json\n",
    "json_object = json.dumps(dictionary, indent = 4)\n",
    "print(json_object)"
   ]
  },
  {
   "cell_type": "code",
   "execution_count": 6,
   "id": "e741c832",
   "metadata": {},
   "outputs": [],
   "source": [
    "import json\n",
    "  \n",
    "# Data to be written\n",
    "dictionary ={\n",
    "    \"name\" : \"sathiyajith\",\n",
    "    \"rollno\" : 56,\n",
    "    \"cgpa\" : 8.6,\n",
    "    \"phonenumber\" : \"9976770500\"\n",
    "}\n",
    "  \n",
    "with open(\"sample.json\", \"w\") as outfile:\n",
    "    json.dump(dictionary, outfile)\n"
   ]
  },
  {
   "cell_type": "code",
   "execution_count": 7,
   "id": "a4e1372a",
   "metadata": {},
   "outputs": [
    {
     "name": "stdout",
     "output_type": "stream",
     "text": [
      "{\n",
      "    \"department\": \"Finance\",\n",
      "    \"id\": \"09\",\n",
      "    \"name\": \"Nitin\"\n",
      "}\n"
     ]
    }
   ],
   "source": [
    "import json\n",
    " \n",
    "# JSON string\n",
    "employee ='{\"id\":\"09\", \"name\": \"Nitin\", \"department\":\"Finance\"}'\n",
    " \n",
    "# Convert string to Python dict\n",
    "employee_dict = json.loads(employee)\n",
    " \n",
    "# Pretty Printing JSON string back\n",
    "print(json.dumps(employee_dict, indent = 4, sort_keys= True))"
   ]
  },
  {
   "cell_type": "code",
   "execution_count": 1,
   "id": "d6517a75",
   "metadata": {},
   "outputs": [
    {
     "name": "stdout",
     "output_type": "stream",
     "text": [
      "status\n",
      "Completed     3\n",
      "InProgress    2\n",
      "Pending       1\n",
      "Name: count, dtype: int64\n"
     ]
    }
   ],
   "source": [
    "import pandas as pd\n",
    "\n",
    "data = {'status': ['Completed', 'InProgress', 'Completed', 'Pending', 'InProgress', 'Completed']}\n",
    "df = pd.DataFrame(data)\n",
    "\n",
    "status_counts = df['status'].value_counts()\n",
    "\n",
    "print(status_counts)\n"
   ]
  },
  {
   "cell_type": "code",
   "execution_count": 2,
   "id": "02760eb0",
   "metadata": {},
   "outputs": [
    {
     "name": "stdout",
     "output_type": "stream",
     "text": [
      "     month      status  count\n",
      "0  2022-01   Completed      1\n",
      "1  2022-01  InProgress      1\n",
      "2  2022-02   Completed      1\n",
      "3  2022-02  InProgress      1\n",
      "4  2022-02     Pending      1\n"
     ]
    }
   ],
   "source": [
    "import pandas as pd\n",
    "\n",
    "data = {'date': ['2022-01-01', '2022-01-01', '2022-02-01', '2022-02-01', '2022-02-01'],\n",
    "        'status': ['Completed', 'InProgress', 'Completed', 'Pending', 'InProgress']}\n",
    "df = pd.DataFrame(data)\n",
    "\n",
    "df['date'] = pd.to_datetime(df['date'])\n",
    "\n",
    "df['month'] = df['date'].dt.to_period('M')\n",
    "\n",
    "count_by_month_status = df.groupby(['month', 'status']).size().reset_index(name='count')\n",
    "\n",
    "print(count_by_month_status)"
   ]
  },
  {
   "cell_type": "code",
   "execution_count": null,
   "id": "084d9f1c",
   "metadata": {},
   "outputs": [],
   "source": []
  },
  {
   "cell_type": "code",
   "execution_count": 9,
   "id": "bc86c560",
   "metadata": {},
   "outputs": [
    {
     "name": "stdout",
     "output_type": "stream",
     "text": [
      "   ID   Name  Age\n",
      "0   2  Alice   25\n",
      "1   3    Bob   30\n"
     ]
    }
   ],
   "source": [
    "import pandas as pd\n",
    "\n",
    "df1 = pd.DataFrame({'ID': [1, 2, 3], 'Name': ['John', 'Alice', 'Bob']})\n",
    "df2 = pd.DataFrame({'ID': [2, 3, 4], 'Age': [25, 30, 22]})\n",
    "\n",
    "result_df = pd.merge(df1, df2, on='ID', how='inner')\n",
    "\n",
    "print(result_df)\n"
   ]
  },
  {
   "cell_type": "code",
   "execution_count": 10,
   "id": "229942c0",
   "metadata": {},
   "outputs": [
    {
     "name": "stdout",
     "output_type": "stream",
     "text": [
      "   ID   Name   Age\n",
      "0   2  Alice  25.0\n",
      "1   3    Bob  30.0\n"
     ]
    }
   ],
   "source": [
    "import pandas as pd\n",
    "\n",
    "df1 = pd.DataFrame({'ID': [1, 2, 3], 'Name': ['John', 'Alice', 'Bob']})\n",
    "df2 = pd.DataFrame({'ID': [2, 3, 4], 'Age': [25, 30, 22]})\n",
    "\n",
    "result_df = pd.merge(df1, df2, on='ID', how='inner')\n",
    "\n",
    "aggregated_df = result_df.groupby('ID').agg({'Name': 'first', 'Age': 'mean'}).reset_index()\n",
    "\n",
    "print(aggregated_df)\n"
   ]
  },
  {
   "cell_type": "code",
   "execution_count": 11,
   "id": "0558c176",
   "metadata": {},
   "outputs": [
    {
     "name": "stdout",
     "output_type": "stream",
     "text": [
      "   ID   Name  Age\n",
      "1   1  Alice   22\n",
      "2   2    Bob   30\n",
      "0   3   John   25\n",
      "3   4    Eve   22\n"
     ]
    }
   ],
   "source": [
    "import pandas as pd\n",
    "\n",
    "df = pd.DataFrame({'ID': [3, 1, 2, 4],\n",
    "                   'Name': ['John', 'Alice', 'Bob', 'Eve'],\n",
    "                   'Age': [25, 22, 30, 22]})\n",
    "\n",
    "sorted_df = df.sort_values(by='ID')\n",
    "\n",
    "print(sorted_df)\n"
   ]
  },
  {
   "cell_type": "code",
   "execution_count": 12,
   "id": "aee359c3",
   "metadata": {},
   "outputs": [],
   "source": [
    "import pandas as pd\n",
    "\n",
    "\n",
    "df = pd.DataFrame({'ID': [1, 2, 3], 'Name': ['John', 'Alice', 'Bob'], 'Age': [25, 22, 30]})\n",
    "\n",
    "\n",
    "df.to_csv('output.csv', index=False)\n"
   ]
  },
  {
   "cell_type": "code",
   "execution_count": 13,
   "id": "128e47e5",
   "metadata": {},
   "outputs": [],
   "source": [
    "import pandas as pd\n",
    "\n",
    "df = pd.DataFrame({'ID': [1, 2, 3], 'Name': ['John', 'Alice', 'Bob'], 'Age': [25, 22, 30]})\n",
    "\n",
    "df.to_json('output.json', orient='records', lines=True)"
   ]
  },
  {
   "cell_type": "code",
   "execution_count": null,
   "id": "317bcfad",
   "metadata": {},
   "outputs": [],
   "source": []
  },
  {
   "cell_type": "code",
   "execution_count": null,
   "id": "f19e14d5",
   "metadata": {},
   "outputs": [],
   "source": []
  },
  {
   "cell_type": "code",
   "execution_count": null,
   "id": "c5a3fe92",
   "metadata": {},
   "outputs": [],
   "source": []
  }
 ],
 "metadata": {
  "kernelspec": {
   "display_name": "Python 3 (ipykernel)",
   "language": "python",
   "name": "python3"
  },
  "language_info": {
   "codemirror_mode": {
    "name": "ipython",
    "version": 3
   },
   "file_extension": ".py",
   "mimetype": "text/x-python",
   "name": "python",
   "nbconvert_exporter": "python",
   "pygments_lexer": "ipython3",
   "version": "3.11.5"
  }
 },
 "nbformat": 4,
 "nbformat_minor": 5
}
