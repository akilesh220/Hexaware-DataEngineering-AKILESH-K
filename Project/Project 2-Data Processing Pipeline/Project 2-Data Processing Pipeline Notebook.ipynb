{
 "cells": [
  {
   "cell_type": "code",
   "execution_count": 0,
   "metadata": {
    "application/vnd.databricks.v1+cell": {
     "cellMetadata": {
      "byteLimit": 2048000,
      "rowLimit": 10000
     },
     "inputWidgets": {},
     "nuid": "15d3cfc6-91db-4ab4-b8ff-9af30c28eef1",
     "showTitle": false,
     "title": ""
    }
   },
   "outputs": [
    {
     "output_type": "execute_result",
     "data": {
      "text/plain": [
       "True"
      ]
     },
     "execution_count": 2,
     "metadata": {},
     "output_type": "execute_result"
    }
   ],
   "source": [
    "#dbutils.fs.mount(source = 'wasbs://project@heax1054.blob.core.windows.net', \n",
    " #                mount_point='/mnt/project',\n",
    " #                extra_configs = {'fs.azure.account.key.heax1054.blob.core.windows.net':'PZbhOKV1ID6h4kGUkYWBz84CUGO7KNsRivZJNfHD6HWqD/RKaLDrg61Xjz3yDyVU592VUJ7XkOHz+AStp2wixw=='})\n"
   ]
  },
  {
   "cell_type": "code",
   "execution_count": 0,
   "metadata": {
    "application/vnd.databricks.v1+cell": {
     "cellMetadata": {
      "byteLimit": 2048000,
      "rowLimit": 10000
     },
     "inputWidgets": {},
     "nuid": "3fb6addf-f9c9-406e-8cbc-3bb4c1e259b3",
     "showTitle": false,
     "title": ""
    }
   },
   "outputs": [
    {
     "output_type": "execute_result",
     "data": {
      "text/plain": [
       "[FileInfo(path='dbfs:/mnt/project/data.csv', name='data.csv', size=1381093, modificationTime=1708930288000)]"
      ]
     },
     "execution_count": 3,
     "metadata": {},
     "output_type": "execute_result"
    }
   ],
   "source": [
    "dbutils.fs.ls('/mnt/project')"
   ]
  },
  {
   "cell_type": "code",
   "execution_count": 0,
   "metadata": {
    "application/vnd.databricks.v1+cell": {
     "cellMetadata": {
      "byteLimit": 2048000,
      "rowLimit": 10000
     },
     "inputWidgets": {},
     "nuid": "d8e0e656-11ce-4252-9c8c-1a9b2642efe3",
     "showTitle": false,
     "title": ""
    }
   },
   "outputs": [
    {
     "output_type": "stream",
     "name": "stdout",
     "output_type": "stream",
     "text": [
      "+-----+---------------+--------------------+--------------------+--------------------+--------------------+-------+--------------------+-------------------+\n|Index|Organization Id|                Name|             Website|             Country|         Description|Founded|            Industry|Number of employees|\n+-----+---------------+--------------------+--------------------+--------------------+--------------------+-------+--------------------+-------------------+\n|    1|522816eF8fdBE6d|        Mckinney PLC|    http://soto.com/|           Sri Lanka|Synergized global...|   1988|               Dairy|               3930|\n|    2|70C7FBD7e6Aa3Ea|      Cunningham LLC|http://harding-du...|             Namibia|Team-oriented fau...|   2018|             Library|               7871|\n|    3|428B397eA2d7290|          Ruiz-Walls|http://www.atkins...|                Iran|Re-contextualized...|   2003|Hospital / Health...|               3095|\n|    4|9D234Ae8Cc51C1c|Parrish, Osborne ...|http://salazar.info/|British Indian Oc...|Fully-configurabl...|   1989|        Supermarkets|               5422|\n|    5|6CDCcdE3D0b7b44|Diaz, Robles and ...|https://www.brook...|            Botswana|Inverse intangibl...|   2013|      Nanotechnology|               3135|\n|    6|cdAD9BBF227ADAE|           Keith PLC|http://www.mathew...|             Ecuador|Cross-group coher...|   1978|   Online Publishing|               7233|\n|    7|0fe6F8Dd1Cf5e4d|      Humphrey-Myers|https://faulkner-...|        Sierra Leone|Adaptive directio...|   2005| Publishing Industry|               6022|\n|    8|ECC0FBd0dc4aEfc|   Castaneda-Mcmahon|http://www.anthon...|            Zimbabwe|Front-line value-...|   2015|     Defense / Space|               4580|\n|    9|e0E6cfAE68d08c9|       Santos-Bowman|https://www.oneil...|             Ecuador|Multi-layered opt...|   1979|   Computer Hardware|               3245|\n|   10|A7DdBb239A86689|        Valdez-Estes|http://melendez-m...|         Timor-Leste|Diverse next gene...|   1985|            Plastics|               1785|\n|   11|6a74D1bF2BC1d65|        Young-Zavala|http://www.ortiz....|             Ukraine|Sharable multimed...|   1972|               Music|               2985|\n|   12|Cc5293Dbc2A92bE|         Shaffer Inc|https://www.sando...|      United Kingdom|Sharable coherent...|   1997|          Automotive|                839|\n|   13|849CEAb2f65c439|         Gaines-Vang|http://www.levy.com/|            Thailand|Compatible web-en...|   2021|   Online Publishing|               3135|\n|   14|DcFCcD6B1a1A736|     Larsen-Garrison|  https://walsh.com/|              Turkey|Polarized composi...|   2014|  Building Materials|               7261|\n|   15|a8dc16ba1b00F3c|          Taylor LLC|https://www.allen...|            Kiribati|Re-contextualized...|   1971|Information Services|               2427|\n|   16|2B6c7b5bEDdeD8d|         Lindsey Ltd|https://logan-mck...|              Canada|Profit-focused op...|   1981|           Chemicals|               6477|\n|   17|fD4BD3662B6F92D|          Rich-Kelly|https://www.fowle...|            Colombia|Triple-buffered e...|   1994|Investment Bankin...|               4263|\n|   18|3F2A9d9c44af88f|           Solis PLC|  https://gomez.com/|            Suriname|Stand-alone zero ...|   2004|        E - Learning|               2546|\n|   19|4eBE2067f1F8d7E|       David-Summers|  http://levine.biz/|             Burundi|Monitored mobile ...|   2019|           Machinery|                219|\n|   20|e8F94361bbDcf9b|         Orr-Stanley|http://www.rosale...|          Kazakhstan|Triple-buffered s...|   1979|         Photography|                581|\n+-----+---------------+--------------------+--------------------+--------------------+--------------------+-------+--------------------+-------------------+\nonly showing top 20 rows\n\n"
     ]
    }
   ],
   "source": [
    "df = spark.read.csv('/mnt/project/data.csv',header='true',inferSchema='True')\n",
    "df.show()"
   ]
  },
  {
   "cell_type": "code",
   "execution_count": 0,
   "metadata": {
    "application/vnd.databricks.v1+cell": {
     "cellMetadata": {
      "byteLimit": 2048000,
      "rowLimit": 10000
     },
     "inputWidgets": {},
     "nuid": "d5a2861d-a23a-4f36-9421-295f4334a61a",
     "showTitle": false,
     "title": ""
    }
   },
   "outputs": [
    {
     "output_type": "stream",
     "name": "stdout",
     "output_type": "stream",
     "text": [
      "+-----+---------------+--------------------+--------------------+--------------------+--------------------+-------+--------------------+-------------------+\n|Index|Organization Id|                Name|             Website|             Country|         Description|Founded|            Industry|Number of employees|\n+-----+---------------+--------------------+--------------------+--------------------+--------------------+-------+--------------------+-------------------+\n|  152|d2845ccf8c4c3D7|           Riley Ltd|  http://knight.com/|               GABON|Grass-roots bandw...|   1974| Publishing Industry|                920|\n|  186|64dD5a69f0E27c0|    Proctor and Sons| https://martin.com/|           GREENLAND|Exclusive static ...|   2017|Alternative Medicine|               4052|\n|  314|D06f4A7F5Cd6ecB|Luna, Mcmillan an...|https://www.dixon...|             SOMALIA|Intuitive asynchr...|   1987|   Online Publishing|               7649|\n|  434|8aEa9A19068f77E|          Mccall Ltd|http://www.glover...|               TONGA|Implemented heuri...|   2008|      Other Industry|               3498|\n|  578|EbC8B7e60C503cd|           Smith Ltd|http://lam-robins...|  RUSSIAN FEDERATION|Triple-buffered e...|   2009|   Apparel / Fashion|               3398|\n|  643|02d6AecA05DDaaC|       Gutierrez Ltd|https://www.mathi...|      CAYMAN ISLANDS|Multi-lateral dis...|   1999|      Computer Games|               2746|\n|  646|Bd8057f80A250aB|           Weber Ltd|http://cisneros-e...|            BOTSWANA|Focused asynchron...|   2000|Oil / Energy / So...|               5440|\n| 1174|5cCe4dBAceffc40|Cabrera, Yoder an...|https://stanley.com/|  DOMINICAN REPUBLIC|Right-sized dedic...|   2021|Capital Markets /...|                943|\n| 1189|Eea2a2212D9BA1e|        Gonzales PLC|http://www.nunez-...|          BANGLADESH|Robust maximized ...|   2002|      Transportation|               4883|\n| 1363|57af1f2D8F62B2c|           Heath Inc|http://blankenshi...|             COMOROS|Self-enabling exp...|   2021|            Plastics|               7024|\n| 1370|aDe2ab1dD8aa71D|        Cain-Hensley|   https://west.org/|          MONTSERRAT|Reduced leadinged...|   1998|        Shipbuilding|               3664|\n| 1946|Da69C89370A0bC3|       Levy and Sons|https://fuentes-v...|FALKLAND ISLANDS ...|Cross-platform ex...|   1972|      Wine / Spirits|               9104|\n| 2091|F3F7C0fFd09c065|    Reynolds-Goodman|https://www.chapm...|                PERU|Self-enabling mul...|   1973|      Other Industry|                944|\n| 2214|842f1DEcdA80dD5|           Mills Inc|https://www.lower...|              MEXICO|Progressive didac...|   1974|    Leisure / Travel|               8409|\n| 2244|86ba8881d21ed8E|        Potter-Hines|    http://ball.com/|            CAMEROON|Open-architected ...|   1977|Logistics / Procu...|               1990|\n| 2310|83eb230Ddf4A0fb|   Livingston-Oliver|  http://walls.info/|      CAYMAN ISLANDS|Optimized directi...|   1989|     Law Enforcement|                361|\n| 2378|3FdFE1982be12FE|Phelps, Lutz and ...|https://www.hendr...|   WALLIS AND FUTUNA|Integrated compos...|   2003|          Accounting|               2331|\n| 2490|9Ad1149F4569Cc8|Faulkner, Nash an...|http://www.greer....|           MAURITIUS|Universal system-...|   1997|   Research Industry|               8540|\n| 2652|e710d22B6Fae7b2|Hutchinson, Walsh...|https://www.juare...|       NEW CALEDONIA|Digitized mission...|   1998|Staffing / Recrui...|               3364|\n| 3207|37139c7ad4B48EC|Woods, Wheeler an...|  http://decker.com/|    FRENCH POLYNESIA|Cloned responsive...|   2020|   Research Industry|               5027|\n+-----+---------------+--------------------+--------------------+--------------------+--------------------+-------+--------------------+-------------------+\nonly showing top 20 rows\n\n"
     ]
    }
   ],
   "source": [
    "from pyspark.sql.functions import col, cast, trim, upper, lower, coalesce, isnull , lit\n",
    "\n",
    "# Data Cleaning\n",
    "df = df.withColumn(\"Website\", trim(col(\"Website\")))\n",
    "df = df.withColumn(\"Description\", trim(col(\"Description\")))\n",
    "df = df.withColumn(\"Country\", upper(col(\"Country\")))\n",
    "df = df.withColumn(\"Description\", coalesce(col(\"Description\"), lit(\"\")))\n",
    "df = df.dropDuplicates([\"Organization Id\"])\n",
    "\n",
    "df.show()\n",
    "\n"
   ]
  },
  {
   "cell_type": "code",
   "execution_count": 0,
   "metadata": {
    "application/vnd.databricks.v1+cell": {
     "cellMetadata": {},
     "inputWidgets": {},
     "nuid": "6e20ff54-80b3-4b3a-8adb-5bdbc55f13e3",
     "showTitle": false,
     "title": ""
    }
   },
   "outputs": [],
   "source": [
    "df.na.drop().show()"
   ]
  },
  {
   "cell_type": "code",
   "execution_count": 0,
   "metadata": {
    "application/vnd.databricks.v1+cell": {
     "cellMetadata": {
      "byteLimit": 2048000,
      "rowLimit": 10000
     },
     "inputWidgets": {},
     "nuid": "ecc09acf-eb12-4f41-9cc5-7f8503850f1e",
     "showTitle": false,
     "title": ""
    }
   },
   "outputs": [
    {
     "output_type": "display_data",
     "data": {
      "text/html": [
       "<style scoped>\n",
       "  .table-result-container {\n",
       "    max-height: 300px;\n",
       "    overflow: auto;\n",
       "  }\n",
       "  table, th, td {\n",
       "    border: 1px solid black;\n",
       "    border-collapse: collapse;\n",
       "  }\n",
       "  th, td {\n",
       "    padding: 5px;\n",
       "  }\n",
       "  th {\n",
       "    text-align: left;\n",
       "  }\n",
       "</style><div class='table-result-container'><table class='table-result'><thead style='background-color: white'><tr><th>Country</th><th>count</th></tr></thead><tbody><tr><td>BAHAMAS</td><td>39</td></tr><tr><td>ARMENIA</td><td>57</td></tr><tr><td>SOUTH AFRICA</td><td>41</td></tr><tr><td>UNITED STATES MINOR OUTLYING ISLANDS</td><td>49</td></tr><tr><td>CAMBODIA</td><td>37</td></tr><tr><td>BANGLADESH</td><td>50</td></tr><tr><td>TIMOR-LESTE</td><td>57</td></tr><tr><td>UGANDA</td><td>40</td></tr><tr><td>JAPAN</td><td>46</td></tr><tr><td>SOUTH GEORGIA AND THE SOUTH SANDWICH ISLANDS</td><td>51</td></tr><tr><td>ANTARCTICA (THE TERRITORY SOUTH OF 60 DEG S)</td><td>32</td></tr><tr><td>CAPE VERDE</td><td>43</td></tr><tr><td>NORTHERN MARIANA ISLANDS</td><td>35</td></tr><tr><td>MAURITANIA</td><td>36</td></tr><tr><td>JERSEY</td><td>42</td></tr><tr><td>SAINT MARTIN</td><td>39</td></tr><tr><td>MALDIVES</td><td>37</td></tr><tr><td>UNITED STATES VIRGIN ISLANDS</td><td>41</td></tr><tr><td>SAO TOME AND PRINCIPE</td><td>45</td></tr><tr><td>TANZANIA</td><td>39</td></tr><tr><td>JORDAN</td><td>39</td></tr><tr><td>MAYOTTE</td><td>39</td></tr><tr><td>RUSSIAN FEDERATION</td><td>43</td></tr><tr><td>LESOTHO</td><td>35</td></tr><tr><td>ALBANIA</td><td>35</td></tr><tr><td>SAINT PIERRE AND MIQUELON</td><td>42</td></tr><tr><td>MALTA</td><td>45</td></tr><tr><td>BELARUS</td><td>40</td></tr><tr><td>EQUATORIAL GUINEA</td><td>38</td></tr><tr><td>ANTIGUA AND BARBUDA</td><td>43</td></tr><tr><td>MAURITIUS</td><td>44</td></tr><tr><td>KUWAIT</td><td>45</td></tr><tr><td>LITHUANIA</td><td>34</td></tr><tr><td>AZERBAIJAN</td><td>40</td></tr><tr><td>UNITED KINGDOM</td><td>41</td></tr><tr><td>SAINT KITTS AND NEVIS</td><td>32</td></tr><tr><td>PHILIPPINES</td><td>37</td></tr><tr><td>TUVALU</td><td>38</td></tr><tr><td>ANDORRA</td><td>44</td></tr><tr><td>FALKLAND ISLANDS (MALVINAS)</td><td>41</td></tr><tr><td>SENEGAL</td><td>54</td></tr><tr><td>CZECH REPUBLIC</td><td>31</td></tr><tr><td>OMAN</td><td>36</td></tr><tr><td>AMERICAN SAMOA</td><td>51</td></tr><tr><td>SAMOA</td><td>45</td></tr><tr><td>NORFOLK ISLAND</td><td>50</td></tr><tr><td>SOMALIA</td><td>35</td></tr><tr><td>MONTSERRAT</td><td>38</td></tr><tr><td>FRENCH GUIANA</td><td>37</td></tr><tr><td>ESTONIA</td><td>43</td></tr><tr><td>FRENCH SOUTHERN TERRITORIES</td><td>43</td></tr><tr><td>KIRIBATI</td><td>35</td></tr><tr><td>FIJI</td><td>44</td></tr><tr><td>COSTA RICA</td><td>46</td></tr><tr><td>SLOVAKIA (SLOVAK REPUBLIC)</td><td>45</td></tr><tr><td>BHUTAN</td><td>34</td></tr><tr><td>CANADA</td><td>52</td></tr><tr><td>LAO PEOPLE'S DEMOCRATIC REPUBLIC</td><td>48</td></tr><tr><td>POLAND</td><td>43</td></tr><tr><td>HOLY SEE (VATICAN CITY STATE)</td><td>42</td></tr><tr><td>GUADELOUPE</td><td>40</td></tr><tr><td>CENTRAL AFRICAN REPUBLIC</td><td>36</td></tr><tr><td>PUERTO RICO</td><td>43</td></tr><tr><td>GRENADA</td><td>40</td></tr><tr><td>COLOMBIA</td><td>37</td></tr><tr><td>VANUATU</td><td>40</td></tr><tr><td>SRI LANKA</td><td>47</td></tr><tr><td>GUATEMALA</td><td>40</td></tr><tr><td>WESTERN SAHARA</td><td>43</td></tr><tr><td>ALGERIA</td><td>44</td></tr><tr><td>UNITED ARAB EMIRATES</td><td>40</td></tr><tr><td>GIBRALTAR</td><td>41</td></tr><tr><td>GUERNSEY</td><td>32</td></tr><tr><td>HONDURAS</td><td>40</td></tr><tr><td>TURKMENISTAN</td><td>40</td></tr><tr><td>SYRIAN ARAB REPUBLIC</td><td>30</td></tr><tr><td>ARUBA</td><td>35</td></tr><tr><td>DOMINICA</td><td>36</td></tr><tr><td>BENIN</td><td>55</td></tr><tr><td>EL SALVADOR</td><td>55</td></tr><tr><td>NIGER</td><td>41</td></tr><tr><td>LIBERIA</td><td>44</td></tr><tr><td>MOROCCO</td><td>43</td></tr><tr><td>BOSNIA AND HERZEGOVINA</td><td>26</td></tr><tr><td>REUNION</td><td>43</td></tr><tr><td>MEXICO</td><td>41</td></tr><tr><td>CAMEROON</td><td>50</td></tr><tr><td>BURUNDI</td><td>47</td></tr><tr><td>PAKISTAN</td><td>39</td></tr><tr><td>ANGUILLA</td><td>35</td></tr><tr><td>FRANCE</td><td>50</td></tr><tr><td>GABON</td><td>37</td></tr><tr><td>CAYMAN ISLANDS</td><td>37</td></tr><tr><td>GAMBIA</td><td>45</td></tr><tr><td>FRENCH POLYNESIA</td><td>44</td></tr><tr><td>BRUNEI DARUSSALAM</td><td>45</td></tr><tr><td>SAINT LUCIA</td><td>44</td></tr><tr><td>SINGAPORE</td><td>50</td></tr><tr><td>MOZAMBIQUE</td><td>50</td></tr><tr><td>MADAGASCAR</td><td>44</td></tr><tr><td>NIGERIA</td><td>41</td></tr><tr><td>COCOS (KEELING) ISLANDS</td><td>33</td></tr><tr><td>CHINA</td><td>37</td></tr><tr><td>UNITED STATES OF AMERICA</td><td>48</td></tr><tr><td>MALAYSIA</td><td>54</td></tr><tr><td>AUSTRIA</td><td>53</td></tr><tr><td>ZAMBIA</td><td>36</td></tr><tr><td>LATVIA</td><td>42</td></tr><tr><td>NICARAGUA</td><td>53</td></tr><tr><td>BOTSWANA</td><td>47</td></tr><tr><td>NEPAL</td><td>46</td></tr><tr><td>CHRISTMAS ISLAND</td><td>45</td></tr><tr><td>MALI</td><td>33</td></tr><tr><td>ZIMBABWE</td><td>39</td></tr><tr><td>BELIZE</td><td>55</td></tr><tr><td>SAUDI ARABIA</td><td>47</td></tr><tr><td>CROATIA</td><td>39</td></tr><tr><td>NIUE</td><td>43</td></tr><tr><td>MARSHALL ISLANDS</td><td>36</td></tr><tr><td>SURINAME</td><td>42</td></tr><tr><td>MACEDONIA</td><td>38</td></tr><tr><td>RWANDA</td><td>49</td></tr><tr><td>BULGARIA</td><td>33</td></tr><tr><td>SWITZERLAND</td><td>29</td></tr><tr><td>KAZAKHSTAN</td><td>49</td></tr><tr><td>ARGENTINA</td><td>58</td></tr><tr><td>SUDAN</td><td>40</td></tr><tr><td>PALESTINIAN TERRITORY</td><td>38</td></tr><tr><td>HONG KONG</td><td>42</td></tr><tr><td>GREENLAND</td><td>34</td></tr><tr><td>GUAM</td><td>36</td></tr><tr><td>UKRAINE</td><td>35</td></tr><tr><td>SERBIA</td><td>31</td></tr><tr><td>MICRONESIA</td><td>40</td></tr><tr><td>SOLOMON ISLANDS</td><td>39</td></tr><tr><td>NORWAY</td><td>44</td></tr><tr><td>FINLAND</td><td>30</td></tr><tr><td>MACAO</td><td>46</td></tr><tr><td>MONGOLIA</td><td>28</td></tr><tr><td>MALAWI</td><td>42</td></tr><tr><td>MARTINIQUE</td><td>23</td></tr><tr><td>DOMINICAN REPUBLIC</td><td>44</td></tr><tr><td>NETHERLANDS</td><td>39</td></tr><tr><td>BRITISH VIRGIN ISLANDS</td><td>51</td></tr><tr><td>ANGOLA</td><td>34</td></tr><tr><td>SLOVENIA</td><td>47</td></tr><tr><td>GUYANA</td><td>35</td></tr><tr><td>SIERRA LEONE</td><td>31</td></tr><tr><td>UZBEKISTAN</td><td>46</td></tr><tr><td>LIBYAN ARAB JAMAHIRIYA</td><td>46</td></tr><tr><td>IRAN</td><td>45</td></tr><tr><td>TUNISIA</td><td>36</td></tr><tr><td>SWEDEN</td><td>40</td></tr><tr><td>ECUADOR</td><td>37</td></tr><tr><td>BELGIUM</td><td>39</td></tr><tr><td>BOLIVIA</td><td>50</td></tr><tr><td>TONGA</td><td>58</td></tr><tr><td>TRINIDAD AND TOBAGO</td><td>52</td></tr><tr><td>NAMIBIA</td><td>42</td></tr><tr><td>TOKELAU</td><td>30</td></tr><tr><td>NEW ZEALAND</td><td>41</td></tr><tr><td>WALLIS AND FUTUNA</td><td>40</td></tr><tr><td>SAINT HELENA</td><td>40</td></tr><tr><td>SPAIN</td><td>36</td></tr><tr><td>MOLDOVA</td><td>30</td></tr><tr><td>PARAGUAY</td><td>33</td></tr><tr><td>LEBANON</td><td>40</td></tr><tr><td>BRITISH INDIAN OCEAN TERRITORY (CHAGOS ARCHIPELAGO)</td><td>29</td></tr><tr><td>GREECE</td><td>39</td></tr><tr><td>PALAU</td><td>37</td></tr><tr><td>GUINEA</td><td>46</td></tr><tr><td>SWAZILAND</td><td>34</td></tr><tr><td>INDIA</td><td>41</td></tr><tr><td>BERMUDA</td><td>39</td></tr><tr><td>TAIWAN</td><td>39</td></tr><tr><td>KENYA</td><td>54</td></tr><tr><td>ICELAND</td><td>38</td></tr><tr><td>COOK ISLANDS</td><td>41</td></tr><tr><td>TURKEY</td><td>41</td></tr><tr><td>FAROE ISLANDS</td><td>36</td></tr><tr><td>LUXEMBOURG</td><td>35</td></tr><tr><td>AFGHANISTAN</td><td>39</td></tr><tr><td>NAURU</td><td>35</td></tr><tr><td>LIECHTENSTEIN</td><td>40</td></tr><tr><td>TAJIKISTAN</td><td>36</td></tr><tr><td>TURKS AND CAICOS ISLANDS</td><td>42</td></tr><tr><td>URUGUAY</td><td>38</td></tr><tr><td>NETHERLANDS ANTILLES</td><td>41</td></tr><tr><td>SVALBARD & JAN MAYEN ISLANDS</td><td>36</td></tr><tr><td>ITALY</td><td>37</td></tr><tr><td>MONACO</td><td>40</td></tr><tr><td>AUSTRALIA</td><td>39</td></tr><tr><td>PANAMA</td><td>37</td></tr><tr><td>CHILE</td><td>45</td></tr><tr><td>IRAQ</td><td>42</td></tr><tr><td>THAILAND</td><td>49</td></tr><tr><td>CHAD</td><td>30</td></tr><tr><td>DENMARK</td><td>33</td></tr><tr><td>HUNGARY</td><td>22</td></tr><tr><td>QATAR</td><td>52</td></tr><tr><td>SAINT VINCENT AND THE GRENADINES</td><td>36</td></tr><tr><td>JAMAICA</td><td>35</td></tr><tr><td>TOGO</td><td>41</td></tr><tr><td>BOUVET ISLAND (BOUVETOYA)</td><td>42</td></tr><tr><td>CONGO</td><td>90</td></tr><tr><td>VIETNAM</td><td>38</td></tr><tr><td>MONTENEGRO</td><td>39</td></tr><tr><td>HAITI</td><td>39</td></tr><tr><td>SAN MARINO</td><td>36</td></tr><tr><td>DJIBOUTI</td><td>34</td></tr><tr><td>CYPRUS</td><td>29</td></tr><tr><td>COMOROS</td><td>42</td></tr><tr><td>SEYCHELLES</td><td>40</td></tr><tr><td>ETHIOPIA</td><td>50</td></tr><tr><td>KYRGYZ REPUBLIC</td><td>42</td></tr><tr><td>NEW CALEDONIA</td><td>34</td></tr><tr><td>ISRAEL</td><td>41</td></tr><tr><td>PAPUA NEW GUINEA</td><td>40</td></tr><tr><td>PORTUGAL</td><td>31</td></tr><tr><td>HEARD ISLAND AND MCDONALD ISLANDS</td><td>39</td></tr><tr><td>INDONESIA</td><td>46</td></tr><tr><td>KOREA</td><td>84</td></tr><tr><td>PITCAIRN ISLANDS</td><td>32</td></tr><tr><td>YEMEN</td><td>38</td></tr><tr><td>IRELAND</td><td>46</td></tr><tr><td>BURKINA FASO</td><td>45</td></tr><tr><td>ERITREA</td><td>41</td></tr><tr><td>ROMANIA</td><td>43</td></tr><tr><td>GERMANY</td><td>42</td></tr><tr><td>SAINT BARTHELEMY</td><td>40</td></tr><tr><td>GHANA</td><td>50</td></tr><tr><td>BRAZIL</td><td>39</td></tr><tr><td>GUINEA-BISSAU</td><td>46</td></tr><tr><td>ISLE OF MAN</td><td>30</td></tr><tr><td>COTE D'IVOIRE</td><td>39</td></tr><tr><td>BARBADOS</td><td>40</td></tr><tr><td>VENEZUELA</td><td>44</td></tr><tr><td>EGYPT</td><td>43</td></tr><tr><td>BAHRAIN</td><td>41</td></tr><tr><td>CUBA</td><td>48</td></tr><tr><td>PERU</td><td>45</td></tr><tr><td>GEORGIA</td><td>34</td></tr><tr><td>MYANMAR</td><td>37</td></tr></tbody></table></div>"
      ]
     },
     "metadata": {
      "application/vnd.databricks.v1+output": {
       "addedWidgets": {},
       "aggData": [],
       "aggError": "",
       "aggOverflow": false,
       "aggSchema": [],
       "aggSeriesLimitReached": false,
       "aggType": "",
       "arguments": {},
       "columnCustomDisplayInfos": {},
       "data": [
        [
         "BAHAMAS",
         39
        ],
        [
         "ARMENIA",
         57
        ],
        [
         "SOUTH AFRICA",
         41
        ],
        [
         "UNITED STATES MINOR OUTLYING ISLANDS",
         49
        ],
        [
         "CAMBODIA",
         37
        ],
        [
         "BANGLADESH",
         50
        ],
        [
         "TIMOR-LESTE",
         57
        ],
        [
         "UGANDA",
         40
        ],
        [
         "JAPAN",
         46
        ],
        [
         "SOUTH GEORGIA AND THE SOUTH SANDWICH ISLANDS",
         51
        ],
        [
         "ANTARCTICA (THE TERRITORY SOUTH OF 60 DEG S)",
         32
        ],
        [
         "CAPE VERDE",
         43
        ],
        [
         "NORTHERN MARIANA ISLANDS",
         35
        ],
        [
         "MAURITANIA",
         36
        ],
        [
         "JERSEY",
         42
        ],
        [
         "SAINT MARTIN",
         39
        ],
        [
         "MALDIVES",
         37
        ],
        [
         "UNITED STATES VIRGIN ISLANDS",
         41
        ],
        [
         "SAO TOME AND PRINCIPE",
         45
        ],
        [
         "TANZANIA",
         39
        ],
        [
         "JORDAN",
         39
        ],
        [
         "MAYOTTE",
         39
        ],
        [
         "RUSSIAN FEDERATION",
         43
        ],
        [
         "LESOTHO",
         35
        ],
        [
         "ALBANIA",
         35
        ],
        [
         "SAINT PIERRE AND MIQUELON",
         42
        ],
        [
         "MALTA",
         45
        ],
        [
         "BELARUS",
         40
        ],
        [
         "EQUATORIAL GUINEA",
         38
        ],
        [
         "ANTIGUA AND BARBUDA",
         43
        ],
        [
         "MAURITIUS",
         44
        ],
        [
         "KUWAIT",
         45
        ],
        [
         "LITHUANIA",
         34
        ],
        [
         "AZERBAIJAN",
         40
        ],
        [
         "UNITED KINGDOM",
         41
        ],
        [
         "SAINT KITTS AND NEVIS",
         32
        ],
        [
         "PHILIPPINES",
         37
        ],
        [
         "TUVALU",
         38
        ],
        [
         "ANDORRA",
         44
        ],
        [
         "FALKLAND ISLANDS (MALVINAS)",
         41
        ],
        [
         "SENEGAL",
         54
        ],
        [
         "CZECH REPUBLIC",
         31
        ],
        [
         "OMAN",
         36
        ],
        [
         "AMERICAN SAMOA",
         51
        ],
        [
         "SAMOA",
         45
        ],
        [
         "NORFOLK ISLAND",
         50
        ],
        [
         "SOMALIA",
         35
        ],
        [
         "MONTSERRAT",
         38
        ],
        [
         "FRENCH GUIANA",
         37
        ],
        [
         "ESTONIA",
         43
        ],
        [
         "FRENCH SOUTHERN TERRITORIES",
         43
        ],
        [
         "KIRIBATI",
         35
        ],
        [
         "FIJI",
         44
        ],
        [
         "COSTA RICA",
         46
        ],
        [
         "SLOVAKIA (SLOVAK REPUBLIC)",
         45
        ],
        [
         "BHUTAN",
         34
        ],
        [
         "CANADA",
         52
        ],
        [
         "LAO PEOPLE'S DEMOCRATIC REPUBLIC",
         48
        ],
        [
         "POLAND",
         43
        ],
        [
         "HOLY SEE (VATICAN CITY STATE)",
         42
        ],
        [
         "GUADELOUPE",
         40
        ],
        [
         "CENTRAL AFRICAN REPUBLIC",
         36
        ],
        [
         "PUERTO RICO",
         43
        ],
        [
         "GRENADA",
         40
        ],
        [
         "COLOMBIA",
         37
        ],
        [
         "VANUATU",
         40
        ],
        [
         "SRI LANKA",
         47
        ],
        [
         "GUATEMALA",
         40
        ],
        [
         "WESTERN SAHARA",
         43
        ],
        [
         "ALGERIA",
         44
        ],
        [
         "UNITED ARAB EMIRATES",
         40
        ],
        [
         "GIBRALTAR",
         41
        ],
        [
         "GUERNSEY",
         32
        ],
        [
         "HONDURAS",
         40
        ],
        [
         "TURKMENISTAN",
         40
        ],
        [
         "SYRIAN ARAB REPUBLIC",
         30
        ],
        [
         "ARUBA",
         35
        ],
        [
         "DOMINICA",
         36
        ],
        [
         "BENIN",
         55
        ],
        [
         "EL SALVADOR",
         55
        ],
        [
         "NIGER",
         41
        ],
        [
         "LIBERIA",
         44
        ],
        [
         "MOROCCO",
         43
        ],
        [
         "BOSNIA AND HERZEGOVINA",
         26
        ],
        [
         "REUNION",
         43
        ],
        [
         "MEXICO",
         41
        ],
        [
         "CAMEROON",
         50
        ],
        [
         "BURUNDI",
         47
        ],
        [
         "PAKISTAN",
         39
        ],
        [
         "ANGUILLA",
         35
        ],
        [
         "FRANCE",
         50
        ],
        [
         "GABON",
         37
        ],
        [
         "CAYMAN ISLANDS",
         37
        ],
        [
         "GAMBIA",
         45
        ],
        [
         "FRENCH POLYNESIA",
         44
        ],
        [
         "BRUNEI DARUSSALAM",
         45
        ],
        [
         "SAINT LUCIA",
         44
        ],
        [
         "SINGAPORE",
         50
        ],
        [
         "MOZAMBIQUE",
         50
        ],
        [
         "MADAGASCAR",
         44
        ],
        [
         "NIGERIA",
         41
        ],
        [
         "COCOS (KEELING) ISLANDS",
         33
        ],
        [
         "CHINA",
         37
        ],
        [
         "UNITED STATES OF AMERICA",
         48
        ],
        [
         "MALAYSIA",
         54
        ],
        [
         "AUSTRIA",
         53
        ],
        [
         "ZAMBIA",
         36
        ],
        [
         "LATVIA",
         42
        ],
        [
         "NICARAGUA",
         53
        ],
        [
         "BOTSWANA",
         47
        ],
        [
         "NEPAL",
         46
        ],
        [
         "CHRISTMAS ISLAND",
         45
        ],
        [
         "MALI",
         33
        ],
        [
         "ZIMBABWE",
         39
        ],
        [
         "BELIZE",
         55
        ],
        [
         "SAUDI ARABIA",
         47
        ],
        [
         "CROATIA",
         39
        ],
        [
         "NIUE",
         43
        ],
        [
         "MARSHALL ISLANDS",
         36
        ],
        [
         "SURINAME",
         42
        ],
        [
         "MACEDONIA",
         38
        ],
        [
         "RWANDA",
         49
        ],
        [
         "BULGARIA",
         33
        ],
        [
         "SWITZERLAND",
         29
        ],
        [
         "KAZAKHSTAN",
         49
        ],
        [
         "ARGENTINA",
         58
        ],
        [
         "SUDAN",
         40
        ],
        [
         "PALESTINIAN TERRITORY",
         38
        ],
        [
         "HONG KONG",
         42
        ],
        [
         "GREENLAND",
         34
        ],
        [
         "GUAM",
         36
        ],
        [
         "UKRAINE",
         35
        ],
        [
         "SERBIA",
         31
        ],
        [
         "MICRONESIA",
         40
        ],
        [
         "SOLOMON ISLANDS",
         39
        ],
        [
         "NORWAY",
         44
        ],
        [
         "FINLAND",
         30
        ],
        [
         "MACAO",
         46
        ],
        [
         "MONGOLIA",
         28
        ],
        [
         "MALAWI",
         42
        ],
        [
         "MARTINIQUE",
         23
        ],
        [
         "DOMINICAN REPUBLIC",
         44
        ],
        [
         "NETHERLANDS",
         39
        ],
        [
         "BRITISH VIRGIN ISLANDS",
         51
        ],
        [
         "ANGOLA",
         34
        ],
        [
         "SLOVENIA",
         47
        ],
        [
         "GUYANA",
         35
        ],
        [
         "SIERRA LEONE",
         31
        ],
        [
         "UZBEKISTAN",
         46
        ],
        [
         "LIBYAN ARAB JAMAHIRIYA",
         46
        ],
        [
         "IRAN",
         45
        ],
        [
         "TUNISIA",
         36
        ],
        [
         "SWEDEN",
         40
        ],
        [
         "ECUADOR",
         37
        ],
        [
         "BELGIUM",
         39
        ],
        [
         "BOLIVIA",
         50
        ],
        [
         "TONGA",
         58
        ],
        [
         "TRINIDAD AND TOBAGO",
         52
        ],
        [
         "NAMIBIA",
         42
        ],
        [
         "TOKELAU",
         30
        ],
        [
         "NEW ZEALAND",
         41
        ],
        [
         "WALLIS AND FUTUNA",
         40
        ],
        [
         "SAINT HELENA",
         40
        ],
        [
         "SPAIN",
         36
        ],
        [
         "MOLDOVA",
         30
        ],
        [
         "PARAGUAY",
         33
        ],
        [
         "LEBANON",
         40
        ],
        [
         "BRITISH INDIAN OCEAN TERRITORY (CHAGOS ARCHIPELAGO)",
         29
        ],
        [
         "GREECE",
         39
        ],
        [
         "PALAU",
         37
        ],
        [
         "GUINEA",
         46
        ],
        [
         "SWAZILAND",
         34
        ],
        [
         "INDIA",
         41
        ],
        [
         "BERMUDA",
         39
        ],
        [
         "TAIWAN",
         39
        ],
        [
         "KENYA",
         54
        ],
        [
         "ICELAND",
         38
        ],
        [
         "COOK ISLANDS",
         41
        ],
        [
         "TURKEY",
         41
        ],
        [
         "FAROE ISLANDS",
         36
        ],
        [
         "LUXEMBOURG",
         35
        ],
        [
         "AFGHANISTAN",
         39
        ],
        [
         "NAURU",
         35
        ],
        [
         "LIECHTENSTEIN",
         40
        ],
        [
         "TAJIKISTAN",
         36
        ],
        [
         "TURKS AND CAICOS ISLANDS",
         42
        ],
        [
         "URUGUAY",
         38
        ],
        [
         "NETHERLANDS ANTILLES",
         41
        ],
        [
         "SVALBARD & JAN MAYEN ISLANDS",
         36
        ],
        [
         "ITALY",
         37
        ],
        [
         "MONACO",
         40
        ],
        [
         "AUSTRALIA",
         39
        ],
        [
         "PANAMA",
         37
        ],
        [
         "CHILE",
         45
        ],
        [
         "IRAQ",
         42
        ],
        [
         "THAILAND",
         49
        ],
        [
         "CHAD",
         30
        ],
        [
         "DENMARK",
         33
        ],
        [
         "HUNGARY",
         22
        ],
        [
         "QATAR",
         52
        ],
        [
         "SAINT VINCENT AND THE GRENADINES",
         36
        ],
        [
         "JAMAICA",
         35
        ],
        [
         "TOGO",
         41
        ],
        [
         "BOUVET ISLAND (BOUVETOYA)",
         42
        ],
        [
         "CONGO",
         90
        ],
        [
         "VIETNAM",
         38
        ],
        [
         "MONTENEGRO",
         39
        ],
        [
         "HAITI",
         39
        ],
        [
         "SAN MARINO",
         36
        ],
        [
         "DJIBOUTI",
         34
        ],
        [
         "CYPRUS",
         29
        ],
        [
         "COMOROS",
         42
        ],
        [
         "SEYCHELLES",
         40
        ],
        [
         "ETHIOPIA",
         50
        ],
        [
         "KYRGYZ REPUBLIC",
         42
        ],
        [
         "NEW CALEDONIA",
         34
        ],
        [
         "ISRAEL",
         41
        ],
        [
         "PAPUA NEW GUINEA",
         40
        ],
        [
         "PORTUGAL",
         31
        ],
        [
         "HEARD ISLAND AND MCDONALD ISLANDS",
         39
        ],
        [
         "INDONESIA",
         46
        ],
        [
         "KOREA",
         84
        ],
        [
         "PITCAIRN ISLANDS",
         32
        ],
        [
         "YEMEN",
         38
        ],
        [
         "IRELAND",
         46
        ],
        [
         "BURKINA FASO",
         45
        ],
        [
         "ERITREA",
         41
        ],
        [
         "ROMANIA",
         43
        ],
        [
         "GERMANY",
         42
        ],
        [
         "SAINT BARTHELEMY",
         40
        ],
        [
         "GHANA",
         50
        ],
        [
         "BRAZIL",
         39
        ],
        [
         "GUINEA-BISSAU",
         46
        ],
        [
         "ISLE OF MAN",
         30
        ],
        [
         "COTE D'IVOIRE",
         39
        ],
        [
         "BARBADOS",
         40
        ],
        [
         "VENEZUELA",
         44
        ],
        [
         "EGYPT",
         43
        ],
        [
         "BAHRAIN",
         41
        ],
        [
         "CUBA",
         48
        ],
        [
         "PERU",
         45
        ],
        [
         "GEORGIA",
         34
        ],
        [
         "MYANMAR",
         37
        ]
       ],
       "datasetInfos": [],
       "dbfsResultPath": null,
       "isJsonSchema": true,
       "metadata": {},
       "overflow": false,
       "plotOptions": {
        "customPlotOptions": {},
        "displayType": "table",
        "pivotAggregation": null,
        "pivotColumns": null,
        "xColumns": null,
        "yColumns": null
       },
       "removedWidgets": [],
       "schema": [
        {
         "metadata": "{}",
         "name": "Country",
         "type": "\"string\""
        },
        {
         "metadata": "{}",
         "name": "count",
         "type": "\"long\""
        }
       ],
       "type": "table"
      }
     },
     "output_type": "display_data"
    },
    {
     "output_type": "display_data",
     "data": {
      "text/plain": [
       "Databricks visualization. Run in Databricks to view."
      ]
     },
     "metadata": {
      "application/vnd.databricks.v1.subcommand+json": {
       "baseErrorDetails": null,
       "bindings": {},
       "collapsed": false,
       "command": "%python\n__backend_agg_display_orig = display\n__backend_agg_dfs = []\ndef __backend_agg_display_new(df):\n    __backend_agg_df_modules = [\"pandas.core.frame\", \"databricks.koalas.frame\", \"pyspark.sql.dataframe\", \"pyspark.pandas.frame\", \"pyspark.sql.connect.dataframe\"]\n    if (type(df).__module__ in __backend_agg_df_modules and type(df).__name__ == 'DataFrame') or isinstance(df, list):\n        __backend_agg_dfs.append(df)\n\ndisplay = __backend_agg_display_new\n\ndef __backend_agg_user_code_fn():\n    import base64\n    exec(base64.standard_b64decode(\"IyBDb3VudCBvZiBPcmdhbml6YXRpb25zIGJ5IENvdW50cnkKY291bnRyeV9jb3VudHMgPSBkZi5ncm91cEJ5KCJDb3VudHJ5IikuY291bnQoKQoKZGlzcGxheShjb3VudHJ5X2NvdW50cyk=\").decode())\n\ntry:\n    # run user code\n    __backend_agg_user_code_fn()\n\n    #reset display function\n    display = __backend_agg_display_orig\n\n    if len(__backend_agg_dfs) > 0:\n        # create a temp view\n        if type(__backend_agg_dfs[0]).__module__ == \"databricks.koalas.frame\":\n            # koalas dataframe\n            __backend_agg_dfs[0].to_spark().createOrReplaceTempView(\"DatabricksViewa9c7680\")\n        elif type(__backend_agg_dfs[0]).__module__ == \"pandas.core.frame\" or isinstance(__backend_agg_dfs[0], list):\n            # pandas dataframe\n            spark.createDataFrame(__backend_agg_dfs[0]).createOrReplaceTempView(\"DatabricksViewa9c7680\")\n        else:\n            __backend_agg_dfs[0].createOrReplaceTempView(\"DatabricksViewa9c7680\")\n        #run backend agg\n        display(spark.sql(\"\"\"WITH q AS (select * from DatabricksViewa9c7680) SELECT `Country`,SUM(`count`) `column_a6557c6f10` FROM q GROUP BY `Country`\"\"\"))\n    else:\n        displayHTML(\"dataframe no longer exists. If you're using dataframe.display(), use display(dataframe) instead.\")\n\n\nfinally:\n    spark.sql(\"drop view if exists DatabricksViewa9c7680\")\n    display = __backend_agg_display_orig\n    del __backend_agg_display_new\n    del __backend_agg_display_orig\n    del __backend_agg_dfs\n    del __backend_agg_user_code_fn\n\n",
       "commandTitle": "Visualization 1",
       "commandType": "auto",
       "commandVersion": 0,
       "commentThread": [],
       "commentsVisible": false,
       "contentSha256Hex": null,
       "customPlotOptions": {
        "redashChart": [
         {
          "key": "type",
          "value": "CHART"
         },
         {
          "key": "options",
          "value": {
           "alignYAxesAtZero": true,
           "coefficient": 1,
           "columnConfigurationMap": {
            "x": {
             "column": "Country",
             "id": "column_a6557c6f6"
            },
            "y": [
             {
              "column": "count",
              "id": "column_a6557c6f10",
              "transform": "SUM"
             }
            ]
           },
           "dateTimeFormat": "DD/MM/YYYY HH:mm",
           "direction": {
            "type": "counterclockwise"
           },
           "error_y": {
            "type": "data",
            "visible": true
           },
           "globalSeriesType": "pie",
           "isAggregationOn": true,
           "legend": {
            "traceorder": "normal"
           },
           "missingValuesAsZero": true,
           "numberFormat": "0,0.[00000]",
           "percentFormat": "0[.]00%",
           "series": {
            "error_y": {
             "type": "data",
             "visible": true
            },
            "stacking": null
           },
           "seriesOptions": {
            "column_a6557c6f10": {
             "type": "pie",
             "yAxis": 0
            }
           },
           "showDataLabels": true,
           "sizemode": "diameter",
           "sortX": true,
           "sortY": true,
           "swappedAxes": false,
           "textFormat": "",
           "useAggregationsUi": true,
           "valuesOptions": {},
           "version": 2,
           "xAxis": {
            "labels": {
             "enabled": true
            },
            "type": "-"
           },
           "yAxis": [
            {
             "type": "-"
            },
            {
             "opposite": true,
             "type": "-"
            }
           ]
          }
         }
        ]
       },
       "datasetPreviewNameToCmdIdMap": {},
       "diffDeletes": [],
       "diffInserts": [],
       "displayType": "redashChart",
       "error": null,
       "errorDetails": null,
       "errorSummary": null,
       "errorTraceType": null,
       "finishTime": 0,
       "globalVars": {},
       "guid": "",
       "height": "auto",
       "hideCommandCode": false,
       "hideCommandResult": false,
       "iPythonMetadata": null,
       "inputWidgets": {},
       "isLockedInExamMode": false,
       "latestUser": "a user",
       "latestUserId": null,
       "listResultMetadata": null,
       "metadata": {},
       "nuid": "c49a55c9-5488-40ec-9da0-5899269234e8",
       "origId": 0,
       "parentHierarchy": [],
       "pivotAggregation": null,
       "pivotColumns": null,
       "position": 3.5,
       "resultDbfsErrorMessage": null,
       "resultDbfsStatus": "INLINED_IN_TREE",
       "results": null,
       "showCommandTitle": false,
       "startTime": 0,
       "state": "input",
       "streamStates": {},
       "subcommandOptions": {
        "queryPlan": {
         "groups": [
          {
           "column": "Country",
           "type": "column"
          }
         ],
         "selects": [
          {
           "column": "Country",
           "type": "column"
          },
          {
           "alias": "column_a6557c6f10",
           "args": [
            {
             "column": "count",
             "type": "column"
            }
           ],
           "function": "SUM",
           "type": "function"
          }
         ]
        }
       },
       "submitTime": 0,
       "subtype": "tableResultSubCmd.visualization",
       "tableResultIndex": 0,
       "useConsistentColors": false,
       "version": "CommandV1",
       "width": "auto",
       "workflows": [],
       "xColumns": null,
       "yColumns": null
      }
     },
     "output_type": "display_data"
    }
   ],
   "source": [
    "# Count of Organizations by Country\n",
    "country_counts = df.groupBy(\"Country\").count()\n",
    "\n",
    "display(country_counts)"
   ]
  },
  {
   "cell_type": "code",
   "execution_count": 0,
   "metadata": {
    "application/vnd.databricks.v1+cell": {
     "cellMetadata": {
      "byteLimit": 2048000,
      "rowLimit": 10000
     },
     "inputWidgets": {},
     "nuid": "77071bc5-92ff-45f2-a5ab-1c9ef5edf921",
     "showTitle": false,
     "title": ""
    }
   },
   "outputs": [
    {
     "output_type": "display_data",
     "data": {
      "text/html": [
       "<style scoped>\n",
       "  .table-result-container {\n",
       "    max-height: 300px;\n",
       "    overflow: auto;\n",
       "  }\n",
       "  table, th, td {\n",
       "    border: 1px solid black;\n",
       "    border-collapse: collapse;\n",
       "  }\n",
       "  th, td {\n",
       "    padding: 5px;\n",
       "  }\n",
       "  th {\n",
       "    text-align: left;\n",
       "  }\n",
       "</style><div class='table-result-container'><table class='table-result'><thead style='background-color: white'><tr><th>Industry</th><th>avg(Number of employees)</th></tr></thead><tbody><tr><td>Primary / Secondary Education</td><td>5092.871428571429</td></tr><tr><td>Broadcast Media</td><td>4663.333333333333</td></tr><tr><td>Wholesale</td><td>4644.610169491525</td></tr><tr><td>Ranching</td><td>5009.368421052632</td></tr><tr><td>Investment Management / Hedge Fund / Private Equity</td><td>4916.5</td></tr><tr><td>Library</td><td>5031.8625</td></tr><tr><td>Food / Beverages</td><td>5191.069444444444</td></tr><tr><td>Sporting Goods</td><td>5067.543859649123</td></tr><tr><td>Shipbuilding</td><td>5126.0</td></tr><tr><td>Gambling / Casinos</td><td>4991.098360655737</td></tr><tr><td>Health / Fitness</td><td>5451.854166666667</td></tr><tr><td>Computer Hardware</td><td>4875.868421052632</td></tr><tr><td>Logistics / Procurement</td><td>5231.892307692307</td></tr><tr><td>Railroad Manufacture</td><td>4896.632352941177</td></tr><tr><td>Maritime</td><td>5194.045454545455</td></tr><tr><td>Education Management</td><td>5684.878787878788</td></tr><tr><td>Wireless</td><td>4544.202898550725</td></tr><tr><td>Leisure / Travel</td><td>5660.741935483871</td></tr><tr><td>Paper / Forest Products</td><td>4898.524590163935</td></tr><tr><td>Information Services</td><td>5202.857142857143</td></tr><tr><td>Events Services</td><td>4613.2307692307695</td></tr><tr><td>Arts / Crafts</td><td>4949.603174603175</td></tr><tr><td>Insurance</td><td>4950.161764705882</td></tr><tr><td>Financial Services</td><td>4995.675324675325</td></tr><tr><td>Business Supplies / Equipment</td><td>4813.746031746032</td></tr><tr><td>Consumer Electronics</td><td>5155.95</td></tr><tr><td>Public Safety</td><td>5392.2972972972975</td></tr><tr><td>Information Technology / IT</td><td>4628.180722891566</td></tr><tr><td>Other Industry</td><td>4755.857142857143</td></tr><tr><td>Civic / Social Organization</td><td>4561.686567164179</td></tr><tr><td>Warehousing</td><td>5431.183098591549</td></tr><tr><td>Consumer Goods</td><td>5125.242857142857</td></tr><tr><td>Computer Networking</td><td>4832.727272727273</td></tr><tr><td>Machinery</td><td>4732.066666666667</td></tr><tr><td>Sports</td><td>4632.478260869565</td></tr><tr><td>Program Development</td><td>4601.338028169014</td></tr><tr><td>Mining / Metals</td><td>5327.453333333333</td></tr><tr><td>Accounting</td><td>4552.822580645161</td></tr><tr><td>International Affairs</td><td>4763.072727272727</td></tr><tr><td>Professional Training</td><td>4334.569230769231</td></tr><tr><td>Glass / Ceramics / Concrete</td><td>5129.237288135593</td></tr><tr><td>Graphic Design / Web Design</td><td>5068.145161290323</td></tr><tr><td>Writing / Editing</td><td>5216.366197183099</td></tr><tr><td>Apparel / Fashion</td><td>4713.758064516129</td></tr><tr><td>Museums / Institutions</td><td>5009.939393939394</td></tr><tr><td>Law Practice / Law Firms</td><td>6116.418181818181</td></tr><tr><td>Hospital / Health Care</td><td>5068.746987951808</td></tr><tr><td>Online Publishing</td><td>5512.455882352941</td></tr><tr><td>Environmental Services</td><td>4823.235294117647</td></tr><tr><td>Electrical / Electronic Manufacturing</td><td>4614.835616438356</td></tr><tr><td>Human Resources / HR</td><td>5337.703125</td></tr><tr><td>Philanthropy</td><td>5048.958904109589</td></tr><tr><td>Internet</td><td>5320.6349206349205</td></tr><tr><td>Think Tanks</td><td>4972.4625</td></tr><tr><td>Import / Export</td><td>5417.8</td></tr><tr><td>Security / Investigations</td><td>4861.394366197183</td></tr><tr><td>Real Estate / Mortgage</td><td>4527.720588235294</td></tr><tr><td>Printing</td><td>5506.75</td></tr><tr><td>Publishing Industry</td><td>4751.313432835821</td></tr><tr><td>Defense / Space</td><td>5661.6543209876545</td></tr><tr><td>Textiles</td><td>5214.163934426229</td></tr><tr><td>Market Research</td><td>4611.723684210527</td></tr><tr><td>Investment Banking / Venture</td><td>5591.252873563219</td></tr><tr><td>Mechanical or Industrial Engineering</td><td>4998.388888888889</td></tr><tr><td>Higher Education / Acadamia</td><td>5237.316666666667</td></tr><tr><td>Wine / Spirits</td><td>4603.60294117647</td></tr><tr><td>Banking / Mortgage</td><td>5045.320754716981</td></tr><tr><td>Entertainment / Movie Production</td><td>5451.873015873016</td></tr><tr><td>Research Industry</td><td>4512.823529411765</td></tr><tr><td>Biotechnology / Greentech</td><td>4826.30303030303</td></tr><tr><td>Veterinary</td><td>4792.291139240507</td></tr><tr><td>E - Learning</td><td>4706.571428571428</td></tr><tr><td>Luxury Goods / Jewelry</td><td>4330.060606060606</td></tr><tr><td>Fishery</td><td>4650.471428571429</td></tr><tr><td>Law Enforcement</td><td>5425.22972972973</td></tr><tr><td>Automotive</td><td>4430.878048780488</td></tr><tr><td>Fundraising</td><td>5057.716216216216</td></tr><tr><td>Medical Practice</td><td>4864.424657534247</td></tr><tr><td>Semiconductors</td><td>5129.273809523809</td></tr><tr><td>Construction</td><td>4623.611111111111</td></tr><tr><td>Executive Office</td><td>4479.435483870968</td></tr><tr><td>Utilities</td><td>4937.972602739726</td></tr><tr><td>Plastics</td><td>4410.785714285715</td></tr><tr><td>Retail Industry</td><td>5210.739130434783</td></tr><tr><td>Media Production</td><td>5476.9384615384615</td></tr><tr><td>Facilities Services</td><td>4679.695652173913</td></tr><tr><td>Non - Profit / Volunteering</td><td>4181.810810810811</td></tr><tr><td>Dairy</td><td>5470.821428571428</td></tr><tr><td>Outsourcing / Offshoring</td><td>4800.25</td></tr><tr><td>Telecommunications</td><td>5090.917808219178</td></tr><tr><td>Recreational Facilities / Services</td><td>4798.802469135802</td></tr><tr><td>Restaurants</td><td>4777.394366197183</td></tr><tr><td>Industrial Automation</td><td>5717.526315789473</td></tr><tr><td>Public Relations / PR</td><td>4874.948717948718</td></tr><tr><td>Fine Art</td><td>5079.267857142857</td></tr><tr><td>Animation</td><td>4348.32</td></tr><tr><td>Airlines / Aviation</td><td>5423.725</td></tr><tr><td>Individual / Family Services</td><td>4740.135135135135</td></tr><tr><td>Medical Equipment</td><td>5244.8</td></tr><tr><td>Hospitality</td><td>4733.419753086419</td></tr><tr><td>Oil / Energy / Solar / Greentech</td><td>4609.915492957746</td></tr><tr><td>Design</td><td>4690.927536231884</td></tr><tr><td>Music</td><td>5318.367647058823</td></tr><tr><td>Computer / Network Security</td><td>4373.490566037736</td></tr><tr><td>Furniture</td><td>4666.95</td></tr><tr><td>Aviation / Aerospace</td><td>4641.720588235294</td></tr><tr><td>Photography</td><td>4793.5641025641025</td></tr><tr><td>Military Industry</td><td>5479.059701492537</td></tr><tr><td>Building Materials</td><td>5282.650793650793</td></tr><tr><td>Government Relations</td><td>5600.017241379311</td></tr><tr><td>International Trade / Development</td><td>5013.588235294118</td></tr><tr><td>Cosmetics</td><td>5048.4358974358975</td></tr><tr><td>Commercial Real Estate</td><td>4792.272727272727</td></tr><tr><td>Consumer Services</td><td>4706.088235294118</td></tr><tr><td>Newspapers / Journalism</td><td>4414.766666666666</td></tr><tr><td>Political Organization</td><td>4392.10294117647</td></tr><tr><td>Capital Markets / Hedge Fund / Private Equity</td><td>5089.774647887324</td></tr><tr><td>Renewables / Environment</td><td>5582.258620689655</td></tr><tr><td>Motion Pictures / Film</td><td>5296.066666666667</td></tr><tr><td>Translation / Localization</td><td>4124.661764705882</td></tr><tr><td>Supermarkets</td><td>4776.737704918033</td></tr><tr><td>Chemicals</td><td>4888.940298507463</td></tr><tr><td>Package / Freight Delivery</td><td>5501.28</td></tr><tr><td>Performing Arts</td><td>5375.428571428572</td></tr><tr><td>Architecture / Planning</td><td>5249.611111111111</td></tr><tr><td>Marketing / Advertising / Sales</td><td>5450.296875</td></tr><tr><td>Government Administration</td><td>5298.481927710844</td></tr><tr><td>Judiciary</td><td>4678.479452054795</td></tr><tr><td>Pharmaceuticals</td><td>5021.945945945946</td></tr><tr><td>Religious Institutions</td><td>5169.471428571429</td></tr><tr><td>Nanotechnology</td><td>4629.9857142857145</td></tr><tr><td>Tobacco</td><td>5106.573770491803</td></tr><tr><td>Legal Services</td><td>5540.768115942029</td></tr><tr><td>Management Consulting</td><td>5012.242424242424</td></tr><tr><td>Food Production</td><td>4103.296875</td></tr><tr><td>Venture Capital / VC</td><td>5145.863636363636</td></tr><tr><td>Civil Engineering</td><td>4416.8133333333335</td></tr><tr><td>Alternative Dispute Resolution</td><td>5993.830985915493</td></tr><tr><td>Computer Software / Engineering</td><td>4755.479452054795</td></tr><tr><td>Transportation</td><td>4698.316455696203</td></tr><tr><td>Packaging / Containers</td><td>5138.548387096775</td></tr><tr><td>Mental Health Care</td><td>4410.871428571429</td></tr><tr><td>Legislative Office</td><td>4672.316455696203</td></tr><tr><td>Farming</td><td>5207.275862068966</td></tr><tr><td>Computer Games</td><td>4535.491228070176</td></tr><tr><td>Staffing / Recruiting</td><td>4608.586956521739</td></tr><tr><td>Alternative Medicine</td><td>4778.462686567164</td></tr></tbody></table></div>"
      ]
     },
     "metadata": {
      "application/vnd.databricks.v1+output": {
       "addedWidgets": {},
       "aggData": [],
       "aggError": "",
       "aggOverflow": false,
       "aggSchema": [],
       "aggSeriesLimitReached": false,
       "aggType": "",
       "arguments": {},
       "columnCustomDisplayInfos": {},
       "data": [
        [
         "Primary / Secondary Education",
         5092.871428571429
        ],
        [
         "Broadcast Media",
         4663.333333333333
        ],
        [
         "Wholesale",
         4644.610169491525
        ],
        [
         "Ranching",
         5009.368421052632
        ],
        [
         "Investment Management / Hedge Fund / Private Equity",
         4916.5
        ],
        [
         "Library",
         5031.8625
        ],
        [
         "Food / Beverages",
         5191.069444444444
        ],
        [
         "Sporting Goods",
         5067.543859649123
        ],
        [
         "Shipbuilding",
         5126.0
        ],
        [
         "Gambling / Casinos",
         4991.098360655737
        ],
        [
         "Health / Fitness",
         5451.854166666667
        ],
        [
         "Computer Hardware",
         4875.868421052632
        ],
        [
         "Logistics / Procurement",
         5231.892307692307
        ],
        [
         "Railroad Manufacture",
         4896.632352941177
        ],
        [
         "Maritime",
         5194.045454545455
        ],
        [
         "Education Management",
         5684.878787878788
        ],
        [
         "Wireless",
         4544.202898550725
        ],
        [
         "Leisure / Travel",
         5660.741935483871
        ],
        [
         "Paper / Forest Products",
         4898.524590163935
        ],
        [
         "Information Services",
         5202.857142857143
        ],
        [
         "Events Services",
         4613.2307692307695
        ],
        [
         "Arts / Crafts",
         4949.603174603175
        ],
        [
         "Insurance",
         4950.161764705882
        ],
        [
         "Financial Services",
         4995.675324675325
        ],
        [
         "Business Supplies / Equipment",
         4813.746031746032
        ],
        [
         "Consumer Electronics",
         5155.95
        ],
        [
         "Public Safety",
         5392.2972972972975
        ],
        [
         "Information Technology / IT",
         4628.180722891566
        ],
        [
         "Other Industry",
         4755.857142857143
        ],
        [
         "Civic / Social Organization",
         4561.686567164179
        ],
        [
         "Warehousing",
         5431.183098591549
        ],
        [
         "Consumer Goods",
         5125.242857142857
        ],
        [
         "Computer Networking",
         4832.727272727273
        ],
        [
         "Machinery",
         4732.066666666667
        ],
        [
         "Sports",
         4632.478260869565
        ],
        [
         "Program Development",
         4601.338028169014
        ],
        [
         "Mining / Metals",
         5327.453333333333
        ],
        [
         "Accounting",
         4552.822580645161
        ],
        [
         "International Affairs",
         4763.072727272727
        ],
        [
         "Professional Training",
         4334.569230769231
        ],
        [
         "Glass / Ceramics / Concrete",
         5129.237288135593
        ],
        [
         "Graphic Design / Web Design",
         5068.145161290323
        ],
        [
         "Writing / Editing",
         5216.366197183099
        ],
        [
         "Apparel / Fashion",
         4713.758064516129
        ],
        [
         "Museums / Institutions",
         5009.939393939394
        ],
        [
         "Law Practice / Law Firms",
         6116.418181818181
        ],
        [
         "Hospital / Health Care",
         5068.746987951808
        ],
        [
         "Online Publishing",
         5512.455882352941
        ],
        [
         "Environmental Services",
         4823.235294117647
        ],
        [
         "Electrical / Electronic Manufacturing",
         4614.835616438356
        ],
        [
         "Human Resources / HR",
         5337.703125
        ],
        [
         "Philanthropy",
         5048.958904109589
        ],
        [
         "Internet",
         5320.6349206349205
        ],
        [
         "Think Tanks",
         4972.4625
        ],
        [
         "Import / Export",
         5417.8
        ],
        [
         "Security / Investigations",
         4861.394366197183
        ],
        [
         "Real Estate / Mortgage",
         4527.720588235294
        ],
        [
         "Printing",
         5506.75
        ],
        [
         "Publishing Industry",
         4751.313432835821
        ],
        [
         "Defense / Space",
         5661.6543209876545
        ],
        [
         "Textiles",
         5214.163934426229
        ],
        [
         "Market Research",
         4611.723684210527
        ],
        [
         "Investment Banking / Venture",
         5591.252873563219
        ],
        [
         "Mechanical or Industrial Engineering",
         4998.388888888889
        ],
        [
         "Higher Education / Acadamia",
         5237.316666666667
        ],
        [
         "Wine / Spirits",
         4603.60294117647
        ],
        [
         "Banking / Mortgage",
         5045.320754716981
        ],
        [
         "Entertainment / Movie Production",
         5451.873015873016
        ],
        [
         "Research Industry",
         4512.823529411765
        ],
        [
         "Biotechnology / Greentech",
         4826.30303030303
        ],
        [
         "Veterinary",
         4792.291139240507
        ],
        [
         "E - Learning",
         4706.571428571428
        ],
        [
         "Luxury Goods / Jewelry",
         4330.060606060606
        ],
        [
         "Fishery",
         4650.471428571429
        ],
        [
         "Law Enforcement",
         5425.22972972973
        ],
        [
         "Automotive",
         4430.878048780488
        ],
        [
         "Fundraising",
         5057.716216216216
        ],
        [
         "Medical Practice",
         4864.424657534247
        ],
        [
         "Semiconductors",
         5129.273809523809
        ],
        [
         "Construction",
         4623.611111111111
        ],
        [
         "Executive Office",
         4479.435483870968
        ],
        [
         "Utilities",
         4937.972602739726
        ],
        [
         "Plastics",
         4410.785714285715
        ],
        [
         "Retail Industry",
         5210.739130434783
        ],
        [
         "Media Production",
         5476.9384615384615
        ],
        [
         "Facilities Services",
         4679.695652173913
        ],
        [
         "Non - Profit / Volunteering",
         4181.810810810811
        ],
        [
         "Dairy",
         5470.821428571428
        ],
        [
         "Outsourcing / Offshoring",
         4800.25
        ],
        [
         "Telecommunications",
         5090.917808219178
        ],
        [
         "Recreational Facilities / Services",
         4798.802469135802
        ],
        [
         "Restaurants",
         4777.394366197183
        ],
        [
         "Industrial Automation",
         5717.526315789473
        ],
        [
         "Public Relations / PR",
         4874.948717948718
        ],
        [
         "Fine Art",
         5079.267857142857
        ],
        [
         "Animation",
         4348.32
        ],
        [
         "Airlines / Aviation",
         5423.725
        ],
        [
         "Individual / Family Services",
         4740.135135135135
        ],
        [
         "Medical Equipment",
         5244.8
        ],
        [
         "Hospitality",
         4733.419753086419
        ],
        [
         "Oil / Energy / Solar / Greentech",
         4609.915492957746
        ],
        [
         "Design",
         4690.927536231884
        ],
        [
         "Music",
         5318.367647058823
        ],
        [
         "Computer / Network Security",
         4373.490566037736
        ],
        [
         "Furniture",
         4666.95
        ],
        [
         "Aviation / Aerospace",
         4641.720588235294
        ],
        [
         "Photography",
         4793.5641025641025
        ],
        [
         "Military Industry",
         5479.059701492537
        ],
        [
         "Building Materials",
         5282.650793650793
        ],
        [
         "Government Relations",
         5600.017241379311
        ],
        [
         "International Trade / Development",
         5013.588235294118
        ],
        [
         "Cosmetics",
         5048.4358974358975
        ],
        [
         "Commercial Real Estate",
         4792.272727272727
        ],
        [
         "Consumer Services",
         4706.088235294118
        ],
        [
         "Newspapers / Journalism",
         4414.766666666666
        ],
        [
         "Political Organization",
         4392.10294117647
        ],
        [
         "Capital Markets / Hedge Fund / Private Equity",
         5089.774647887324
        ],
        [
         "Renewables / Environment",
         5582.258620689655
        ],
        [
         "Motion Pictures / Film",
         5296.066666666667
        ],
        [
         "Translation / Localization",
         4124.661764705882
        ],
        [
         "Supermarkets",
         4776.737704918033
        ],
        [
         "Chemicals",
         4888.940298507463
        ],
        [
         "Package / Freight Delivery",
         5501.28
        ],
        [
         "Performing Arts",
         5375.428571428572
        ],
        [
         "Architecture / Planning",
         5249.611111111111
        ],
        [
         "Marketing / Advertising / Sales",
         5450.296875
        ],
        [
         "Government Administration",
         5298.481927710844
        ],
        [
         "Judiciary",
         4678.479452054795
        ],
        [
         "Pharmaceuticals",
         5021.945945945946
        ],
        [
         "Religious Institutions",
         5169.471428571429
        ],
        [
         "Nanotechnology",
         4629.9857142857145
        ],
        [
         "Tobacco",
         5106.573770491803
        ],
        [
         "Legal Services",
         5540.768115942029
        ],
        [
         "Management Consulting",
         5012.242424242424
        ],
        [
         "Food Production",
         4103.296875
        ],
        [
         "Venture Capital / VC",
         5145.863636363636
        ],
        [
         "Civil Engineering",
         4416.8133333333335
        ],
        [
         "Alternative Dispute Resolution",
         5993.830985915493
        ],
        [
         "Computer Software / Engineering",
         4755.479452054795
        ],
        [
         "Transportation",
         4698.316455696203
        ],
        [
         "Packaging / Containers",
         5138.548387096775
        ],
        [
         "Mental Health Care",
         4410.871428571429
        ],
        [
         "Legislative Office",
         4672.316455696203
        ],
        [
         "Farming",
         5207.275862068966
        ],
        [
         "Computer Games",
         4535.491228070176
        ],
        [
         "Staffing / Recruiting",
         4608.586956521739
        ],
        [
         "Alternative Medicine",
         4778.462686567164
        ]
       ],
       "datasetInfos": [],
       "dbfsResultPath": null,
       "isJsonSchema": true,
       "metadata": {},
       "overflow": false,
       "plotOptions": {
        "customPlotOptions": {},
        "displayType": "table",
        "pivotAggregation": null,
        "pivotColumns": null,
        "xColumns": null,
        "yColumns": null
       },
       "removedWidgets": [],
       "schema": [
        {
         "metadata": "{}",
         "name": "Industry",
         "type": "\"string\""
        },
        {
         "metadata": "{}",
         "name": "avg(Number of employees)",
         "type": "\"double\""
        }
       ],
       "type": "table"
      }
     },
     "output_type": "display_data"
    }
   ],
   "source": [
    "# Average Number of Employees per Industry\n",
    "avg_employees_by_industry = df.groupBy(\"Industry\").avg(\"Number of employees\")\n",
    "display(avg_employees_by_industry)"
   ]
  },
  {
   "cell_type": "code",
   "execution_count": 0,
   "metadata": {
    "application/vnd.databricks.v1+cell": {
     "cellMetadata": {
      "byteLimit": 2048000,
      "rowLimit": 10000
     },
     "inputWidgets": {},
     "nuid": "04fd322f-12cf-4ca5-8057-c5432df84e36",
     "showTitle": false,
     "title": ""
    }
   },
   "outputs": [
    {
     "output_type": "display_data",
     "data": {
      "text/html": [
       "<style scoped>\n",
       "  .table-result-container {\n",
       "    max-height: 300px;\n",
       "    overflow: auto;\n",
       "  }\n",
       "  table, th, td {\n",
       "    border: 1px solid black;\n",
       "    border-collapse: collapse;\n",
       "  }\n",
       "  th, td {\n",
       "    padding: 5px;\n",
       "  }\n",
       "  th {\n",
       "    text-align: left;\n",
       "  }\n",
       "</style><div class='table-result-container'><table class='table-result'><thead style='background-color: white'><tr><th>Founded</th><th>count</th></tr></thead><tbody><tr><td>1990</td><td>188</td></tr><tr><td>1975</td><td>203</td></tr><tr><td>1977</td><td>204</td></tr><tr><td>2003</td><td>235</td></tr><tr><td>2007</td><td>183</td></tr><tr><td>2018</td><td>195</td></tr><tr><td>1974</td><td>174</td></tr><tr><td>2015</td><td>182</td></tr><tr><td>2006</td><td>198</td></tr><tr><td>1978</td><td>182</td></tr><tr><td>2022</td><td>78</td></tr><tr><td>2013</td><td>175</td></tr><tr><td>1997</td><td>192</td></tr><tr><td>1988</td><td>167</td></tr><tr><td>1994</td><td>204</td></tr><tr><td>2014</td><td>185</td></tr><tr><td>1973</td><td>197</td></tr><tr><td>1979</td><td>185</td></tr><tr><td>2019</td><td>194</td></tr><tr><td>1971</td><td>181</td></tr><tr><td>2004</td><td>193</td></tr><tr><td>1991</td><td>203</td></tr><tr><td>1982</td><td>193</td></tr><tr><td>1989</td><td>168</td></tr><tr><td>1996</td><td>195</td></tr><tr><td>1998</td><td>182</td></tr><tr><td>2020</td><td>183</td></tr><tr><td>1985</td><td>165</td></tr><tr><td>1970</td><td>179</td></tr><tr><td>2012</td><td>192</td></tr><tr><td>1987</td><td>187</td></tr><tr><td>2009</td><td>191</td></tr><tr><td>2016</td><td>180</td></tr><tr><td>1995</td><td>172</td></tr><tr><td>1980</td><td>185</td></tr><tr><td>2001</td><td>212</td></tr><tr><td>1972</td><td>186</td></tr><tr><td>1992</td><td>197</td></tr><tr><td>1983</td><td>198</td></tr><tr><td>2005</td><td>186</td></tr><tr><td>1984</td><td>215</td></tr><tr><td>2000</td><td>226</td></tr><tr><td>2010</td><td>210</td></tr><tr><td>1981</td><td>189</td></tr><tr><td>1986</td><td>170</td></tr><tr><td>2011</td><td>196</td></tr><tr><td>1976</td><td>185</td></tr><tr><td>2008</td><td>184</td></tr><tr><td>2017</td><td>168</td></tr><tr><td>1999</td><td>225</td></tr><tr><td>2002</td><td>181</td></tr><tr><td>2021</td><td>188</td></tr><tr><td>1993</td><td>214</td></tr></tbody></table></div>"
      ]
     },
     "metadata": {
      "application/vnd.databricks.v1+output": {
       "addedWidgets": {},
       "aggData": [],
       "aggError": "",
       "aggOverflow": false,
       "aggSchema": [],
       "aggSeriesLimitReached": false,
       "aggType": "",
       "arguments": {},
       "columnCustomDisplayInfos": {},
       "data": [
        [
         1990,
         188
        ],
        [
         1975,
         203
        ],
        [
         1977,
         204
        ],
        [
         2003,
         235
        ],
        [
         2007,
         183
        ],
        [
         2018,
         195
        ],
        [
         1974,
         174
        ],
        [
         2015,
         182
        ],
        [
         2006,
         198
        ],
        [
         1978,
         182
        ],
        [
         2022,
         78
        ],
        [
         2013,
         175
        ],
        [
         1997,
         192
        ],
        [
         1988,
         167
        ],
        [
         1994,
         204
        ],
        [
         2014,
         185
        ],
        [
         1973,
         197
        ],
        [
         1979,
         185
        ],
        [
         2019,
         194
        ],
        [
         1971,
         181
        ],
        [
         2004,
         193
        ],
        [
         1991,
         203
        ],
        [
         1982,
         193
        ],
        [
         1989,
         168
        ],
        [
         1996,
         195
        ],
        [
         1998,
         182
        ],
        [
         2020,
         183
        ],
        [
         1985,
         165
        ],
        [
         1970,
         179
        ],
        [
         2012,
         192
        ],
        [
         1987,
         187
        ],
        [
         2009,
         191
        ],
        [
         2016,
         180
        ],
        [
         1995,
         172
        ],
        [
         1980,
         185
        ],
        [
         2001,
         212
        ],
        [
         1972,
         186
        ],
        [
         1992,
         197
        ],
        [
         1983,
         198
        ],
        [
         2005,
         186
        ],
        [
         1984,
         215
        ],
        [
         2000,
         226
        ],
        [
         2010,
         210
        ],
        [
         1981,
         189
        ],
        [
         1986,
         170
        ],
        [
         2011,
         196
        ],
        [
         1976,
         185
        ],
        [
         2008,
         184
        ],
        [
         2017,
         168
        ],
        [
         1999,
         225
        ],
        [
         2002,
         181
        ],
        [
         2021,
         188
        ],
        [
         1993,
         214
        ]
       ],
       "datasetInfos": [],
       "dbfsResultPath": null,
       "isJsonSchema": true,
       "metadata": {},
       "overflow": false,
       "plotOptions": {
        "customPlotOptions": {},
        "displayType": "table",
        "pivotAggregation": null,
        "pivotColumns": null,
        "xColumns": null,
        "yColumns": null
       },
       "removedWidgets": [],
       "schema": [
        {
         "metadata": "{}",
         "name": "Founded",
         "type": "\"integer\""
        },
        {
         "metadata": "{}",
         "name": "count",
         "type": "\"long\""
        }
       ],
       "type": "table"
      }
     },
     "output_type": "display_data"
    },
    {
     "output_type": "display_data",
     "data": {
      "text/plain": [
       "Databricks visualization. Run in Databricks to view."
      ]
     },
     "metadata": {
      "application/vnd.databricks.v1.subcommand+json": {
       "baseErrorDetails": null,
       "bindings": {},
       "collapsed": false,
       "command": "%python\n__backend_agg_display_orig = display\n__backend_agg_dfs = []\ndef __backend_agg_display_new(df):\n    __backend_agg_df_modules = [\"pandas.core.frame\", \"databricks.koalas.frame\", \"pyspark.sql.dataframe\", \"pyspark.pandas.frame\", \"pyspark.sql.connect.dataframe\"]\n    if (type(df).__module__ in __backend_agg_df_modules and type(df).__name__ == 'DataFrame') or isinstance(df, list):\n        __backend_agg_dfs.append(df)\n\ndisplay = __backend_agg_display_new\n\ndef __backend_agg_user_code_fn():\n    import base64\n    exec(base64.standard_b64decode(\"Zm91bmRlZF95ZWFyX2NvdW50cyA9IGRmLmdyb3VwQnkoY29sKCJGb3VuZGVkIikpLmNvdW50KCkKZGlzcGxheShmb3VuZGVkX3llYXJfY291bnRzKQ==\").decode())\n\ntry:\n    # run user code\n    __backend_agg_user_code_fn()\n\n    #reset display function\n    display = __backend_agg_display_orig\n\n    if len(__backend_agg_dfs) > 0:\n        # create a temp view\n        if type(__backend_agg_dfs[0]).__module__ == \"databricks.koalas.frame\":\n            # koalas dataframe\n            __backend_agg_dfs[0].to_spark().createOrReplaceTempView(\"DatabricksView9c3341c\")\n        elif type(__backend_agg_dfs[0]).__module__ == \"pandas.core.frame\" or isinstance(__backend_agg_dfs[0], list):\n            # pandas dataframe\n            spark.createDataFrame(__backend_agg_dfs[0]).createOrReplaceTempView(\"DatabricksView9c3341c\")\n        else:\n            __backend_agg_dfs[0].createOrReplaceTempView(\"DatabricksView9c3341c\")\n        #run backend agg\n        display(spark.sql(\"\"\"WITH q AS (select * from DatabricksView9c3341c) SELECT `Founded`,SUM(`count`) `column_a6557c6f15` FROM q GROUP BY `Founded`\"\"\"))\n    else:\n        displayHTML(\"dataframe no longer exists. If you're using dataframe.display(), use display(dataframe) instead.\")\n\n\nfinally:\n    spark.sql(\"drop view if exists DatabricksView9c3341c\")\n    display = __backend_agg_display_orig\n    del __backend_agg_display_new\n    del __backend_agg_display_orig\n    del __backend_agg_dfs\n    del __backend_agg_user_code_fn\n\n",
       "commandTitle": "Visualization 1",
       "commandType": "auto",
       "commandVersion": 0,
       "commentThread": [],
       "commentsVisible": false,
       "contentSha256Hex": null,
       "customPlotOptions": {
        "redashChart": [
         {
          "key": "type",
          "value": "CHART"
         },
         {
          "key": "options",
          "value": {
           "alignYAxesAtZero": true,
           "coefficient": 1,
           "columnConfigurationMap": {
            "x": {
             "column": "Founded",
             "id": "column_a6557c6f14"
            },
            "y": [
             {
              "column": "count",
              "id": "column_a6557c6f15",
              "transform": "SUM"
             }
            ]
           },
           "dateTimeFormat": "DD/MM/YYYY HH:mm",
           "direction": {
            "type": "counterclockwise"
           },
           "error_y": {
            "type": "data",
            "visible": true
           },
           "globalSeriesType": "column",
           "isAggregationOn": true,
           "legend": {
            "traceorder": "normal"
           },
           "missingValuesAsZero": true,
           "numberFormat": "0,0.[00000]",
           "percentFormat": "0[.]00%",
           "series": {
            "error_y": {
             "type": "data",
             "visible": true
            },
            "stacking": null
           },
           "seriesOptions": {
            "column_a6557c6f15": {
             "name": "count",
             "type": "column",
             "yAxis": 0
            }
           },
           "showDataLabels": false,
           "sizemode": "diameter",
           "sortX": true,
           "sortY": true,
           "swappedAxes": false,
           "textFormat": "",
           "useAggregationsUi": true,
           "valuesOptions": {},
           "version": 2,
           "xAxis": {
            "labels": {
             "enabled": true
            },
            "type": "-"
           },
           "yAxis": [
            {
             "type": "-"
            },
            {
             "opposite": true,
             "type": "-"
            }
           ]
          }
         }
        ]
       },
       "datasetPreviewNameToCmdIdMap": {},
       "diffDeletes": [],
       "diffInserts": [],
       "displayType": "redashChart",
       "error": null,
       "errorDetails": null,
       "errorSummary": null,
       "errorTraceType": null,
       "finishTime": 0,
       "globalVars": {},
       "guid": "",
       "height": "auto",
       "hideCommandCode": false,
       "hideCommandResult": false,
       "iPythonMetadata": null,
       "inputWidgets": {},
       "isLockedInExamMode": false,
       "latestUser": "a user",
       "latestUserId": null,
       "listResultMetadata": null,
       "metadata": {},
       "nuid": "963525df-e41c-4384-aba0-b154e1731a47",
       "origId": 0,
       "parentHierarchy": [],
       "pivotAggregation": null,
       "pivotColumns": null,
       "position": 5.0,
       "resultDbfsErrorMessage": null,
       "resultDbfsStatus": "INLINED_IN_TREE",
       "results": null,
       "showCommandTitle": false,
       "startTime": 0,
       "state": "input",
       "streamStates": {},
       "subcommandOptions": {
        "queryPlan": {
         "groups": [
          {
           "column": "Founded",
           "type": "column"
          }
         ],
         "selects": [
          {
           "column": "Founded",
           "type": "column"
          },
          {
           "alias": "column_a6557c6f15",
           "args": [
            {
             "column": "count",
             "type": "column"
            }
           ],
           "function": "SUM",
           "type": "function"
          }
         ]
        }
       },
       "submitTime": 0,
       "subtype": "tableResultSubCmd.visualization",
       "tableResultIndex": 0,
       "useConsistentColors": false,
       "version": "CommandV1",
       "width": "auto",
       "workflows": [],
       "xColumns": null,
       "yColumns": null
      }
     },
     "output_type": "display_data"
    }
   ],
   "source": [
    "founded_year_counts = df.groupBy(col(\"Founded\")).count()\n",
    "display(founded_year_counts)"
   ]
  },
  {
   "cell_type": "code",
   "execution_count": 0,
   "metadata": {
    "application/vnd.databricks.v1+cell": {
     "cellMetadata": {
      "byteLimit": 2048000,
      "rowLimit": 10000
     },
     "inputWidgets": {},
     "nuid": "cc4bdcdc-eefa-46aa-a2cf-992df7ce9381",
     "showTitle": false,
     "title": ""
    }
   },
   "outputs": [
    {
     "output_type": "display_data",
     "data": {
      "text/html": [
       "<style scoped>\n",
       "  .table-result-container {\n",
       "    max-height: 300px;\n",
       "    overflow: auto;\n",
       "  }\n",
       "  table, th, td {\n",
       "    border: 1px solid black;\n",
       "    border-collapse: collapse;\n",
       "  }\n",
       "  th, td {\n",
       "    padding: 5px;\n",
       "  }\n",
       "  th {\n",
       "    text-align: left;\n",
       "  }\n",
       "</style><div class='table-result-container'><table class='table-result'><thead style='background-color: white'><tr><th>Index</th><th>Organization Id</th><th>Name</th><th>Website</th><th>Country</th><th>Description</th><th>Founded</th><th>Industry</th><th>Number of employees</th></tr></thead><tbody><tr><td>6621</td><td>82fbBaeDe23f842</td><td>Costa-Finley</td><td>https://www.mays.org/</td><td>SENEGAL</td><td>Re-engineered user-facing software</td><td>1987</td><td>Defense / Space</td><td>9999</td></tr><tr><td>3843</td><td>B3f8c49aA1b3B41</td><td>Valentine Inc</td><td>https://www.blackwell-malone.com/</td><td>KYRGYZ REPUBLIC</td><td>Customizable user-facing architecture</td><td>1984</td><td>Pharmaceuticals</td><td>9998</td></tr><tr><td>3639</td><td>Ed0fAffC701baEf</td><td>Dyer-Solis</td><td>https://www.rivers.com/</td><td>HAITI</td><td>Visionary holistic neural-net</td><td>1979</td><td>Research Industry</td><td>9997</td></tr><tr><td>1460</td><td>Beb72dAFedcC3f5</td><td>Schroeder LLC</td><td>http://www.patterson.com/</td><td>PHILIPPINES</td><td>Open-source holistic service-desk</td><td>1976</td><td>Dairy</td><td>9995</td></tr><tr><td>9464</td><td>eB024CEED0Cf52E</td><td>Briggs, Houston and Lynn</td><td>http://blanchard.com/</td><td>SINGAPORE</td><td>Secured client-server software</td><td>2015</td><td>Industrial Automation</td><td>9995</td></tr><tr><td>1018</td><td>04AaeC37782a382</td><td>Hartman, Benitez and Dalton</td><td>https://price.biz/</td><td>GABON</td><td>Distributed dedicated Local Area Network</td><td>2014</td><td>Motion Pictures / Film</td><td>9995</td></tr><tr><td>7546</td><td>6e64d7b74dEB1Bb</td><td>Mcgee Group</td><td>http://www.hunt.com/</td><td>GUERNSEY</td><td>Operative background projection</td><td>2020</td><td>International Trade / Development</td><td>9992</td></tr><tr><td>7512</td><td>0bAA03aEeA5a227</td><td>Spears PLC</td><td>https://mooney.com/</td><td>BOTSWANA</td><td>Team-oriented client-server productivity</td><td>1973</td><td>Venture Capital / VC</td><td>9992</td></tr><tr><td>3678</td><td>Dd51EdC5d2d9A8b</td><td>Bishop, Larsen and Caldwell</td><td>https://gallegos.com/</td><td>ERITREA</td><td>Self-enabling tangible approach</td><td>2012</td><td>Food Production</td><td>9990</td></tr><tr><td>9894</td><td>e8ecd5B87F9BAA4</td><td>Stafford, York and Carroll</td><td>https://roberson-baird.com/</td><td>PAKISTAN</td><td>Ameliorated analyzing contingency</td><td>1979</td><td>Music</td><td>9990</td></tr></tbody></table></div>"
      ]
     },
     "metadata": {
      "application/vnd.databricks.v1+output": {
       "addedWidgets": {},
       "aggData": [],
       "aggError": "",
       "aggOverflow": false,
       "aggSchema": [],
       "aggSeriesLimitReached": false,
       "aggType": "",
       "arguments": {},
       "columnCustomDisplayInfos": {},
       "data": [
        [
         6621,
         "82fbBaeDe23f842",
         "Costa-Finley",
         "https://www.mays.org/",
         "SENEGAL",
         "Re-engineered user-facing software",
         1987,
         "Defense / Space",
         9999
        ],
        [
         3843,
         "B3f8c49aA1b3B41",
         "Valentine Inc",
         "https://www.blackwell-malone.com/",
         "KYRGYZ REPUBLIC",
         "Customizable user-facing architecture",
         1984,
         "Pharmaceuticals",
         9998
        ],
        [
         3639,
         "Ed0fAffC701baEf",
         "Dyer-Solis",
         "https://www.rivers.com/",
         "HAITI",
         "Visionary holistic neural-net",
         1979,
         "Research Industry",
         9997
        ],
        [
         1460,
         "Beb72dAFedcC3f5",
         "Schroeder LLC",
         "http://www.patterson.com/",
         "PHILIPPINES",
         "Open-source holistic service-desk",
         1976,
         "Dairy",
         9995
        ],
        [
         9464,
         "eB024CEED0Cf52E",
         "Briggs, Houston and Lynn",
         "http://blanchard.com/",
         "SINGAPORE",
         "Secured client-server software",
         2015,
         "Industrial Automation",
         9995
        ],
        [
         1018,
         "04AaeC37782a382",
         "Hartman, Benitez and Dalton",
         "https://price.biz/",
         "GABON",
         "Distributed dedicated Local Area Network",
         2014,
         "Motion Pictures / Film",
         9995
        ],
        [
         7546,
         "6e64d7b74dEB1Bb",
         "Mcgee Group",
         "http://www.hunt.com/",
         "GUERNSEY",
         "Operative background projection",
         2020,
         "International Trade / Development",
         9992
        ],
        [
         7512,
         "0bAA03aEeA5a227",
         "Spears PLC",
         "https://mooney.com/",
         "BOTSWANA",
         "Team-oriented client-server productivity",
         1973,
         "Venture Capital / VC",
         9992
        ],
        [
         3678,
         "Dd51EdC5d2d9A8b",
         "Bishop, Larsen and Caldwell",
         "https://gallegos.com/",
         "ERITREA",
         "Self-enabling tangible approach",
         2012,
         "Food Production",
         9990
        ],
        [
         9894,
         "e8ecd5B87F9BAA4",
         "Stafford, York and Carroll",
         "https://roberson-baird.com/",
         "PAKISTAN",
         "Ameliorated analyzing contingency",
         1979,
         "Music",
         9990
        ]
       ],
       "datasetInfos": [],
       "dbfsResultPath": null,
       "isJsonSchema": true,
       "metadata": {},
       "overflow": false,
       "plotOptions": {
        "customPlotOptions": {},
        "displayType": "table",
        "pivotAggregation": null,
        "pivotColumns": null,
        "xColumns": null,
        "yColumns": null
       },
       "removedWidgets": [],
       "schema": [
        {
         "metadata": "{}",
         "name": "Index",
         "type": "\"integer\""
        },
        {
         "metadata": "{}",
         "name": "Organization Id",
         "type": "\"string\""
        },
        {
         "metadata": "{}",
         "name": "Name",
         "type": "\"string\""
        },
        {
         "metadata": "{}",
         "name": "Website",
         "type": "\"string\""
        },
        {
         "metadata": "{}",
         "name": "Country",
         "type": "\"string\""
        },
        {
         "metadata": "{}",
         "name": "Description",
         "type": "\"string\""
        },
        {
         "metadata": "{}",
         "name": "Founded",
         "type": "\"integer\""
        },
        {
         "metadata": "{}",
         "name": "Industry",
         "type": "\"string\""
        },
        {
         "metadata": "{}",
         "name": "Number of employees",
         "type": "\"integer\""
        }
       ],
       "type": "table"
      }
     },
     "output_type": "display_data"
    },
    {
     "output_type": "display_data",
     "data": {
      "text/plain": [
       "Databricks visualization. Run in Databricks to view."
      ]
     },
     "metadata": {
      "application/vnd.databricks.v1.subcommand+json": {
       "baseErrorDetails": null,
       "bindings": {},
       "collapsed": false,
       "command": "%python\n__backend_agg_display_orig = display\n__backend_agg_dfs = []\ndef __backend_agg_display_new(df):\n    __backend_agg_df_modules = [\"pandas.core.frame\", \"databricks.koalas.frame\", \"pyspark.sql.dataframe\", \"pyspark.pandas.frame\", \"pyspark.sql.connect.dataframe\"]\n    if (type(df).__module__ in __backend_agg_df_modules and type(df).__name__ == 'DataFrame') or isinstance(df, list):\n        __backend_agg_dfs.append(df)\n\ndisplay = __backend_agg_display_new\n\ndef __backend_agg_user_code_fn():\n    import base64\n    exec(base64.standard_b64decode(\"ZnJvbSBweXNwYXJrLnNxbC5mdW5jdGlvbnMgaW1wb3J0IGNvdW50CiMgVG9wIDEwIE9yZ2FuaXphdGlvbnMgYnkgTnVtYmVyIG9mIEVtcGxveWVlcwp0b3Bfb3Jnc193aXRoX2NvdW50ID0gKAogICAgZGYuZ3JvdXBCeSgiT3JnYW5pemF0aW9uIElkIikKICAgIC5hZ2coY291bnQoIk51bWJlciBvZiBlbXBsb3llZXMiKS5hbGlhcygiTnVtYmVyIG9mIEVtcGxveWVlcyIpKQogICAgLnNvcnQoY29sKCJOdW1iZXIgb2YgRW1wbG95ZWVzIikuZGVzYygpKQogICAgLmxpbWl0KDEwKQopCgpkaXNwbGF5KHRvcF9vcmdzKQ==\").decode())\n\ntry:\n    # run user code\n    __backend_agg_user_code_fn()\n\n    #reset display function\n    display = __backend_agg_display_orig\n\n    if len(__backend_agg_dfs) > 0:\n        # create a temp view\n        if type(__backend_agg_dfs[0]).__module__ == \"databricks.koalas.frame\":\n            # koalas dataframe\n            __backend_agg_dfs[0].to_spark().createOrReplaceTempView(\"DatabricksView80a6f62\")\n        elif type(__backend_agg_dfs[0]).__module__ == \"pandas.core.frame\" or isinstance(__backend_agg_dfs[0], list):\n            # pandas dataframe\n            spark.createDataFrame(__backend_agg_dfs[0]).createOrReplaceTempView(\"DatabricksView80a6f62\")\n        else:\n            __backend_agg_dfs[0].createOrReplaceTempView(\"DatabricksView80a6f62\")\n        #run backend agg\n        display(spark.sql(\"\"\"WITH q AS (select * from DatabricksView80a6f62) SELECT `Name`,`Number of employees` FROM q GROUP BY `Name`,`Number of employees`\"\"\"))\n    else:\n        displayHTML(\"dataframe no longer exists. If you're using dataframe.display(), use display(dataframe) instead.\")\n\n\nfinally:\n    spark.sql(\"drop view if exists DatabricksView80a6f62\")\n    display = __backend_agg_display_orig\n    del __backend_agg_display_new\n    del __backend_agg_display_orig\n    del __backend_agg_dfs\n    del __backend_agg_user_code_fn\n\n",
       "commandTitle": "Visualization 1",
       "commandType": "auto",
       "commandVersion": 0,
       "commentThread": [],
       "commentsVisible": false,
       "contentSha256Hex": null,
       "customPlotOptions": {
        "redashChart": [
         {
          "key": "type",
          "value": "CHART"
         },
         {
          "key": "options",
          "value": {
           "alignYAxesAtZero": true,
           "coefficient": 1,
           "columnConfigurationMap": {
            "series": {
             "column": "Number of employees",
             "id": "column_a6557c6f19"
            },
            "x": {
             "column": "Name",
             "id": "column_a6557c6f20"
            },
            "y": []
           },
           "dateTimeFormat": "DD/MM/YYYY HH:mm",
           "direction": {
            "type": "counterclockwise"
           },
           "error_y": {
            "type": "data",
            "visible": true
           },
           "globalSeriesType": "column",
           "legend": {
            "traceorder": "normal"
           },
           "missingValuesAsZero": true,
           "numberFormat": "0,0.[00000]",
           "percentFormat": "0[.]00%",
           "series": {
            "error_y": {
             "type": "data",
             "visible": true
            },
            "stacking": null
           },
           "seriesOptions": {},
           "showDataLabels": false,
           "sizemode": "diameter",
           "sortX": true,
           "sortY": true,
           "swappedAxes": false,
           "textFormat": "",
           "useAggregationsUi": true,
           "valuesOptions": {},
           "version": 2,
           "xAxis": {
            "labels": {
             "enabled": true
            },
            "type": "-"
           },
           "yAxis": [
            {
             "type": "-"
            },
            {
             "opposite": true,
             "type": "-"
            }
           ]
          }
         }
        ]
       },
       "datasetPreviewNameToCmdIdMap": {},
       "diffDeletes": [],
       "diffInserts": [],
       "displayType": "redashChart",
       "error": null,
       "errorDetails": null,
       "errorSummary": null,
       "errorTraceType": null,
       "finishTime": 0,
       "globalVars": {},
       "guid": "",
       "height": "auto",
       "hideCommandCode": false,
       "hideCommandResult": false,
       "iPythonMetadata": null,
       "inputWidgets": {},
       "isLockedInExamMode": false,
       "latestUser": "a user",
       "latestUserId": null,
       "listResultMetadata": null,
       "metadata": {},
       "nuid": "95ffe0a1-b5e6-4b3f-8f82-db587a30adee",
       "origId": 0,
       "parentHierarchy": [],
       "pivotAggregation": null,
       "pivotColumns": null,
       "position": 6.0,
       "resultDbfsErrorMessage": null,
       "resultDbfsStatus": "INLINED_IN_TREE",
       "results": null,
       "showCommandTitle": false,
       "startTime": 0,
       "state": "input",
       "streamStates": {},
       "subcommandOptions": {
        "queryPlan": {
         "groups": [
          {
           "column": "Name",
           "type": "column"
          },
          {
           "column": "Number of employees",
           "type": "column"
          }
         ],
         "selects": [
          {
           "column": "Name",
           "type": "column"
          },
          {
           "column": "Number of employees",
           "type": "column"
          }
         ]
        }
       },
       "submitTime": 0,
       "subtype": "tableResultSubCmd.visualization",
       "tableResultIndex": 0,
       "useConsistentColors": false,
       "version": "CommandV1",
       "width": "auto",
       "workflows": [],
       "xColumns": null,
       "yColumns": null
      }
     },
     "output_type": "display_data"
    }
   ],
   "source": [
    "from pyspark.sql.functions import count\n",
    "# Top 10 Organizations by Number of Employees\n",
    "top_orgs_with_count = (\n",
    "    df.groupBy(\"Organization Id\")\n",
    "    .agg(count(\"Number of employees\").alias(\"Number of Employees\"))\n",
    "    .sort(col(\"Number of Employees\").desc())\n",
    "    .limit(10)\n",
    ")\n",
    "\n",
    "display(top_orgs_with_count)"
   ]
  },
  {
   "cell_type": "code",
   "execution_count": 0,
   "metadata": {
    "application/vnd.databricks.v1+cell": {
     "cellMetadata": {},
     "inputWidgets": {},
     "nuid": "27d38943-d07e-4d9d-ae61-593d10d1178a",
     "showTitle": false,
     "title": ""
    }
   },
   "outputs": [],
   "source": []
  }
 ],
 "metadata": {
  "application/vnd.databricks.v1+notebook": {
   "dashboards": [],
   "language": "python",
   "notebookMetadata": {
    "pythonIndentUnit": 4
   },
   "notebookName": "Project",
   "widgets": {}
  }
 },
 "nbformat": 4,
 "nbformat_minor": 0
}
