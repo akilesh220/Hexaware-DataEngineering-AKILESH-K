{
 "cells": [
  {
   "cell_type": "code",
   "execution_count": 0,
   "metadata": {
    "application/vnd.databricks.v1+cell": {
     "cellMetadata": {
      "byteLimit": 2048000,
      "rowLimit": 10000
     },
     "inputWidgets": {},
     "nuid": "32f56c02-c4ef-4e7a-89d6-0aa8affa5cf1",
     "showTitle": false,
     "title": ""
    }
   },
   "outputs": [
    {
     "output_type": "stream",
     "name": "stdout",
     "output_type": "stream",
     "text": [
      "root\n |-- emp_id: long (nullable = true)\n |-- name: string (nullable = true)\n |-- Department: string (nullable = true)\n |-- salary: long (nullable = true)\n\n+------+--------+----------+------+\n|emp_id|    name|Department|salary|\n+------+--------+----------+------+\n|     1|   Smith|   finance| 30000|\n|     2|    Rose| Marketing| 40000|\n|     3|Williams|        HR| 10000|\n|     4|   Jones|   finance| 20000|\n|     5|   Eliot| Marketing| 80000|\n|     6|    Jack|   manager| 45000|\n+------+--------+----------+------+\n\n"
     ]
    }
   ],
   "source": [
    "from pyspark.sql import SparkSession\n",
    "spark =SparkSession.builder.appName(\"Practice\").getOrCreate()\n",
    "\n",
    "\n",
    "emp = [(1,\"Smith\",\"finance\",30000),(2, \"Rose\",\"Marketing\", 40000),(3,\"Williams\",\"HR\",10000),(4, \"Jones\",\"finance\",20000),(5,\"Eliot\",\"Marketing\",80000),(6, \"Jack\",\"manager\",45000)]\n",
    "empColumns = [\"emp_id\",\"name\",\"Department\",\"salary\"]\n",
    "\n",
    "empDF = spark.createDataFrame(data=emp, schema = empColumns)\n",
    "empDF.printSchema()\n",
    "empDF.show()\n"
   ]
  },
  {
   "cell_type": "code",
   "execution_count": 0,
   "metadata": {
    "application/vnd.databricks.v1+cell": {
     "cellMetadata": {
      "byteLimit": 2048000,
      "rowLimit": 10000
     },
     "inputWidgets": {},
     "nuid": "ea509748-4918-438b-bb4a-b4245591be02",
     "showTitle": false,
     "title": ""
    }
   },
   "outputs": [
    {
     "output_type": "stream",
     "name": "stdout",
     "output_type": "stream",
     "text": [
      "+----------+-----------+\n|Department|sum(salary)|\n+----------+-----------+\n|   finance|      50000|\n| Marketing|     120000|\n|        HR|      10000|\n|   manager|      45000|\n+----------+-----------+\n\n"
     ]
    }
   ],
   "source": [
    "empDF.groupBy(\"Department\").sum(\"salary\").show()"
   ]
  },
  {
   "cell_type": "code",
   "execution_count": 0,
   "metadata": {
    "application/vnd.databricks.v1+cell": {
     "cellMetadata": {
      "byteLimit": 2048000,
      "rowLimit": 10000
     },
     "inputWidgets": {},
     "nuid": "2a6cc87b-4d7f-4151-bc50-5d360c7afc8a",
     "showTitle": false,
     "title": ""
    }
   },
   "outputs": [
    {
     "output_type": "stream",
     "name": "stdout",
     "output_type": "stream",
     "text": [
      "+----------+-----------+\n|Department|min(salary)|\n+----------+-----------+\n|   finance|      20000|\n| Marketing|      40000|\n|        HR|      10000|\n|   manager|      45000|\n+----------+-----------+\n\n"
     ]
    }
   ],
   "source": [
    "empDF.groupBy(\"Department\").min(\"salary\").show()"
   ]
  },
  {
   "cell_type": "code",
   "execution_count": 0,
   "metadata": {
    "application/vnd.databricks.v1+cell": {
     "cellMetadata": {
      "byteLimit": 2048000,
      "rowLimit": 10000
     },
     "inputWidgets": {},
     "nuid": "04ecf69f-9b46-4687-a2b5-87d4911c8da0",
     "showTitle": false,
     "title": ""
    }
   },
   "outputs": [
    {
     "output_type": "stream",
     "name": "stdout",
     "output_type": "stream",
     "text": [
      "+----------+-----------+\n|Department|max(salary)|\n+----------+-----------+\n|   finance|      30000|\n| Marketing|      80000|\n|        HR|      10000|\n|   manager|      45000|\n+----------+-----------+\n\n"
     ]
    }
   ],
   "source": [
    "empDF.groupBy(\"Department\").max(\"salary\").show()"
   ]
  },
  {
   "cell_type": "code",
   "execution_count": 0,
   "metadata": {
    "application/vnd.databricks.v1+cell": {
     "cellMetadata": {
      "byteLimit": 2048000,
      "rowLimit": 10000
     },
     "inputWidgets": {},
     "nuid": "d9734ab5-f2ca-44cc-89a1-7fbd468554ca",
     "showTitle": false,
     "title": ""
    }
   },
   "outputs": [
    {
     "output_type": "stream",
     "name": "stdout",
     "output_type": "stream",
     "text": [
      "+----------+-----------+\n|Department|avg(salary)|\n+----------+-----------+\n|   finance|    25000.0|\n| Marketing|    60000.0|\n|        HR|    10000.0|\n|   manager|    45000.0|\n+----------+-----------+\n\n"
     ]
    }
   ],
   "source": [
    "empDF.groupBy(\"Department\").avg(\"salary\").show()"
   ]
  },
  {
   "cell_type": "code",
   "execution_count": 0,
   "metadata": {
    "application/vnd.databricks.v1+cell": {
     "cellMetadata": {
      "byteLimit": 2048000,
      "rowLimit": 10000
     },
     "inputWidgets": {},
     "nuid": "40cdcd14-cb56-4961-a379-5ff0e5acfb20",
     "showTitle": false,
     "title": ""
    }
   },
   "outputs": [
    {
     "output_type": "stream",
     "name": "stdout",
     "output_type": "stream",
     "text": [
      "+----------+-----------+\n|Department|avg(salary)|\n+----------+-----------+\n|   finance|    25000.0|\n| Marketing|    60000.0|\n|        HR|    10000.0|\n|   manager|    45000.0|\n+----------+-----------+\n\n"
     ]
    }
   ],
   "source": [
    "empDF.groupBy(\"Department\").mean(\"salary\").show()"
   ]
  },
  {
   "cell_type": "code",
   "execution_count": 0,
   "metadata": {
    "application/vnd.databricks.v1+cell": {
     "cellMetadata": {
      "byteLimit": 2048000,
      "rowLimit": 10000
     },
     "inputWidgets": {},
     "nuid": "70217345-f8c5-485a-b97f-050117a35ce4",
     "showTitle": false,
     "title": ""
    }
   },
   "outputs": [
    {
     "output_type": "stream",
     "name": "stdout",
     "output_type": "stream",
     "text": [
      "+----------+-----+\n|Department|count|\n+----------+-----+\n|   finance|    2|\n| Marketing|    2|\n|        HR|    1|\n|   manager|    1|\n+----------+-----+\n\n"
     ]
    }
   ],
   "source": [
    "empDF.groupBy(\"Department\").count().show()"
   ]
  },
  {
   "cell_type": "code",
   "execution_count": 0,
   "metadata": {
    "application/vnd.databricks.v1+cell": {
     "cellMetadata": {
      "byteLimit": 2048000,
      "rowLimit": 10000
     },
     "inputWidgets": {},
     "nuid": "0cf6ad8c-970a-4662-8276-18bbd7e920df",
     "showTitle": false,
     "title": ""
    }
   },
   "outputs": [
    {
     "output_type": "stream",
     "name": "stdout",
     "output_type": "stream",
     "text": [
      "+--------+----------+-----------+\n|    name|Department|sum(salary)|\n+--------+----------+-----------+\n|   Smith|   finance|      30000|\n|    Rose| Marketing|      40000|\n|Williams|        HR|      10000|\n|   Jones|   finance|      20000|\n|   Eliot| Marketing|      80000|\n|    Jack|   manager|      45000|\n+--------+----------+-----------+\n\n"
     ]
    }
   ],
   "source": [
    "empDF.groupBy(\"name\",\"Department\").sum(\"salary\").show()"
   ]
  },
  {
   "cell_type": "code",
   "execution_count": 0,
   "metadata": {
    "application/vnd.databricks.v1+cell": {
     "cellMetadata": {
      "byteLimit": 2048000,
      "rowLimit": 10000
     },
     "inputWidgets": {},
     "nuid": "f4859f17-7ed3-4764-ace3-690ae95b244e",
     "showTitle": false,
     "title": ""
    }
   },
   "outputs": [
    {
     "output_type": "stream",
     "name": "stdout",
     "output_type": "stream",
     "text": [
      "+-----------+\n|sum(salary)|\n+-----------+\n|     225000|\n+-----------+\n\n"
     ]
    }
   ],
   "source": [
    "empDF.agg(({\"salary\":\"sum\"})).show()"
   ]
  },
  {
   "cell_type": "code",
   "execution_count": 0,
   "metadata": {
    "application/vnd.databricks.v1+cell": {
     "cellMetadata": {
      "byteLimit": 2048000,
      "rowLimit": 10000
     },
     "inputWidgets": {},
     "nuid": "46bada5e-2d8c-4a5c-8195-66d9ef46b579",
     "showTitle": false,
     "title": ""
    }
   },
   "outputs": [
    {
     "output_type": "stream",
     "name": "stdout",
     "output_type": "stream",
     "text": [
      "+-----------+\n|min(salary)|\n+-----------+\n|      10000|\n+-----------+\n\n"
     ]
    }
   ],
   "source": [
    "empDF.agg(({\"salary\":\"min\"})).show()"
   ]
  },
  {
   "cell_type": "code",
   "execution_count": 0,
   "metadata": {
    "application/vnd.databricks.v1+cell": {
     "cellMetadata": {
      "byteLimit": 2048000,
      "rowLimit": 10000
     },
     "inputWidgets": {},
     "nuid": "99b3c358-a1ec-43cc-83a0-26632f085090",
     "showTitle": false,
     "title": ""
    }
   },
   "outputs": [
    {
     "output_type": "stream",
     "name": "stdout",
     "output_type": "stream",
     "text": [
      "+-----------+\n|max(salary)|\n+-----------+\n|      80000|\n+-----------+\n\n"
     ]
    }
   ],
   "source": [
    "empDF.agg(({\"salary\":\"max\"})).show()"
   ]
  },
  {
   "cell_type": "code",
   "execution_count": 0,
   "metadata": {
    "application/vnd.databricks.v1+cell": {
     "cellMetadata": {
      "byteLimit": 2048000,
      "rowLimit": 10000
     },
     "inputWidgets": {},
     "nuid": "2a563e77-8b01-4314-bb04-3be52f12ae84",
     "showTitle": false,
     "title": ""
    }
   },
   "outputs": [
    {
     "output_type": "stream",
     "name": "stdout",
     "output_type": "stream",
     "text": [
      "+-----------+\n|avg(salary)|\n+-----------+\n|    37500.0|\n+-----------+\n\n"
     ]
    }
   ],
   "source": [
    "empDF.agg(({\"salary\":\"mean\"})).show()"
   ]
  },
  {
   "cell_type": "code",
   "execution_count": 0,
   "metadata": {
    "application/vnd.databricks.v1+cell": {
     "cellMetadata": {
      "byteLimit": 2048000,
      "rowLimit": 10000
     },
     "inputWidgets": {},
     "nuid": "c8498da9-7213-4120-9e0a-d82e113c5f4b",
     "showTitle": false,
     "title": ""
    }
   },
   "outputs": [
    {
     "output_type": "stream",
     "name": "stdout",
     "output_type": "stream",
     "text": [
      "+----------+-----+-----+-----+-----+-----+--------+\n|Department|Eliot| Jack|Jones| Rose|Smith|Williams|\n+----------+-----+-----+-----+-----+-----+--------+\n|   finance| null| null|20000| null|30000|    null|\n|        HR| null| null| null| null| null|   10000|\n|   manager| null|45000| null| null| null|    null|\n| Marketing|80000| null| null|40000| null|    null|\n+----------+-----+-----+-----+-----+-----+--------+\n\n"
     ]
    }
   ],
   "source": [
    "empDF.groupBy(\"Department\").pivot(\"name\").sum(\"salary\").show()"
   ]
  },
  {
   "cell_type": "code",
   "execution_count": 0,
   "metadata": {
    "application/vnd.databricks.v1+cell": {
     "cellMetadata": {
      "byteLimit": 2048000,
      "rowLimit": 10000
     },
     "inputWidgets": {},
     "nuid": "75a956ee-45f2-407f-b3e4-763d9e81af69",
     "showTitle": false,
     "title": ""
    }
   },
   "outputs": [
    {
     "output_type": "stream",
     "name": "stdout",
     "output_type": "stream",
     "text": [
      "+------+--------+----------+------+\n|emp_id|    name|Department|salary|\n+------+--------+----------+------+\n|     3|Williams|        HR| 10000|\n|     4|   Jones|   finance| 20000|\n|     1|   Smith|   finance| 30000|\n|     2|    Rose| Marketing| 40000|\n|     6|    Jack|   manager| 45000|\n|     5|   Eliot| Marketing| 80000|\n+------+--------+----------+------+\n\n"
     ]
    }
   ],
   "source": [
    "empDF.sort(\"salary\").show() "
   ]
  },
  {
   "cell_type": "code",
   "execution_count": 0,
   "metadata": {
    "application/vnd.databricks.v1+cell": {
     "cellMetadata": {
      "byteLimit": 2048000,
      "rowLimit": 10000
     },
     "inputWidgets": {},
     "nuid": "2e93061c-c76e-49c7-9237-c004ad8ed779",
     "showTitle": false,
     "title": ""
    }
   },
   "outputs": [
    {
     "output_type": "stream",
     "name": "stdout",
     "output_type": "stream",
     "text": [
      "+------+--------+----------+------+\n|emp_id|    name|Department|salary|\n+------+--------+----------+------+\n|     5|   Eliot| Marketing| 80000|\n|     6|    Jack|   manager| 45000|\n|     2|    Rose| Marketing| 40000|\n|     1|   Smith|   finance| 30000|\n|     4|   Jones|   finance| 20000|\n|     3|Williams|        HR| 10000|\n+------+--------+----------+------+\n\n"
     ]
    }
   ],
   "source": [
    "empDF.sort(empDF[\"salary\"].desc()).show() "
   ]
  },
  {
   "cell_type": "code",
   "execution_count": 0,
   "metadata": {
    "application/vnd.databricks.v1+cell": {
     "cellMetadata": {
      "byteLimit": 2048000,
      "rowLimit": 10000
     },
     "inputWidgets": {},
     "nuid": "be7b39be-1700-4541-a678-eff100d37a4d",
     "showTitle": false,
     "title": ""
    }
   },
   "outputs": [
    {
     "output_type": "stream",
     "name": "stdout",
     "output_type": "stream",
     "text": [
      "+------+--------+----------+------+\n|emp_id|    name|Department|salary|\n+------+--------+----------+------+\n|     3|Williams|        HR| 10000|\n|     4|   Jones|   finance| 20000|\n|     1|   Smith|   finance| 30000|\n|     2|    Rose| Marketing| 40000|\n|     6|    Jack|   manager| 45000|\n|     5|   Eliot| Marketing| 80000|\n+------+--------+----------+------+\n\n"
     ]
    }
   ],
   "source": [
    "empDF.sort(\"salary\",\"name\").show() "
   ]
  },
  {
   "cell_type": "code",
   "execution_count": 0,
   "metadata": {
    "application/vnd.databricks.v1+cell": {
     "cellMetadata": {
      "byteLimit": 2048000,
      "rowLimit": 10000
     },
     "inputWidgets": {},
     "nuid": "de0dd104-b86f-4327-ac4a-0def0930fc25",
     "showTitle": false,
     "title": ""
    }
   },
   "outputs": [
    {
     "output_type": "stream",
     "name": "stdout",
     "output_type": "stream",
     "text": [
      "+------+--------+----------+------+\n|emp_id|    name|Department|salary|\n+------+--------+----------+------+\n|     1|   Smith|   finance| 30000|\n|     2|    Rose| Marketing| 40000|\n|     3|Williams|        HR| 10000|\n|     4|   Jones|   finance| 20000|\n|     5|   Eliot| Marketing| 80000|\n|     6|    Jack|   manager| 45000|\n|     7|  ronald|      null| 25000|\n+------+--------+----------+------+\n\n"
     ]
    }
   ],
   "source": [
    "from pyspark.sql import SparkSession\n",
    "spark =SparkSession.builder.appName(\"Practice\").getOrCreate()\n",
    "\n",
    "\n",
    "emp = [(1,\"Smith\",\"finance\",30000),(2, \"Rose\",\"Marketing\", 40000),(3,\"Williams\",\"HR\",10000),(4, \"Jones\",\"finance\",20000),(5,\"Eliot\",\"Marketing\",80000),(6, \"Jack\",\"manager\",45000),(7, \"ronald\",None,25000)]\n",
    "empColumns = [\"emp_id\",\"name\",\"Department\",\"salary\"]\n",
    "\n",
    "empDF1 = spark.createDataFrame(data=emp, schema = empColumns)\n",
    "empDF1.show()"
   ]
  },
  {
   "cell_type": "code",
   "execution_count": 0,
   "metadata": {
    "application/vnd.databricks.v1+cell": {
     "cellMetadata": {
      "byteLimit": 2048000,
      "rowLimit": 10000
     },
     "inputWidgets": {},
     "nuid": "180e9273-b480-49c7-8f4b-e31d352963d4",
     "showTitle": false,
     "title": ""
    }
   },
   "outputs": [
    {
     "output_type": "stream",
     "name": "stdout",
     "output_type": "stream",
     "text": [
      "+------+--------+----------+------+\n|emp_id|    name|Department|salary|\n+------+--------+----------+------+\n|     1|   Smith|   finance| 30000|\n|     2|    Rose| Marketing| 40000|\n|     3|Williams|        HR| 10000|\n|     4|   Jones|   finance| 20000|\n|     5|   Eliot| Marketing| 80000|\n|     6|    Jack|   manager| 45000|\n+------+--------+----------+------+\n\n"
     ]
    }
   ],
   "source": [
    "empDF1.na.drop().show()"
   ]
  },
  {
   "cell_type": "code",
   "execution_count": 0,
   "metadata": {
    "application/vnd.databricks.v1+cell": {
     "cellMetadata": {
      "byteLimit": 2048000,
      "rowLimit": 10000
     },
     "inputWidgets": {},
     "nuid": "ff4b92af-bd92-41ca-9b49-960231c9abff",
     "showTitle": false,
     "title": ""
    }
   },
   "outputs": [
    {
     "output_type": "stream",
     "name": "stdout",
     "output_type": "stream",
     "text": [
      "+------+--------+---------------+-----------+-----------+------+------+\n|emp_id|    name|superior_emp_id|year_joined|emp_dept_id|gender|salary|\n+------+--------+---------------+-----------+-----------+------+------+\n|     1|   Smith|             -1|       2018|         10|     M|  3000|\n|     2|    Rose|              1|       2010|         20|     M|  4000|\n|     3|Williams|              1|       2010|         10|     M|  1000|\n|     4|   Jones|              2|       2005|         10|     F|  2000|\n|     5|   Brown|              2|       2010|         40|      |    -1|\n|     6|   Brown|              2|       2010|         50|      |    -1|\n+------+--------+---------------+-----------+-----------+------+------+\n\n"
     ]
    }
   ],
   "source": [
    "from pyspark.sql import SparkSession \n",
    "spark = SparkSession.builder.getOrCreate() \n",
    "\n",
    "emp = [(1,\"Smith\",-1,\"2018\",\"10\",\"M\",3000),(2, \"Rose\",1 , \"2010\", \"20\",\"M\", 4000),(3,\"Williams\",1,\"2010\",\"10\",\"M\",1000),(4, \"Jones\",2 ,\"2005\",\"10\",\"F\",2000),(5,\"Brown\",2,\"2010\",\"40\",\"\",-1),(6, \"Brown\", 2, \"2010\",\"50\",\"\",-1)]\n",
    "empColumns = [\"emp_id\",\"name\",\"superior_emp_id\",\"year_joined\", \"emp_dept_id\",\"gender\",\"salary\"]\n",
    "\n",
    "empDF = spark.createDataFrame(data=emp, schema = empColumns)\n",
    "empDF.show()"
   ]
  },
  {
   "cell_type": "code",
   "execution_count": 0,
   "metadata": {
    "application/vnd.databricks.v1+cell": {
     "cellMetadata": {
      "byteLimit": 2048000,
      "rowLimit": 10000
     },
     "inputWidgets": {},
     "nuid": "e48c2c27-1004-44e9-9914-ccbe3c641e17",
     "showTitle": false,
     "title": ""
    }
   },
   "outputs": [
    {
     "output_type": "stream",
     "name": "stdout",
     "output_type": "stream",
     "text": [
      "+---------+-------+\n|dept_name|dept_id|\n+---------+-------+\n|  Finance|     10|\n|Marketing|     20|\n|    Sales|     30|\n|       IT|     40|\n+---------+-------+\n\n"
     ]
    }
   ],
   "source": [
    "dept = [(\"Finance\",10),(\"Marketing\",20),(\"Sales\",30),(\"IT\",40)]\n",
    "deptColumns = [\"dept_name\",\"dept_id\"]\n",
    "deptDF = spark.createDataFrame(data=dept, schema = deptColumns)\n",
    "deptDF.show()"
   ]
  },
  {
   "cell_type": "code",
   "execution_count": 0,
   "metadata": {
    "application/vnd.databricks.v1+cell": {
     "cellMetadata": {
      "byteLimit": 2048000,
      "rowLimit": 10000
     },
     "inputWidgets": {},
     "nuid": "8725ba60-68ac-4a7b-8a4b-c990d73a0bcb",
     "showTitle": false,
     "title": ""
    }
   },
   "outputs": [
    {
     "output_type": "stream",
     "name": "stdout",
     "output_type": "stream",
     "text": [
      "+------+--------+---------------+-----------+-----------+------+------+---------+-------+\n|emp_id|    name|superior_emp_id|year_joined|emp_dept_id|gender|salary|dept_name|dept_id|\n+------+--------+---------------+-----------+-----------+------+------+---------+-------+\n|     1|   Smith|             -1|       2018|         10|     M|  3000|  Finance|     10|\n|     3|Williams|              1|       2010|         10|     M|  1000|  Finance|     10|\n|     4|   Jones|              2|       2005|         10|     F|  2000|  Finance|     10|\n|     2|    Rose|              1|       2010|         20|     M|  4000|Marketing|     20|\n|     5|   Brown|              2|       2010|         40|      |    -1|       IT|     40|\n+------+--------+---------------+-----------+-----------+------+------+---------+-------+\n\n"
     ]
    }
   ],
   "source": [
    "empDF.join(deptDF,empDF.emp_dept_id ==  deptDF.dept_id,\"inner\") .show()"
   ]
  },
  {
   "cell_type": "code",
   "execution_count": 0,
   "metadata": {
    "application/vnd.databricks.v1+cell": {
     "cellMetadata": {
      "byteLimit": 2048000,
      "rowLimit": 10000
     },
     "inputWidgets": {},
     "nuid": "bba6cc7a-7d68-4f2e-b46c-56d3ce6e31cb",
     "showTitle": false,
     "title": ""
    }
   },
   "outputs": [
    {
     "output_type": "stream",
     "name": "stdout",
     "output_type": "stream",
     "text": [
      "+------+--------+---------------+-----------+-----------+------+------+---------+-------+\n|emp_id|    name|superior_emp_id|year_joined|emp_dept_id|gender|salary|dept_name|dept_id|\n+------+--------+---------------+-----------+-----------+------+------+---------+-------+\n|     1|   Smith|             -1|       2018|         10|     M|  3000|  Finance|     10|\n|     3|Williams|              1|       2010|         10|     M|  1000|  Finance|     10|\n|     4|   Jones|              2|       2005|         10|     F|  2000|  Finance|     10|\n|     2|    Rose|              1|       2010|         20|     M|  4000|Marketing|     20|\n|  null|    null|           null|       null|       null|  null|  null|    Sales|     30|\n|     5|   Brown|              2|       2010|         40|      |    -1|       IT|     40|\n|     6|   Brown|              2|       2010|         50|      |    -1|     null|   null|\n+------+--------+---------------+-----------+-----------+------+------+---------+-------+\n\n"
     ]
    }
   ],
   "source": [
    "empDF.join(deptDF,empDF.emp_dept_id ==  deptDF.dept_id,\"outer\").show()"
   ]
  },
  {
   "cell_type": "code",
   "execution_count": 0,
   "metadata": {
    "application/vnd.databricks.v1+cell": {
     "cellMetadata": {
      "byteLimit": 2048000,
      "rowLimit": 10000
     },
     "inputWidgets": {},
     "nuid": "6a2329a7-a9d0-460b-9392-c39a7f4e82cc",
     "showTitle": false,
     "title": ""
    }
   },
   "outputs": [
    {
     "output_type": "stream",
     "name": "stdout",
     "output_type": "stream",
     "text": [
      "+------+--------+---------------+-----------+-----------+------+------+---------+-------+\n|emp_id|    name|superior_emp_id|year_joined|emp_dept_id|gender|salary|dept_name|dept_id|\n+------+--------+---------------+-----------+-----------+------+------+---------+-------+\n|     1|   Smith|             -1|       2018|         10|     M|  3000|  Finance|     10|\n|     2|    Rose|              1|       2010|         20|     M|  4000|Marketing|     20|\n|     3|Williams|              1|       2010|         10|     M|  1000|  Finance|     10|\n|     4|   Jones|              2|       2005|         10|     F|  2000|  Finance|     10|\n|     5|   Brown|              2|       2010|         40|      |    -1|       IT|     40|\n|     6|   Brown|              2|       2010|         50|      |    -1|     null|   null|\n+------+--------+---------------+-----------+-----------+------+------+---------+-------+\n\n"
     ]
    }
   ],
   "source": [
    "empDF.join(deptDF,empDF.emp_dept_id ==  deptDF.dept_id,\"left\").show()"
   ]
  },
  {
   "cell_type": "code",
   "execution_count": 0,
   "metadata": {
    "application/vnd.databricks.v1+cell": {
     "cellMetadata": {
      "byteLimit": 2048000,
      "rowLimit": 10000
     },
     "inputWidgets": {},
     "nuid": "1463ca69-6228-4add-a1ce-c94c74ed52bf",
     "showTitle": false,
     "title": ""
    }
   },
   "outputs": [
    {
     "output_type": "stream",
     "name": "stdout",
     "output_type": "stream",
     "text": [
      "+------+--------+---------------+-----------+-----------+------+------+---------+-------+\n|emp_id|    name|superior_emp_id|year_joined|emp_dept_id|gender|salary|dept_name|dept_id|\n+------+--------+---------------+-----------+-----------+------+------+---------+-------+\n|     4|   Jones|              2|       2005|         10|     F|  2000|  Finance|     10|\n|     3|Williams|              1|       2010|         10|     M|  1000|  Finance|     10|\n|     1|   Smith|             -1|       2018|         10|     M|  3000|  Finance|     10|\n|     2|    Rose|              1|       2010|         20|     M|  4000|Marketing|     20|\n|  null|    null|           null|       null|       null|  null|  null|    Sales|     30|\n|     5|   Brown|              2|       2010|         40|      |    -1|       IT|     40|\n+------+--------+---------------+-----------+-----------+------+------+---------+-------+\n\n"
     ]
    }
   ],
   "source": [
    "empDF.join(deptDF,empDF.emp_dept_id ==  deptDF.dept_id,\"right\").show()"
   ]
  },
  {
   "cell_type": "code",
   "execution_count": 0,
   "metadata": {
    "application/vnd.databricks.v1+cell": {
     "cellMetadata": {
      "byteLimit": 2048000,
      "rowLimit": 10000
     },
     "inputWidgets": {},
     "nuid": "82ab126a-82db-44d4-8c10-36f0a48dc0b5",
     "showTitle": false,
     "title": ""
    }
   },
   "outputs": [
    {
     "output_type": "stream",
     "name": "stdout",
     "output_type": "stream",
     "text": [
      "+------+--------+---------------+-----------+-----------+------+------+\n|emp_id|    name|superior_emp_id|year_joined|emp_dept_id|gender|salary|\n+------+--------+---------------+-----------+-----------+------+------+\n|     1|   Smith|             -1|       2018|         10|     M|  3000|\n|     3|Williams|              1|       2010|         10|     M|  1000|\n|     4|   Jones|              2|       2005|         10|     F|  2000|\n|     2|    Rose|              1|       2010|         20|     M|  4000|\n|     5|   Brown|              2|       2010|         40|      |    -1|\n+------+--------+---------------+-----------+-----------+------+------+\n\n"
     ]
    }
   ],
   "source": [
    "empDF.join(deptDF,empDF.emp_dept_id ==  deptDF.dept_id,\"leftsemi\").show()"
   ]
  },
  {
   "cell_type": "code",
   "execution_count": 0,
   "metadata": {
    "application/vnd.databricks.v1+cell": {
     "cellMetadata": {
      "byteLimit": 2048000,
      "rowLimit": 10000
     },
     "inputWidgets": {},
     "nuid": "6b7a6dfa-f569-40b7-9a08-8fb188f8527c",
     "showTitle": false,
     "title": ""
    }
   },
   "outputs": [
    {
     "output_type": "stream",
     "name": "stdout",
     "output_type": "stream",
     "text": [
      "+------+-----+---------------+-----------+-----------+------+------+\n|emp_id| name|superior_emp_id|year_joined|emp_dept_id|gender|salary|\n+------+-----+---------------+-----------+-----------+------+------+\n|     6|Brown|              2|       2010|         50|      |    -1|\n+------+-----+---------------+-----------+-----------+------+------+\n\n"
     ]
    }
   ],
   "source": [
    "empDF.join(deptDF,empDF.emp_dept_id ==  deptDF.dept_id,\"leftanti\").show()"
   ]
  },
  {
   "cell_type": "code",
   "execution_count": 0,
   "metadata": {
    "application/vnd.databricks.v1+cell": {
     "cellMetadata": {
      "byteLimit": 2048000,
      "rowLimit": 10000
     },
     "inputWidgets": {},
     "nuid": "272e1189-f222-4e58-9f58-ba223a0fc944",
     "showTitle": false,
     "title": ""
    }
   },
   "outputs": [
    {
     "output_type": "stream",
     "name": "stdout",
     "output_type": "stream",
     "text": [
      "+-----+------------+\n|Seqno|        Name|\n+-----+------------+\n|    1|  john jones|\n|    2|tracey smith|\n|    3| amy sanders|\n+-----+------------+\n\n"
     ]
    }
   ],
   "source": [
    "from pyspark.sql import SparkSession\n",
    "\n",
    "spark = SparkSession.builder.appName('codingchallenge').getOrCreate()\n",
    "columns = [\"Seqno\",\"Name\"]\n",
    "data = [(\"1\", \"john jones\"),\n",
    "    (\"2\", \"tracey smith\"),\n",
    "    (\"3\", \"amy sanders\")]\n",
    "\n",
    "df = spark.createDataFrame(data=data,schema=columns)\n",
    "df.show()"
   ]
  },
  {
   "cell_type": "code",
   "execution_count": 0,
   "metadata": {
    "application/vnd.databricks.v1+cell": {
     "cellMetadata": {
      "byteLimit": 2048000,
      "rowLimit": 10000
     },
     "inputWidgets": {},
     "nuid": "cf0cf0e2-32e2-4368-a319-a810cc1f99dd",
     "showTitle": false,
     "title": ""
    }
   },
   "outputs": [
    {
     "output_type": "stream",
     "name": "stdout",
     "output_type": "stream",
     "text": [
      "+-----+------------+------------+\n|Seqno|        Name|  Upper_Name|\n+-----+------------+------------+\n|    1|  john jones|  JOHN JONES|\n|    2|tracey smith|TRACEY SMITH|\n|    3| amy sanders| AMY SANDERS|\n+-----+------------+------------+\n\n"
     ]
    }
   ],
   "source": [
    "from pyspark.sql.functions import upper\n",
    "df.withColumn(\"Upper_Name\", upper(df.Name)) \\\n",
    "  .show()"
   ]
  },
  {
   "cell_type": "code",
   "execution_count": 0,
   "metadata": {
    "application/vnd.databricks.v1+cell": {
     "cellMetadata": {
      "byteLimit": 2048000,
      "rowLimit": 10000
     },
     "inputWidgets": {},
     "nuid": "7742ef4b-9c8e-4fa8-924a-a34b28bee07d",
     "showTitle": false,
     "title": ""
    }
   },
   "outputs": [
    {
     "output_type": "stream",
     "name": "stdout",
     "output_type": "stream",
     "text": [
      "+-----+------------+------------+\n|Seqno|        Name| upper(Name)|\n+-----+------------+------------+\n|    1|  john jones|  JOHN JONES|\n|    2|tracey smith|TRACEY SMITH|\n|    3| amy sanders| AMY SANDERS|\n+-----+------------+------------+\n\n"
     ]
    }
   ],
   "source": [
    "df.select(\"Seqno\",\"Name\", upper(df.Name)) \\\n",
    "  .show()"
   ]
  },
  {
   "cell_type": "code",
   "execution_count": 0,
   "metadata": {
    "application/vnd.databricks.v1+cell": {
     "cellMetadata": {
      "byteLimit": 2048000,
      "rowLimit": 10000
     },
     "inputWidgets": {},
     "nuid": "d2a104f6-3822-40b3-815e-68ad31f517a5",
     "showTitle": false,
     "title": ""
    }
   },
   "outputs": [
    {
     "output_type": "stream",
     "name": "stdout",
     "output_type": "stream",
     "text": [
      "+-----+------------+------------+\n|Seqno|        Name| upper(Name)|\n+-----+------------+------------+\n|    1|  john jones|  JOHN JONES|\n|    2|tracey smith|TRACEY SMITH|\n|    3| amy sanders| AMY SANDERS|\n+-----+------------+------------+\n\n"
     ]
    }
   ],
   "source": [
    "df.createOrReplaceTempView(\"TAB\")\n",
    "spark.sql(\"select Seqno, Name, UPPER(Name) from TAB\") \\\n",
    "     .show() "
   ]
  }
 ],
 "metadata": {
  "application/vnd.databricks.v1+notebook": {
   "dashboards": [],
   "language": "python",
   "notebookMetadata": {
    "pythonIndentUnit": 4
   },
   "notebookName": "Coding Assessment-Pyspark",
   "widgets": {}
  }
 },
 "nbformat": 4,
 "nbformat_minor": 0
}
